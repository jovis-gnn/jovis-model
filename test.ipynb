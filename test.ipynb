{
 "cells": [
  {
   "cell_type": "code",
   "execution_count": 1,
   "metadata": {},
   "outputs": [],
   "source": [
    "from jovis_model.configs.config import Config"
   ]
  },
  {
   "cell_type": "code",
   "execution_count": 5,
   "metadata": {},
   "outputs": [
    {
     "name": "stdout",
     "output_type": "stream",
     "text": [
      "command='train' task='ynat' output_dir='abcd' gpus=None fp16=None num_sanity_val_steps=2 max_grad_norm=1.0 gradient_accumulation_steps=1 seed=42 metric_key='loss' patience=5 early_stopping_mode='max' train_config={'m_name': 'abcd', 'config_name': 'abcd', 'tokenizer_name': 'abcd', 'cache_dir': 'abcd', 'encoder_layerdrop': 0.5, 'decode_layerdrop': 0.5, 'dropout': 0.5, 'attention_dropout': 0.5, 'adafactor': True}\n"
     ]
    }
   ],
   "source": [
    "c = Config(\n",
    "    **{\n",
    "        \"command\": \"train\",\n",
    "        \"task\": \"ynat\",\n",
    "        \"output_dir\": \"abcd\",\n",
    "        \"train_config\": {\n",
    "            \"m_name\": \"abcd\",\n",
    "            \"config_name\": \"abcd\",\n",
    "            \"tokenizer_name\": \"abcd\",\n",
    "            \"cache_dir\": \"abcd\",\n",
    "            \"encoder_layerdrop\": 0.5,\n",
    "            \"decode_layerdrop\": 0.5,\n",
    "            \"dropout\": 0.5,\n",
    "            \"attention_dropout\": 0.5,\n",
    "            \"adafactor\": True\n",
    "        }\n",
    "    }\n",
    ")"
   ]
  },
  {
   "cell_type": "code",
   "execution_count": 6,
   "metadata": {},
   "outputs": [
    {
     "data": {
      "text/plain": [
       "Config(command='train', task='ynat', output_dir='abcd', gpus=None, fp16=None, num_sanity_val_steps=2, max_grad_norm=1.0, gradient_accumulation_steps=1, seed=42, metric_key='loss', patience=5, early_stopping_mode='max', train_config=TrainConfig(m_name='abcd', config_name='abcd', tokenizer_name='abcd', cache_dir='abcd', encoder_layerdrop=0.5, decode_layerdrop=0.5, dropout=0.5, attention_dropout=0.5, learning_rate=5e-05, weight_decay=0.0, adam_epsilon=1e-08, warmup_steps=None, warmup_ratio=None, num_train_epochs=4, adafactor=True, verbose_step_count=100))"
      ]
     },
     "execution_count": 6,
     "metadata": {},
     "output_type": "execute_result"
    }
   ],
   "source": [
    "c"
   ]
  },
  {
   "cell_type": "code",
   "execution_count": null,
   "metadata": {},
   "outputs": [],
   "source": []
  }
 ],
 "metadata": {
  "kernelspec": {
   "display_name": ".venv",
   "language": "python",
   "name": "python3"
  },
  "language_info": {
   "codemirror_mode": {
    "name": "ipython",
    "version": 3
   },
   "file_extension": ".py",
   "mimetype": "text/x-python",
   "name": "python",
   "nbconvert_exporter": "python",
   "pygments_lexer": "ipython3",
   "version": "3.10.10"
  }
 },
 "nbformat": 4,
 "nbformat_minor": 2
}
