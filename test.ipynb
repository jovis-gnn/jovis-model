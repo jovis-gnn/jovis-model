{
 "cells": [
  {
   "cell_type": "markdown",
   "metadata": {},
   "source": [
    "# Import"
   ]
  },
  {
   "cell_type": "code",
   "execution_count": 2,
   "metadata": {},
   "outputs": [],
   "source": [
    "import json\n",
    "from jovis_model.configs.base import BaseConfig\n",
    "from jovis_model.datasets.common import CommonDataModule"
   ]
  },
  {
   "cell_type": "code",
   "execution_count": 2,
   "metadata": {},
   "outputs": [],
   "source": [
    "params = {\n",
    "    \"pkg\": \"klue\",\n",
    "    \"task\": \"ynat\",\n",
    "    \"data_dir\": \"/home/omnious/workspace/jovis/jovis-model/_db/klue/ynat-v1.1\",\n",
    "    \"train_file_name\": \"ynat-v1.1_train.json\",\n",
    "    \"dev_file_name\": \"ynat-v1.1_dev.json\",\n",
    "    \"output_dir\": \"/home/omnious/workspace/jovis/jovis-model/outputs\",\n",
    "}"
   ]
  },
  {
   "cell_type": "code",
   "execution_count": 3,
   "metadata": {},
   "outputs": [
    {
     "name": "stdout",
     "output_type": "stream",
     "text": [
      "{}\n"
     ]
    }
   ],
   "source": [
    "config = BaseConfig(\n",
    "    **params\n",
    ")"
   ]
  },
  {
   "cell_type": "code",
   "execution_count": 4,
   "metadata": {},
   "outputs": [
    {
     "data": {
      "text/plain": [
       "BaseConfig(pkg='klue', task='ynat', data_dir='/home/omnious/workspace/jovis/jovis-model/_db/klue/ynat-v1.1', train_file_name='ynat-v1.1_train.json', dev_file_name='ynat-v1.1_dev.json', test_file_name=None, output_dir='/home/omnious/workspace/jovis/jovis-model/outputs', gpus=1, fp16=True, params=KLUEConfig(hf_name='klue/roberta-base', config_name='klue/roberta-base', tokenizer_name='klue/roberta-base', cache_dir=None, num_workers=4, train_batch_size=32, eval_batch_size=64, max_seq_length=128, num_sanity_val_steps=2, max_grad_norm=1.0, gradient_accumulation_steps=1, seed=42, metric='loss', patience=5, early_stopping_mode='max', encoder_layerdrop=None, decode_layerdrop=None, dropout=None, attention_dropout=None, learning_rate=5e-05, weight_decay=0.0, adam_epsilon=1e-08, warmup_steps=None, warmup_ratio=None, num_train_epochs=4, adafactor=True, verbose_step_count=100))"
      ]
     },
     "execution_count": 4,
     "metadata": {},
     "output_type": "execute_result"
    }
   ],
   "source": [
    "dm = CommonDataModule(config)"
   ]
  },
  {
   "cell_type": "code",
   "execution_count": null,
   "metadata": {},
   "outputs": [],
   "source": []
  },
  {
   "cell_type": "code",
   "execution_count": null,
   "metadata": {},
   "outputs": [],
   "source": [
    "config.to_json()"
   ]
  },
  {
   "cell_type": "code",
   "execution_count": null,
   "metadata": {},
   "outputs": [],
   "source": [
    "class CommonTrainer:\n",
    "    def __init__(self, task, dataset_params, train_params):\n",
    "        "
   ]
  },
  {
   "cell_type": "code",
   "execution_count": null,
   "metadata": {},
   "outputs": [],
   "source": [
    "data_path = \"jovis_model/_db/klue/ynat-v1.1/ynat-v1.1_dev.json\"\n",
    "with open(data_path, \"r\", encoding=\"utf-8\") as f:\n",
    "    data_lst = json.load(f)"
   ]
  },
  {
   "cell_type": "code",
   "execution_count": null,
   "metadata": {},
   "outputs": [],
   "source": [
    "data_lst[0]"
   ]
  },
  {
   "cell_type": "code",
   "execution_count": null,
   "metadata": {},
   "outputs": [],
   "source": [
    "c = Config(\n",
    "    **{\n",
    "        \"command\": \"train\",\n",
    "        \"task\": \"ynat\",\n",
    "        \"output_dir\": \"abcd\",\n",
    "        \"train_config\": {\n",
    "            \"m_name\": \"abcd\",\n",
    "            \"config_name\": \"abcd\",\n",
    "            \"tokenizer_name\": \"abcd\",\n",
    "            \"cache_dir\": \"abcd\",\n",
    "            \"encoder_layerdrop\": 0.5,\n",
    "            \"decode_layerdrop\": 0.5,\n",
    "            \"dropout\": 0.5,\n",
    "            \"attention_dropout\": 0.5,\n",
    "            \"adafactor\": True\n",
    "        }\n",
    "    }\n",
    ")"
   ]
  },
  {
   "cell_type": "code",
   "execution_count": null,
   "metadata": {},
   "outputs": [],
   "source": [
    "c"
   ]
  },
  {
   "cell_type": "code",
   "execution_count": null,
   "metadata": {},
   "outputs": [],
   "source": []
  }
 ],
 "metadata": {
  "kernelspec": {
   "display_name": ".venv",
   "language": "python",
   "name": "python3"
  },
  "language_info": {
   "codemirror_mode": {
    "name": "ipython",
    "version": 3
   },
   "file_extension": ".py",
   "mimetype": "text/x-python",
   "name": "python",
   "nbconvert_exporter": "python",
   "pygments_lexer": "ipython3",
   "version": "3.10.10"
  }
 },
 "nbformat": 4,
 "nbformat_minor": 2
}
