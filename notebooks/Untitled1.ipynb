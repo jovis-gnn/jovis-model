{
 "cells": [
  {
   "cell_type": "markdown",
   "id": "538123a0-a1b0-4a5c-855b-a48800e458ed",
   "metadata": {
    "tags": []
   },
   "source": [
    "# Import"
   ]
  },
  {
   "cell_type": "code",
   "execution_count": 1,
   "id": "95c9bf41-53e1-46b7-a4c7-243824d6caa7",
   "metadata": {
    "tags": []
   },
   "outputs": [],
   "source": [
    "import os\n",
    "\n",
    "os.chdir(os.path.dirname(os.getcwd()))"
   ]
  },
  {
   "cell_type": "code",
   "execution_count": 2,
   "id": "9f712a3c-52b2-4312-8064-edb3d4924fc4",
   "metadata": {
    "tags": []
   },
   "outputs": [],
   "source": [
    "import json\n",
    "from tqdm import tqdm\n",
    "from collections import defaultdict\n",
    "\n",
    "import boto3\n",
    "import numpy as np\n",
    "from sklearn.metrics import confusion_matrix\n",
    "\n",
    "\n",
    "from jovis_model.config import Config\n",
    "from run import ModelRunner"
   ]
  },
  {
   "cell_type": "markdown",
   "id": "752f0f82-eea1-4239-a3ee-ce7cfc64a114",
   "metadata": {
    "tags": []
   },
   "source": [
    "# Bedrock"
   ]
  },
  {
   "cell_type": "code",
   "execution_count": 7,
   "id": "17ae0a83-836b-491c-9b20-19314b3f9281",
   "metadata": {
    "tags": []
   },
   "outputs": [
    {
     "name": "stderr",
     "output_type": "stream",
     "text": [
      "04:45:34:PM:INFO: data module loaded\n",
      "04:45:34:PM:INFO: model module loaded\n"
     ]
    }
   ],
   "source": [
    "params = {\n",
    "    \"pkg\": \"llm\",\n",
    "    \"task\": \"bedrock\",\n",
    "    \"use_hf_model\": False,\n",
    "    \"params\": {\n",
    "        \"m_type_id\": \"anthropic.claude-3-haiku-20240307-v1:0\",\n",
    "        \"max_new_tokens\": 400,\n",
    "    }\n",
    "}\n",
    "config = Config(**params)\n",
    "runner = ModelRunner(\n",
    "    config=config,\n",
    "    mode=\"inference\"\n",
    ")"
   ]
  },
  {
   "cell_type": "markdown",
   "id": "03a930f6-0d7f-4efa-a84f-961770869777",
   "metadata": {},
   "source": [
    "# Keyword Extractor"
   ]
  },
  {
   "cell_type": "markdown",
   "id": "b708f3d3-8bcc-46dc-8393-c8a9218d7510",
   "metadata": {},
   "source": [
    "### Testset generation"
   ]
  },
  {
   "cell_type": "code",
   "execution_count": 88,
   "id": "cdf99cbb-9e46-42e4-b6c7-1935dadb8e7f",
   "metadata": {
    "tags": []
   },
   "outputs": [],
   "source": [
    "gen_prompt = \"\"\"\n",
    "You are an expert to generate utterances which can be used as an input to a e-commerce chatbot system.\n",
    "Generally, these utterances are related to fashion items worn by celebrities or actors in tv shows.\n",
    "Your task is to generate utterances using some keywords.\n",
    "\n",
    "Here is the list of keywords:\n",
    "<keyword>\n",
    "1. target-item: product categories the user is looking for. Available high-level categories are accessories, bags, belts, glasses, gloves, har_accessories, hats, jewelries, key_ring, outwears, pants, scarf/muffler, shoes, skirts, socks, swimwears, tie, tops, watches, wholebodies.\n",
    "2. target-attribute: product attributes of the target item. Available high-level attributes are color, material, print, neckline, length, season, place, occasion, style.\n",
    "3. program-name: name of the TV show\n",
    "4. actor-name: name of the actor or actress\n",
    "5. brand: brand of the product. (e.g., Gucci, Nike, etc.)\n",
    "6. price: price or price range\n",
    "</keyword>\n",
    "\n",
    "<scratchpad>\n",
    "Before generating utterance, take a moment to select keywords in high-level and those values.\n",
    "</scratchpad>\n",
    "\n",
    "Here is the output format you should consider.\n",
    "<output_format>\n",
    "Provide your output in the following JSON format only. Enclose your JSON output with `<output>` and `</output>`:\n",
    "<output>\n",
    "{\n",
    "    \"utterance\": <value>,\n",
    "    \"used_keywords\": {\n",
    "        \"target-item\": {\n",
    "            <high-level>: <value>,\n",
    "            <high-level>: <value>,\n",
    "        }\n",
    "        \"target-attribute\": {\n",
    "            <high-level>: <value>,\n",
    "            <high-level>: <value>,\n",
    "        }\n",
    "        \"program-name\": <value>,\n",
    "        \"actor-name\": <value>,\n",
    "        \"brand\": <value>,\n",
    "        \"price\": <value>\n",
    "    }\n",
    "}\n",
    "</output>\n",
    "There's some rule:\n",
    "1. ONLY one utterance\n",
    "2. NO KEYWORD informations in utterance.\n",
    "3. There are multiple options for target-item and target-attribute.\n",
    "4. For unused keywords, <value> MUST be \"NONE\".\n",
    "5. All the <value> MUST be in Korean.\n",
    "</output_format>\n",
    "\"\"\""
   ]
  },
  {
   "cell_type": "code",
   "execution_count": 107,
   "id": "ccf5dad9-475f-4c3a-ad3d-f101b3da1850",
   "metadata": {
    "tags": []
   },
   "outputs": [],
   "source": [
    "dialogs = [\n",
    "    {\"role\": \"user\", \"content\": gen_prompt}\n",
    "]"
   ]
  },
  {
   "cell_type": "code",
   "execution_count": 108,
   "id": "5437a63b-19a9-4098-91d1-cb128c0c4c7b",
   "metadata": {
    "tags": []
   },
   "outputs": [],
   "source": [
    "res = runner.run(sample_inputs=dialogs)"
   ]
  },
  {
   "cell_type": "code",
   "execution_count": 109,
   "id": "c87efd7d-287b-4979-adc9-0c3ab024bb24",
   "metadata": {
    "tags": []
   },
   "outputs": [
    {
     "name": "stdout",
     "output_type": "stream",
     "text": [
      "<output>\n",
      "{\n",
      "    \"utterance\": \"모니카 벨루치가 'Friends' 에서 입고 있던 그 갈색 가죽 숄더백은 브랜드 'Gucci'의 제품이었어요. 가격은 보통 200만원대 정도로 알고 있습니다.\",\n",
      "    \"used_keywords\": {\n",
      "        \"target-item\": {\n",
      "            \"bags\": \"숄더백\"\n",
      "        },\n",
      "        \"target-attribute\": {\n",
      "            \"color\": \"갈색\",\n",
      "            \"material\": \"가죽\"\n",
      "        },\n",
      "        \"program-name\": \"Friends\",\n",
      "        \"actor-name\": \"모니카 벨루치\",\n",
      "        \"brand\": \"Gucci\",\n",
      "        \"price\": \"약 200만원대\"\n",
      "    }\n",
      "}\n",
      "</output>\n"
     ]
    }
   ],
   "source": [
    "print(res)"
   ]
  },
  {
   "cell_type": "markdown",
   "id": "9166e96c-26a9-49b5-81e9-7fbaa10f2d4e",
   "metadata": {},
   "source": [
    "### Evaluation"
   ]
  },
  {
   "cell_type": "code",
   "execution_count": null,
   "id": "eb9966b3-07fc-4f69-904e-e23eff28daf5",
   "metadata": {},
   "outputs": [],
   "source": [
    "test_prompt = \"\"\"\n",
    "You are an agent for an e-commerce chatbot system. Your task is to extract relevant keywords from the user's query and chat history to help the specialized agents search for appropriate products.\n",
    "\n",
    "Here is the chat history:\n",
    "<chat_history>\n",
    "{{CHAT_HISTORY}}\n",
    "</chat_history>\n",
    "\n",
    "The current user query is:\n",
    "<current_user_query>\n",
    "{{REFINED_QUERY}}\n",
    "</current_user_query>\n",
    "\n",
    "Today's date is:\n",
    "<today_date>\n",
    "{{TODAY_DATE}}\n",
    "</today_date>\n",
    "\n",
    "<keyword_extraction>\n",
    "Next, extract the following relevant keywords from the user's query:\n",
    "1. target-item: the item the user is looking for (e.g., t-shirt, jeans, shoes). target-item is a category of clothing, shoes, bags, etc., and brands or other nouns are not target items. If you find multiple \"target-item\" make sure to fill in all the additional information for each one.\n",
    "2. target-attribute: attributes of the target item (e.g., color, material, print, neckline, length, occasion, mood, style)\n",
    "3. program-name: name of the TV show\n",
    "4. actor-name: name of the actor or actress (e.g 오연서, 김종민)\n",
    "5. looking-for-popular: This value is True or False (boolean). For example, when a user asks about popular items, such as what are trend t-shirts these days?, this value is True.\n",
    "6. brand: brand of the product. (e.g., Gucci, Nike, etc.)\n",
    "7. price: price or price range the user asked for. the format should be <min_price>-<max_price> (e.g., below 1000 krw: -1000 / above 10000krw: 10000- / around 100000: 50000-150000)\n",
    "8. time: time range of tv show. given date of <today_date>, extract asked time period in the format of YYYYMMDD-YYYYMMDD\n",
    "Each keyword should have an empty string value if there is no corresponding information in the user's query. Do not make things up.\n",
    "</keyword_extraction>\n",
    "\n",
    "<output_format>\n",
    "Provide your output in the following JSON format only. Enclose your JSON output with `<output>` and `</output>`:\n",
    "<output>{\"role\": \"keyword_extractor\", \"target-item\": [<item1>, <item2>], \"target-attribute\": {<item1>: {\"looking-for-popular\": <value>, \"program-name\": <value>, \"actor-name\": <value>, \"brand\": <value>, \"price\": <value>, \"time\": <value>, <attribute1>: <value>, <attribute2>:<value>, ...}, <item2> : {\"looking-for-popular\": <value>, \"program-name\": <value>, \"actor-name\": <value>, \"brand\": <value>, \"price\": <value>, \"time\": <value>, <attribute1>: <value>, <attribute2>:<value>, ...}}}</output>\n",
    "</output_format>\n",
    "\"\"\""
   ]
  }
 ],
 "metadata": {
  "kernelspec": {
   "display_name": "jovis-model-py3.10",
   "language": "python",
   "name": "jovis-model-py3.10"
  },
  "language_info": {
   "codemirror_mode": {
    "name": "ipython",
    "version": 3
   },
   "file_extension": ".py",
   "mimetype": "text/x-python",
   "name": "python",
   "nbconvert_exporter": "python",
   "pygments_lexer": "ipython3",
   "version": "3.10.10"
  }
 },
 "nbformat": 4,
 "nbformat_minor": 5
}
