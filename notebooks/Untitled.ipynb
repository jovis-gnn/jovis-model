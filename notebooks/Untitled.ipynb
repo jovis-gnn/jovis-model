{
 "cells": [
  {
   "cell_type": "code",
   "execution_count": 1,
   "id": "d521c584-67a5-4aa9-b484-d02af7a948ea",
   "metadata": {
    "tags": []
   },
   "outputs": [],
   "source": [
    "import os\n",
    "\n",
    "os.chdir(os.path.dirname(os.getcwd()))"
   ]
  },
  {
   "cell_type": "code",
   "execution_count": 2,
   "id": "e31b3d31-a60d-4806-ae70-19bbdb1be988",
   "metadata": {
    "tags": []
   },
   "outputs": [],
   "source": [
    "from jovis_model.config import Config"
   ]
  }
 ],
 "metadata": {
  "kernelspec": {
   "display_name": "jovis-model-py3.10",
   "language": "python",
   "name": "jovis-model-py3.10"
  },
  "language_info": {
   "codemirror_mode": {
    "name": "ipython",
    "version": 3
   },
   "file_extension": ".py",
   "mimetype": "text/x-python",
   "name": "python",
   "nbconvert_exporter": "python",
   "pygments_lexer": "ipython3",
   "version": "3.10.10"
  }
 },
 "nbformat": 4,
 "nbformat_minor": 5
}
