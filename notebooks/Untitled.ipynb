{
 "cells": [
  {
   "cell_type": "code",
   "execution_count": 1,
   "id": "166519cb-1e97-4d66-8f52-7665503927f6",
   "metadata": {
    "tags": []
   },
   "outputs": [],
   "source": [
    "import requests\n",
    "\n",
    "from dataclasses import dataclass\n",
    "from elasticsearch import Elasticsearch"
   ]
  },
  {
   "cell_type": "code",
   "execution_count": 20,
   "id": "d521c584-67a5-4aa9-b484-d02af7a948ea",
   "metadata": {
    "tags": []
   },
   "outputs": [],
   "source": [
    "import os\n",
    "\n",
    "os.chdir(os.path.dirname(os.getcwd()))"
   ]
  },
  {
   "cell_type": "code",
   "execution_count": 2,
   "id": "3e667f76-ea5f-4138-b61c-08e4ca5b35ab",
   "metadata": {
    "tags": []
   },
   "outputs": [],
   "source": [
    "@dataclass\n",
    "class Config:\n",
    "    ES_URL: str = \"http://flush-es-v3.dev.omnious.com\"\n",
    "    ES_PORT: int = 30313\n",
    "    ES_LOGIN_ID: str = \"elastic\"\n",
    "    ES_LOGIN_PWD: str = \"5P44CV414Pxb4f7R7nfU1rkq\"\n",
    "    ES_INDEX: str = \"01hz64dqt6h8fqkmm78eyz52sd\"\n",
    "    \n",
    "    ES_RETRY_COUNT: int = 3\n",
    "    ES_TIMEOUT: int = 2\n",
    "    ES_MAX_COUNT: int = 1000"
   ]
  },
  {
   "cell_type": "code",
   "execution_count": 4,
   "id": "422f45f6-8991-46ae-b05d-5a79da53ac16",
   "metadata": {
    "tags": []
   },
   "outputs": [],
   "source": [
    "class ElasticsearchService:\n",
    "    def __init__(self, config, timeout: int = 30):\n",
    "        self.es = Elasticsearch(\n",
    "            f\"{config.ES_URL}:{config.ES_PORT}\",\n",
    "            http_auth=(config.ES_LOGIN_ID, config.ES_LOGIN_PWD),\n",
    "            timeout=config.ES_TIMEOUT,\n",
    "            max_retries=config.ES_RETRY_COUNT,\n",
    "            retry_on_timeout=True,\n",
    "        )\n",
    "\n",
    "    def search(self, index: str, query: list, size: int = 10):\n",
    "        tmp_res, query = query\n",
    "        try:\n",
    "            es_results = self.es.search(\n",
    "                index=index,\n",
    "                query={\n",
    "                    \"bool\": {\n",
    "                        \"should\": [\n",
    "                            (\n",
    "                                {\"term\": {k: v}}\n",
    "                                if not isinstance(v, list)\n",
    "                                else {\"terms\": {k: v}}\n",
    "                            )\n",
    "                            for k, v in query.items()\n",
    "                        ]\n",
    "                    }\n",
    "                },\n",
    "                source_excludes=[\n",
    "                    \"clip_features_l2_norm\",\n",
    "                    \"embedded_features_l2_norm\",\n",
    "                    \"duplicate_features_l2_norm\",\n",
    "                ],\n",
    "                size=size,\n",
    "            )\n",
    "            es_results = es_results.get(\"hits\", dict()).get(\"hits\", list())\n",
    "            return es_results\n",
    "        except Exception as e:\n",
    "            raise Exception(f\"{e}, check the result : {tmp_res}, query : {query}\")"
   ]
  },
  {
   "cell_type": "code",
   "execution_count": 3,
   "id": "2675bd7e-6e4d-4057-900c-17d7441f454f",
   "metadata": {
    "tags": []
   },
   "outputs": [],
   "source": [
    "config = Config\n",
    "\n",
    "es = ElasticsearchService(config=config)"
   ]
  },
  {
   "cell_type": "code",
   "execution_count": 6,
   "id": "dec017ed-42c7-4a59-bf5e-b5441a8e902f",
   "metadata": {
    "tags": []
   },
   "outputs": [],
   "source": [
    "query = {\n",
    "    \"bool\": {\n",
    "        \"must\": {\n",
    "            \"exists\": {\n",
    "                \"field\": \"semantic_vectors_l2_norm\"\n",
    "            }\n",
    "        }\n",
    "    }\n",
    "}\n",
    "hits = []\n",
    "scroll_id_list = []\n",
    "\n",
    "es_results = es.es.search(\n",
    "    index=config.ES_INDEX,\n",
    "    query=query,\n",
    "    size=10000,\n",
    "    scroll=\"1m\",\n",
    "    track_total_hits=True\n",
    ")\n",
    "tmp_hits = es_results.get(\"hits\", dict()).get(\"hits\", list())\n",
    "hits.extend(tmp_hits)\n",
    "\n",
    "scroll_id = es_results[\"_scroll_id\"]\n",
    "scroll_id_list.append(scroll_id)\n",
    "while len(tmp_hits):\n",
    "    es_results = es.es.scroll(\n",
    "        scroll_id=scroll_id_list[-1],\n",
    "        scroll=\"1m\"\n",
    "    )\n",
    "    tmp_scroll_id = es_results[\"_scroll_id\"]\n",
    "    scroll_id_list.append(tmp_scroll_id)\n",
    "    tmp_hits = es_results.get(\"hits\", dict()).get(\"hits\", list())\n",
    "    hits.extend(tmp_hits)"
   ]
  },
  {
   "cell_type": "code",
   "execution_count": 13,
   "id": "ed404e07-a396-48bc-a987-03c2f1430bab",
   "metadata": {
    "tags": []
   },
   "outputs": [],
   "source": [
    "pids, embeddings = [], []\n",
    "for h in hits:\n",
    "    pid = h[\"_source\"][\"productId\"]\n",
    "    embed = h[\"_source\"][\"embedded_features_l2_norm\"]\n",
    "    pids.append(pid)\n",
    "    embeddings.append(embed)"
   ]
  },
  {
   "cell_type": "code",
   "execution_count": 18,
   "id": "fad9e0db-19a5-4044-a93d-711345f1e002",
   "metadata": {
    "tags": []
   },
   "outputs": [],
   "source": [
    "from jovis_model.utils.helper import build_faiss_index"
   ]
  },
  {
   "cell_type": "code",
   "execution_count": 21,
   "id": "c41d5a06-c0c1-4d23-9bc8-964b159c55cb",
   "metadata": {
    "tags": []
   },
   "outputs": [],
   "source": [
    "build_faiss_index(\n",
    "    embeddings=embeddings,\n",
    "    save_path=\"outputs/skb\",\n",
    "    save_name=\"KB_with_des_cohere\",\n",
    "    pids=pids\n",
    ")"
   ]
  },
  {
   "cell_type": "code",
   "execution_count": null,
   "id": "411bd87a-7504-42fc-a80e-e9345096f0d2",
   "metadata": {},
   "outputs": [],
   "source": []
  }
 ],
 "metadata": {
  "kernelspec": {
   "display_name": "jovis-model-py3.10",
   "language": "python",
   "name": "jovis-model-py3.10"
  },
  "language_info": {
   "codemirror_mode": {
    "name": "ipython",
    "version": 3
   },
   "file_extension": ".py",
   "mimetype": "text/x-python",
   "name": "python",
   "nbconvert_exporter": "python",
   "pygments_lexer": "ipython3",
   "version": "3.10.10"
  }
 },
 "nbformat": 4,
 "nbformat_minor": 5
}
