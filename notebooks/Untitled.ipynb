{
 "cells": [
  {
   "cell_type": "code",
   "execution_count": 1,
   "id": "d521c584-67a5-4aa9-b484-d02af7a948ea",
   "metadata": {
    "tags": []
   },
   "outputs": [],
   "source": [
    "import os\n",
    "\n",
    "os.chdir(os.path.dirname(os.getcwd()))"
   ]
  },
  {
   "cell_type": "code",
   "execution_count": 2,
   "id": "e31b3d31-a60d-4806-ae70-19bbdb1be988",
   "metadata": {
    "tags": []
   },
   "outputs": [],
   "source": [
    "import argparse\n",
    "\n",
    "from jovis_model.config import Config"
   ]
  },
  {
   "cell_type": "code",
   "execution_count": 3,
   "id": "b1856495-22a1-48c0-94d2-b225f513f6b6",
   "metadata": {
    "tags": []
   },
   "outputs": [],
   "source": [
    "parser = argparse.ArgumentParser()"
   ]
  },
  {
   "cell_type": "code",
   "execution_count": 25,
   "id": "ebdd1a4f-54e4-4418-8000-e6b3688959af",
   "metadata": {
    "tags": []
   },
   "outputs": [
    {
     "data": {
      "text/plain": [
       "dict_items([('pkg', FieldInfo(annotation=str, required=True)), ('task', FieldInfo(annotation=str, required=True)), ('use_hf_model', FieldInfo(annotation=bool, required=True)), ('data_dir', FieldInfo(annotation=str, required=False, default=None)), ('output_dir', FieldInfo(annotation=str, required=False, default=None)), ('train_file_name', FieldInfo(annotation=str, required=False, default=None)), ('eval_file_name', FieldInfo(annotation=str, required=False, default=None)), ('test_file_name', FieldInfo(annotation=str, required=False, default=None)), ('params', FieldInfo(annotation=dict, required=False, default_factory=dict))])"
      ]
     },
     "execution_count": 25,
     "metadata": {},
     "output_type": "execute_result"
    }
   ],
   "source": [
    "Config.model_fields.i"
   ]
  },
  {
   "cell_type": "code",
   "execution_count": 4,
   "id": "294e9f91-398e-4b37-86e6-85cf1871bcbf",
   "metadata": {
    "tags": []
   },
   "outputs": [],
   "source": [
    "fields = Config.__fields__"
   ]
  },
  {
   "cell_type": "code",
   "execution_count": 27,
   "id": "3ae07406-4205-4735-8f88-241db77f31e4",
   "metadata": {
    "tags": []
   },
   "outputs": [],
   "source": [
    "tmp = [\"--mode\", \"train\", \"--enable_fsdp\", \"true\", \"--use_fp16\", \"true\"]"
   ]
  },
  {
   "cell_type": "code",
   "execution_count": 33,
   "id": "02a7843a-350e-45bd-bb05-d7d552759bdf",
   "metadata": {
    "tags": []
   },
   "outputs": [
    {
     "data": {
      "text/plain": [
       "True"
      ]
     },
     "execution_count": 33,
     "metadata": {},
     "output_type": "execute_result"
    }
   ],
   "source": [
    "bool(\"true\")"
   ]
  },
  {
   "cell_type": "code",
   "execution_count": 34,
   "id": "41c78715-8692-4bc6-8ca2-d81811d5acc5",
   "metadata": {
    "tags": []
   },
   "outputs": [
    {
     "data": {
      "text/plain": [
       "True"
      ]
     },
     "execution_count": 34,
     "metadata": {},
     "output_type": "execute_result"
    }
   ],
   "source": [
    "bool(\"false\")"
   ]
  },
  {
   "cell_type": "code",
   "execution_count": 38,
   "id": "9a506f6e-4dd5-4541-a693-82c347e11bbf",
   "metadata": {
    "tags": []
   },
   "outputs": [],
   "source": [
    "runner_mode = None\n",
    "conv_dict = {\"true\": True, \"false\": False}\n",
    "params = {}\n",
    "for k, v in zip(tmp[0::2], tmp[1::2]):\n",
    "    if k[2:] == \"mode\":\n",
    "        runner_mode = v\n",
    "    else:\n",
    "        if v in list(conv_dict.keys()):\n",
    "            v = conv_dict[v]\n",
    "        params[k[2:]] = v"
   ]
  },
  {
   "cell_type": "code",
   "execution_count": 39,
   "id": "e8b3b370-9964-4e9a-92f0-3ffae4fda348",
   "metadata": {
    "tags": []
   },
   "outputs": [
    {
     "data": {
      "text/plain": [
       "'train'"
      ]
     },
     "execution_count": 39,
     "metadata": {},
     "output_type": "execute_result"
    }
   ],
   "source": [
    "runner_mode"
   ]
  },
  {
   "cell_type": "code",
   "execution_count": 32,
   "id": "4d05e962-1c24-41d8-bf86-f96688c65f84",
   "metadata": {
    "tags": []
   },
   "outputs": [
    {
     "data": {
      "text/plain": [
       "{'--mode': 'train', '--enable_fsdp': 'true', '--use_fp16': 'true'}"
      ]
     },
     "execution_count": 32,
     "metadata": {},
     "output_type": "execute_result"
    }
   ],
   "source": [
    "params"
   ]
  },
  {
   "cell_type": "code",
   "execution_count": 29,
   "id": "dddfdf85-f3b6-4d56-b138-ccc57f9bc1d0",
   "metadata": {
    "tags": []
   },
   "outputs": [
    {
     "data": {
      "text/plain": [
       "['--mode', '--enable_fsdp', '--use_fp16']"
      ]
     },
     "execution_count": 29,
     "metadata": {},
     "output_type": "execute_result"
    }
   ],
   "source": [
    "for idx, t in enumerate(tmp):\n",
    "    if idx % 2 == 0:\n",
    "        "
   ]
  },
  {
   "cell_type": "code",
   "execution_count": 9,
   "id": "01fc5466-f1f0-494e-8156-7271a3aede0c",
   "metadata": {
    "tags": []
   },
   "outputs": [
    {
     "data": {
      "text/plain": [
       "{'pkg': FieldInfo(annotation=str, required=True),\n",
       " 'task': FieldInfo(annotation=str, required=True),\n",
       " 'use_hf_model': FieldInfo(annotation=bool, required=True),\n",
       " 'data_dir': FieldInfo(annotation=Union[str, NoneType], required=False, default=None),\n",
       " 'output_dir': FieldInfo(annotation=Union[str, NoneType], required=False, default=None),\n",
       " 'train_file_name': FieldInfo(annotation=Union[str, NoneType], required=False, default=None),\n",
       " 'eval_file_name': FieldInfo(annotation=Union[str, NoneType], required=False, default=None),\n",
       " 'test_file_name': FieldInfo(annotation=Union[str, NoneType], required=False, default=None),\n",
       " 'params': FieldInfo(annotation=Union[dict, NoneType], required=False, default_factory=dict)}"
      ]
     },
     "execution_count": 9,
     "metadata": {},
     "output_type": "execute_result"
    }
   ],
   "source": [
    "for name, field in fields:\n",
    "    parser.add_argument(\n",
    "        f\"--{name},\n",
    "        type=field.annotation,\n",
    "        required=field.required,\n",
    "    )\n",
    "args = parser.parse_args()"
   ]
  },
  {
   "cell_type": "code",
   "execution_count": 26,
   "id": "5734d875-1bba-4a88-b473-16fcbe2cb86d",
   "metadata": {
    "tags": []
   },
   "outputs": [
    {
     "data": {
      "text/plain": [
       "True"
      ]
     },
     "execution_count": 26,
     "metadata": {},
     "output_type": "execute_result"
    }
   ],
   "source": [
    "fields[\"pkg\"].is_required()"
   ]
  },
  {
   "cell_type": "code",
   "execution_count": null,
   "id": "797b8471-adb0-4577-865c-d01d0606d930",
   "metadata": {},
   "outputs": [],
   "source": []
  }
 ],
 "metadata": {
  "kernelspec": {
   "display_name": "jovis-model-py3.10",
   "language": "python",
   "name": "jovis-model-py3.10"
  },
  "language_info": {
   "codemirror_mode": {
    "name": "ipython",
    "version": 3
   },
   "file_extension": ".py",
   "mimetype": "text/x-python",
   "name": "python",
   "nbconvert_exporter": "python",
   "pygments_lexer": "ipython3",
   "version": "3.10.10"
  }
 },
 "nbformat": 4,
 "nbformat_minor": 5
}
