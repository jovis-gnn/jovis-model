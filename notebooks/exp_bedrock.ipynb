{
 "cells": [
  {
   "cell_type": "markdown",
   "id": "fb0d2cc5-4213-4207-b5ca-49b09752797b",
   "metadata": {
    "tags": []
   },
   "source": [
    "# Import"
   ]
  },
  {
   "cell_type": "code",
   "execution_count": 1,
   "id": "95c9bf41-53e1-46b7-a4c7-243824d6caa7",
   "metadata": {
    "tags": []
   },
   "outputs": [],
   "source": [
    "import os\n",
    "\n",
    "os.chdir(os.path.dirname(os.getcwd()))"
   ]
  },
  {
   "cell_type": "code",
   "execution_count": 2,
   "id": "489e4a8e-f8ce-4365-967c-c7414284d563",
   "metadata": {
    "tags": []
   },
   "outputs": [],
   "source": [
    "import re\n",
    "import json\n",
    "import pickle\n",
    "from tqdm.auto import tqdm\n",
    "from collections import defaultdict\n",
    "\n",
    "import faiss\n",
    "import boto3\n",
    "import numpy as np\n",
    "from sklearn.metrics import confusion_matrix\n",
    "\n",
    "from run import ModelRunner\n",
    "from jovis_model.config import Config\n",
    "from jovis_model.utils.helper import build_faiss_index"
   ]
  },
  {
   "cell_type": "markdown",
   "id": "4d1440c7-e734-4016-b2dd-762242f95b27",
   "metadata": {
    "tags": []
   },
   "source": [
    "# Common"
   ]
  },
  {
   "cell_type": "markdown",
   "id": "306967c8-8fd5-45e9-920e-0f30df24dc9d",
   "metadata": {},
   "source": [
    "### Runner"
   ]
  },
  {
   "cell_type": "code",
   "execution_count": 3,
   "id": "cebd6b6f-9cce-48f1-99ad-29ff6510efc6",
   "metadata": {
    "tags": []
   },
   "outputs": [],
   "source": [
    "m_type_id_dict = {\n",
    "    \"claude-3-haiku\": \"anthropic.claude-3-haiku-20240307-v1:0\",\n",
    "    \"claude-3-sonnet\": \"anthropic.claude-3-sonnet-20240229-v1:0\",\n",
    "    \"claude-3-opus\": \"anthropic.claude-3-opus-20240229-v1:0\"\n",
    "}"
   ]
  },
  {
   "cell_type": "code",
   "execution_count": 4,
   "id": "c578d5f2-e505-4d00-ae69-280bcc055e11",
   "metadata": {
    "tags": []
   },
   "outputs": [
    {
     "name": "stderr",
     "output_type": "stream",
     "text": [
      "03:48:13:PM:INFO: data module loaded\n",
      "03:48:13:PM:INFO: Found credentials in shared credentials file: ~/.aws/credentials\n",
      "03:48:14:PM:INFO: model module loaded\n"
     ]
    }
   ],
   "source": [
    "params = {\n",
    "    \"pkg\": \"llm\",\n",
    "    \"task\": \"bedrock\",\n",
    "    \"use_hf_model\": False,\n",
    "    \"params\": {\n",
    "        \"m_type_id\": m_type_id_dict[\"claude-3-haiku\"],\n",
    "        \"max_new_tokens\": 400,\n",
    "    }\n",
    "}\n",
    "config = Config(**params)\n",
    "runner = ModelRunner(\n",
    "    config=config,\n",
    "    mode=\"inference\"\n",
    ")"
   ]
  },
  {
   "cell_type": "code",
   "execution_count": 45,
   "id": "6a81c5cc-6f05-45db-a27d-6e95537190c1",
   "metadata": {
    "jupyter": {
     "source_hidden": true
    },
    "tags": []
   },
   "outputs": [
    {
     "name": "stderr",
     "output_type": "stream",
     "text": [
      "01:20:26:PM:INFO: data module loaded\n",
      "/home/omnious/workspace/jovis/jovis-model/.venv/lib/python3.10/site-packages/huggingface_hub/file_download.py:1132: FutureWarning: `resume_download` is deprecated and will be removed in version 1.0.0. Downloads always resume when possible. If you want to force a new download, use `force_download=True`.\n",
      "  warnings.warn(\n",
      "01:20:34:PM:INFO: model module loaded\n"
     ]
    }
   ],
   "source": [
    "params = {\n",
    "    \"pkg\": \"llm\",\n",
    "    \"task\": \"sentence_embedding\",\n",
    "    \"use_hf_model\": True,\n",
    "    \"params\": {\n",
    "        \"hf_name\": \"sentence-transformers/paraphrase-multilingual-mpnet-base-v2\",\n",
    "    }\n",
    "}\n",
    "config = Config(**params)\n",
    "se_runner = ModelRunner(\n",
    "    config=config,\n",
    "    mode=\"inference\"\n",
    ")"
   ]
  },
  {
   "cell_type": "markdown",
   "id": "2ca0119b-c8c3-4b45-81a4-17b0f3671f23",
   "metadata": {
    "tags": []
   },
   "source": [
    "### Helper"
   ]
  },
  {
   "cell_type": "code",
   "execution_count": 5,
   "id": "761d4319-5266-4a67-ad0e-c503aa9dfc7f",
   "metadata": {
    "tags": []
   },
   "outputs": [],
   "source": [
    "def parse_model_output(output):\n",
    "    start, end = \"<output>\", \"</output>\"\n",
    "    try:\n",
    "        res = json.loads(output[output.find(start) + len(start): output.find(end)])\n",
    "    except:\n",
    "        res = None\n",
    "    return res"
   ]
  },
  {
   "cell_type": "markdown",
   "id": "b7e5606f-d683-4fc9-9b3c-a44419326996",
   "metadata": {
    "jp-MarkdownHeadingCollapsed": true,
    "tags": []
   },
   "source": [
    "# Intention Classifier"
   ]
  },
  {
   "cell_type": "markdown",
   "id": "0a2cc9d5-4d79-4c7b-b630-2457aab8f80c",
   "metadata": {
    "jp-MarkdownHeadingCollapsed": true,
    "tags": []
   },
   "source": [
    "### Testset generation"
   ]
  },
  {
   "cell_type": "code",
   "execution_count": 4,
   "id": "7a82e6f6-5822-481e-98c3-b1dd9483a64a",
   "metadata": {
    "tags": []
   },
   "outputs": [],
   "source": [
    "gen_prompt = \"\"\"\n",
    "You are an expert to generate utterances which can be used as an input to a e-commerce chatbot system.\n",
    "Generally, these utterances are related to fashion items worn by celebrities or actors in tv shows.\n",
    "Your task is to generate utterances which have specific intention.\n",
    "\n",
    "Here is the list of intention:\n",
    "<intention>\n",
    "1. item_search: Asking to search/find fashion products based on specific criteria, such as attributes(category, colors, material, print, neckline, etc.), occasion(wedding, picnic, etc.), or any other conditions (worn by some celebrities on tv shows, etc.)\n",
    "2. style_discuss: Asking for recommendations about fashion and styling products.\n",
    "3. program_actor_question: Asking questions about tv shows or actors.\n",
    "</intention>\n",
    "\n",
    "Here is the output format you should consider.\n",
    "<output_format>\n",
    "Provide your output in the following JSON format only. Enclose your JSON output with `<output>` and `</output>`:\n",
    "<output>\n",
    "{\n",
    "    \"item_search\": <value>,\n",
    "    \"style_discuss\": <value>,\n",
    "    \"program_actor_question\": <value>\n",
    "}\n",
    "</output>\n",
    "There's some rule:\n",
    "1. one utterence per intention.\n",
    "2. All the value MUST be in Korean.\n",
    "</output_format>\n",
    "\"\"\""
   ]
  },
  {
   "cell_type": "code",
   "execution_count": 39,
   "id": "81520252-67fb-4033-bdca-3f4dcc86d1d7",
   "metadata": {
    "tags": []
   },
   "outputs": [],
   "source": [
    "def generate(prompt, n=500):\n",
    "    dialogs = [\n",
    "        {\"role\": \"user\", \"content\": prompt}\n",
    "    ]\n",
    "    start = \"<output>\"\n",
    "    end = \"</output>\"\n",
    "    labels = [\"item_search\", \"style_discuss\", \"program_actor_question\"]\n",
    "    success = defaultdict(list)\n",
    "    error = defaultdict(list)\n",
    "    pbar = tqdm(total=n)\n",
    "    cnt = 0\n",
    "    while cnt < n:\n",
    "        parsed = True\n",
    "        try:\n",
    "            res = runner.run(sample_inputs=dialogs)\n",
    "            tmp = json.loads(res[res.find(start) + len(start): res.find(end)])\n",
    "        except:\n",
    "            error[\"parse_error\"].append(res)\n",
    "            parsed = False\n",
    "        if parsed:\n",
    "            check = True\n",
    "            for l in labels:\n",
    "                if l not in tmp:\n",
    "                    check = False\n",
    "            if check:\n",
    "                for k, v in tmp.items():\n",
    "                    success[k].append(v)\n",
    "                cnt += 1\n",
    "                pbar.update(1)\n",
    "            else:\n",
    "                error[\"key_error\"].append(parsed)\n",
    "    pbar.close()\n",
    "    return success, error"
   ]
  },
  {
   "cell_type": "code",
   "execution_count": 40,
   "id": "76fe9848-2daf-4a63-8124-ff2cdf134c48",
   "metadata": {
    "tags": []
   },
   "outputs": [
    {
     "name": "stderr",
     "output_type": "stream",
     "text": [
      "100%|██████████| 500/500 [15:26<00:00,  1.85s/it]\n"
     ]
    }
   ],
   "source": [
    "success, error = generate(gen_prompt)"
   ]
  },
  {
   "cell_type": "code",
   "execution_count": 53,
   "id": "866ecb1c-a94e-46a5-9492-a54a49a94e52",
   "metadata": {
    "tags": []
   },
   "outputs": [],
   "source": [
    "with open(\"jovis_model/_db/skb/testsets/intention_classifier/testset.json\", \"w\") as f:\n",
    "    json.dump(success, f)"
   ]
  },
  {
   "cell_type": "markdown",
   "id": "9738a547-3851-4345-9df4-7cd3f152a2bc",
   "metadata": {
    "jp-MarkdownHeadingCollapsed": true,
    "tags": []
   },
   "source": [
    "### Evaluation"
   ]
  },
  {
   "cell_type": "code",
   "execution_count": 4,
   "id": "b0ca6989-1790-46f4-9759-4e6191aaa774",
   "metadata": {
    "tags": []
   },
   "outputs": [],
   "source": [
    "with open(\"jovis_model/_db/skb/testsets/intention_classifier/testset.json\", \"r\") as f:\n",
    "    data = json.load(f)"
   ]
  },
  {
   "cell_type": "code",
   "execution_count": 5,
   "id": "20880dfb-a4bd-4ea5-8f65-121ca5a18096",
   "metadata": {
    "tags": []
   },
   "outputs": [],
   "source": [
    "test_prompt = \"\"\"\n",
    "You are an agent for an e-commerce chatbot system.\n",
    "Your task is to classify the intention of the current_user_query.\n",
    "\n",
    "Here is the chat history:\n",
    "<chat_history>\n",
    "{}\n",
    "</chat_history>\n",
    "\n",
    "The current user query is:\n",
    "<current_user_query>\n",
    "{}\n",
    "</current_user_query>\n",
    "\n",
    "Today's date is:\n",
    "<today_date>\n",
    "{{TODAY_DATE}}\n",
    "</today_date>\n",
    "\n",
    "Here is the list of intention:\n",
    "<intention_classification>\n",
    "1. item_search: asking to search for a product based on specific criteria, such as attributes(category, colors, material, print, neckline, etc.), occasion(wedding, picnic, etc.), or any other conditions (worn by some celebrities on tv shows, etc.)\n",
    "2. style_discuss: Asking for recommendations about fashion and styling products.\n",
    "3. program_actor_question: Asking questions about tv shows or actors.\n",
    "4. none: if the user's query does not belong to any of the above categories\n",
    "</intention_classification>\n",
    "\n",
    "<output_format>\n",
    "Provide your output in the following JSON format only. Enclose your JSON output with `<output>` and `</output>`:\n",
    "<output>\n",
    "{{\n",
    "    \"intention\": <value>\n",
    "}}\n",
    "</output>\n",
    "</output_format>\n",
    "\"\"\""
   ]
  },
  {
   "cell_type": "code",
   "execution_count": 6,
   "id": "f6dc6d0f-e69e-4d26-a578-dd2f3bebf315",
   "metadata": {
    "tags": []
   },
   "outputs": [],
   "source": [
    "def test_query(test_data, prompt):\n",
    "    success = []\n",
    "    error = defaultdict(list)\n",
    "    start = \"<output>\"\n",
    "    end = \"</output>\"\n",
    "    for k, v in test_data.items():\n",
    "        pbar = tqdm(total=len(v))\n",
    "        for v_ in v:\n",
    "            dialogs = [\n",
    "                {\"role\": \"user\", \"content\": prompt.format(\"\", v_)}\n",
    "            ]\n",
    "            parsed = True\n",
    "            try:\n",
    "                res = runner.run(sample_inputs=dialogs)\n",
    "                tmp = json.loads(res[res.find(start) + len(start): res.find(end)])\n",
    "            except:\n",
    "                error[\"parse_error\"].append([k, v_, res])\n",
    "                parsed = False\n",
    "            if parsed:\n",
    "                success.append([v_, k, tmp[\"intention\"]])\n",
    "            pbar.update(1)\n",
    "        pbar.close()\n",
    "    return success, error"
   ]
  },
  {
   "cell_type": "code",
   "execution_count": 7,
   "id": "7483a9b3-b0fe-4abc-ad00-cc66600a675f",
   "metadata": {
    "tags": []
   },
   "outputs": [
    {
     "name": "stderr",
     "output_type": "stream",
     "text": [
      "100%|██████████| 500/500 [04:53<00:00,  1.70it/s]\n",
      "100%|██████████| 500/500 [04:54<00:00,  1.70it/s]\n",
      "100%|██████████| 500/500 [05:06<00:00,  1.63it/s]\n"
     ]
    }
   ],
   "source": [
    "success, error = test_query(data, test_prompt)"
   ]
  },
  {
   "cell_type": "code",
   "execution_count": 14,
   "id": "04b1e46f-5bfa-4441-98fb-43fd505bb0fe",
   "metadata": {
    "tags": []
   },
   "outputs": [],
   "source": [
    "success = np.array(success)\n",
    "y_true = success[:, 1]\n",
    "y_pred = success[:, 2]"
   ]
  },
  {
   "cell_type": "code",
   "execution_count": 18,
   "id": "51020082-ee6a-438f-a9e6-ca3fe73bddf0",
   "metadata": {
    "tags": []
   },
   "outputs": [],
   "source": [
    "confm = confusion_matrix(y_true=y_true, y_pred=y_pred, labels=[\"item_search\", \"style_discuss\", \"program_actor_question\", \"none\"])"
   ]
  },
  {
   "cell_type": "code",
   "execution_count": 26,
   "id": "f7050770-bf57-45a7-bcf4-68a6e5f3ac51",
   "metadata": {
    "tags": []
   },
   "outputs": [],
   "source": [
    "failed_case = []\n",
    "for q, y, y_hat in success:\n",
    "    if y != y_hat:\n",
    "        failed_case.append([q, y, y_hat])"
   ]
  },
  {
   "cell_type": "markdown",
   "id": "a8ab3571-e85a-478f-9e17-2b6c371ec981",
   "metadata": {
    "tags": []
   },
   "source": [
    "# Keyword Extractor"
   ]
  },
  {
   "cell_type": "markdown",
   "id": "91a50e7c-c891-4769-a27c-b4d8e2ff9a02",
   "metadata": {},
   "source": [
    "### Evaluation"
   ]
  },
  {
   "cell_type": "markdown",
   "id": "39a5a539-03a4-4ef6-93ea-b3df8a8e2370",
   "metadata": {
    "tags": []
   },
   "source": [
    "#### test_prompt"
   ]
  },
  {
   "cell_type": "code",
   "execution_count": 6,
   "id": "ffa8a4a7-43b1-4cdc-9ffa-9e0a5707adcb",
   "metadata": {
    "tags": []
   },
   "outputs": [],
   "source": [
    "test_prompt = \"\"\"\n",
    "You are an agent for an e-commerce chatbot system.\n",
    "Your task is to extract relevant keywords from the <current_user_query> to help the specialized agents search for appropriate products.\n",
    "\n",
    "Here is the chat history:\n",
    "<chat_history>\n",
    "{{CHAT_HISTORY}}\n",
    "</chat_history>\n",
    "\n",
    "The current user query is:\n",
    "<current_user_query>\n",
    "{}\n",
    "</current_user_query>\n",
    "\n",
    "Today's date is:\n",
    "<today_date>\n",
    "{{}}\n",
    "</today_date>\n",
    "\n",
    "<keyword_extraction>\n",
    "Next, extract the following relevant keywords from the user's query:\n",
    "1. target-item: the item category the user is looking for. Here's the categories you can choose : ['accessories', 'bags', 'belts', 'glasses', 'gloves', 'hair_accessories', 'hats', 'jewelries', 'key_ring', 'outwears', 'pants', 'scarf/muffler', 'shoes', 'skirts', 'socks', 'swimwears', 'tie', 'tops', 'watches', 'wholebodies']\n",
    "2. target-attribute: attributes of the target item. Here's the attributes you can choose: ['color', 'material', 'print', 'neckline', 'length', 'season', 'place', 'occasion', 'style']\n",
    "3. program-name: name of the TV show\n",
    "4. actor-name: name of the actor or actress (e.g 오연서, 김종민)\n",
    "5. looking-for-popular: This value is True or False (boolean). For example, when a user asks about popular items, such as what are trend t-shirts these days?, this value is True.\n",
    "6. brand: brand of the product. (e.g., Gucci, Nike, etc.)\n",
    "7. price: price or price range the user asked for. the format should be <min_price>-<max_price> (e.g., below 1000 krw: -1000 / above 10000 krw: 10000- / around 100000: 50000-150000)\n",
    "8. time: time range of tv show. given date of <today_date>, extract asked time period in the format of YYYYMMDD-YYYYMMDD\n",
    "\n",
    "For target-item, you have to choose category in specified list with keyword.\n",
    "Each keyword should have an empty string value if there is no corresponding information in the user's query. Do not make things up.\n",
    "</keyword_extraction>\n",
    "\n",
    "<output_format>\n",
    "Provide your output in the following JSON format only. Enclose your JSON output with `<output>` and `</output>`:\n",
    "<output>\n",
    "{{\n",
    "    \"role\": \"keyword_extractor\",\n",
    "    \"target-item\": {{\n",
    "        <item1>: <category>,\n",
    "        <item2>: <category>\n",
    "    }},\n",
    "    \"target-attribute\": {{\n",
    "        <item1>: {{\n",
    "            \"looking-for-popular\": <value>,\n",
    "            \"program-name\": <value>,\n",
    "            \"actor-name\": <value>,\n",
    "            \"brand\": <value>,\n",
    "            \"price\": <value>,\n",
    "            \"time\": <value>,\n",
    "            \"color\": <value>,\n",
    "            \"material\": <value>,\n",
    "            \"print\": <value>,\n",
    "            \"neckline\": <value>,\n",
    "            \"length\": <value>,\n",
    "            \"season\": <value>,\n",
    "            \"place\": <value>,\n",
    "            \"occasion\": <value>,\n",
    "            \"style\": <value>\n",
    "        }},\n",
    "        <item2> : {{\n",
    "            \"looking-for-popular\": <value>,\n",
    "            \"program-name\": <value>,\n",
    "            \"actor-name\": <value>,\n",
    "            \"brand\": <value>,\n",
    "            \"price\": <value>,\n",
    "            \"time\": <value>,\n",
    "            \"color\": <value>,\n",
    "            \"material\": <value>,\n",
    "            \"print\": <value>,\n",
    "            \"neckline\": <value>,\n",
    "            \"length\": <value>,\n",
    "            \"season\": <value>,\n",
    "            \"place\": <value>,\n",
    "            \"occasion\": <value>,\n",
    "            \"style\": <value>\n",
    "        }}\n",
    "    }}\n",
    "}}\n",
    "</output>\n",
    "There's some rules:\n",
    "1. All <item> and <value> MUST be in korean.\n",
    "</output_format>\n",
    "\"\"\""
   ]
  },
  {
   "cell_type": "code",
   "execution_count": 7,
   "id": "aa0433d8-21e1-41eb-99de-aaac6a231fd9",
   "metadata": {
    "tags": []
   },
   "outputs": [],
   "source": [
    "def test_query(test_querys, prompt):\n",
    "    success = []\n",
    "    error = []\n",
    "    pbar = tqdm(total=len(test_querys))\n",
    "    for q in test_querys:\n",
    "        dialogs = [\n",
    "            {\"role\": \"user\", \"content\": prompt.format(q)}\n",
    "        ]\n",
    "        res = runner.run(sample_inputs=dialogs)\n",
    "        output = parse_model_output(res)\n",
    "        if output:\n",
    "            success.append([q, output])\n",
    "        else:\n",
    "            error.append([q, res])\n",
    "        pbar.update(1)\n",
    "    pbar.close()\n",
    "    return success, error"
   ]
  },
  {
   "cell_type": "markdown",
   "id": "1e00faeb-3f20-4d08-8567-323be270b72d",
   "metadata": {
    "tags": []
   },
   "source": [
    "#### metric"
   ]
  },
  {
   "cell_type": "code",
   "execution_count": 8,
   "id": "737128c8-6dcf-475b-bac6-9bbbe79f5364",
   "metadata": {
    "tags": []
   },
   "outputs": [],
   "source": [
    "def get_price_range(keyword):\n",
    "    split_points = re.findall(\"-\", keyword)\n",
    "    res = None\n",
    "    if len(split_points) == 1:\n",
    "        try:\n",
    "            lower, upper = [0 if bound == \"\" else int(bound) for bound in keyword.split(\"-\")]\n",
    "            if upper == 0:\n",
    "                upper = 1000000000\n",
    "            res = [lower, upper]\n",
    "        except:\n",
    "            return res\n",
    "    return res\n",
    "\n",
    "def get_accuracy(labels, preds):\n",
    "    res = defaultdict(list)\n",
    "    failed = defaultdict(list)\n",
    "    for idx, (label, pred) in enumerate(zip(labels, preds)):\n",
    "        for k in list(label.keys()):\n",
    "            if k == \"price\":\n",
    "                hit = False\n",
    "                if pred.get(k, \"\"):\n",
    "                    price_range = get_price_range(pred[k])\n",
    "                    if price_range and (price_range[0] <= label[k] <= price_range[1]):\n",
    "                        hit = True\n",
    "                if hit:\n",
    "                    res[k].append(1)\n",
    "                else:\n",
    "                    res[k].append(0)\n",
    "                    failed[k].append([idx, label[k], pred.get(k, \"\")])\n",
    "            else:\n",
    "                if label[k] == pred.get(k, \"\"):\n",
    "                    res[k].append(1)\n",
    "                else:\n",
    "                    res[k].append(0)\n",
    "                    failed[k].append([idx, label[k], pred.get(k, \"\")])\n",
    "    res = {k: sum(v) / len(v) for k, v in list(res.items())}\n",
    "    return res, failed"
   ]
  },
  {
   "cell_type": "markdown",
   "id": "3ddfe071-0173-4c42-9fc1-3373d4f5595a",
   "metadata": {
    "tags": []
   },
   "source": [
    "#### parsing"
   ]
  },
  {
   "cell_type": "code",
   "execution_count": 9,
   "id": "83177280-4e2d-45f9-badd-a38bd391989b",
   "metadata": {
    "tags": []
   },
   "outputs": [],
   "source": [
    "def parse_result_output(output):\n",
    "    res = []\n",
    "    for q, o in tqdm(output):\n",
    "        tmp = {}\n",
    "        tmp[\"item\"], tmp[\"category\"] = list(o[\"target-item\"].items())[0]\n",
    "        attributes = list(o[\"target-attribute\"].values())[0]\n",
    "        tmp[\"program_name\"] = attributes.get(\"program-name\", \"\")\n",
    "        tmp[\"actor_name\"] = attributes.get(\"actor-name\", \"\")\n",
    "        tmp[\"color\"] = attributes.get(\"color\", \"\")\n",
    "        tmp[\"material\"] = attributes.get(\"material\", \"\")\n",
    "        tmp[\"length\"] = attributes.get(\"length\", \"\")\n",
    "        tmp[\"price\"] = attributes.get(\"price\", \"\")\n",
    "        res.append(tmp)\n",
    "    return res"
   ]
  },
  {
   "cell_type": "markdown",
   "id": "d20f8189-ce9d-45a0-b9ec-52075361371b",
   "metadata": {
    "tags": []
   },
   "source": [
    "#### Testset1"
   ]
  },
  {
   "cell_type": "code",
   "execution_count": 10,
   "id": "94d0075d-6d2a-4813-b9ab-9a92c1bec390",
   "metadata": {
    "tags": []
   },
   "outputs": [],
   "source": [
    "with open(\"jovis_model/_db/skb/testsets/keyword_extractor/querys_1000_simple_color.pkl\", \"rb\") as f:\n",
    "    data = pickle.load(f)"
   ]
  },
  {
   "cell_type": "code",
   "execution_count": 11,
   "id": "cc70dd69-989b-4eb7-8151-0cfde5416aef",
   "metadata": {
    "tags": []
   },
   "outputs": [],
   "source": [
    "test_1_querys, test_1_labels = [], []\n",
    "for d in data[:500]:\n",
    "    test_1_querys.append(d[\"query\"])\n",
    "    tmp = d[\"metadata\"]\n",
    "    tmp_label = {}\n",
    "    tmp_label[\"program_name\"] = tmp[\"program_name\"]\n",
    "    tmp_label[\"actor_name\"] = tmp[\"actor_name\"]\n",
    "    tmp_label[\"item\"] = tmp[\"product_category\"]\n",
    "    tmp_label[\"color\"] = tmp[\"product_colors\"]\n",
    "    test_1_labels.append(tmp_label)"
   ]
  },
  {
   "cell_type": "code",
   "execution_count": null,
   "id": "6a0c6529-2b1c-41a1-9dc6-9adb166e31a8",
   "metadata": {
    "tags": []
   },
   "outputs": [
    {
     "data": {
      "application/vnd.jupyter.widget-view+json": {
       "model_id": "2372bc9df8194cfc8c427e107bae0bd3",
       "version_major": 2,
       "version_minor": 0
      },
      "text/plain": [
       "  0%|          | 0/500 [00:00<?, ?it/s]"
      ]
     },
     "metadata": {},
     "output_type": "display_data"
    }
   ],
   "source": [
    "test_1_success, test_1_error = test_query(test_1_querys, test_prompt)"
   ]
  },
  {
   "cell_type": "code",
   "execution_count": 65,
   "id": "f50d83fd-f0d9-4c14-8e51-9bb120da7806",
   "metadata": {
    "tags": []
   },
   "outputs": [
    {
     "name": "stdout",
     "output_type": "stream",
     "text": [
      "<output>\n",
      "{\n",
      "    \"role\": \"keyword_extractor\",\n",
      "    \"target-item\": {\n",
      "        \"청바지\": \"pants\"\n",
      "    },\n",
      "    \"target-attribute\": {\n",
      "        \"청바지\": {\n",
      "            \"looking-for-popular\": False,\n",
      "            \"program-name\": \"런닝맨 673회\",\n",
      "            \"actor-name\": \"송지효\",\n",
      "            \"brand\": \"\",\n",
      "            \"price\": \"\",\n",
      "            \"time\": \"\",\n",
      "            \"color\": \"스카이블루\",\n",
      "            \"material\": \"\",\n",
      "            \"print\": \"\",\n",
      "            \"neckline\": \"\",\n",
      "            \"length\": \"\",\n",
      "            \"season\": \"\",\n",
      "            \"place\": \"\",\n",
      "            \"occasion\": \"\",\n",
      "            \"style\": \"\"\n",
      "        }\n",
      "    }\n",
      "}\n",
      "</output>\n"
     ]
    }
   ],
   "source": [
    "print(test_1_error[0][1])"
   ]
  },
  {
   "cell_type": "code",
   "execution_count": 13,
   "id": "88152dbb-72ba-4860-b897-ba9a7451148e",
   "metadata": {
    "tags": []
   },
   "outputs": [
    {
     "data": {
      "application/vnd.jupyter.widget-view+json": {
       "model_id": "5ce0a590a52c49a68555c9cd7c546d0c",
       "version_major": 2,
       "version_minor": 0
      },
      "text/plain": [
       "  0%|          | 0/331 [00:00<?, ?it/s]"
      ]
     },
     "metadata": {},
     "output_type": "display_data"
    }
   ],
   "source": [
    "test_1_preds = parse_result_output(test_1_success)"
   ]
  },
  {
   "cell_type": "code",
   "execution_count": 46,
   "id": "85ef8bf3-f330-46bb-8ccc-d27a2c691228",
   "metadata": {
    "tags": []
   },
   "outputs": [],
   "source": [
    "tmp_output = test_1_error[0][1]"
   ]
  },
  {
   "cell_type": "code",
   "execution_count": 57,
   "id": "8aa4e919-707e-4240-af85-078422ea048f",
   "metadata": {
    "tags": []
   },
   "outputs": [
    {
     "ename": "JSONDecodeError",
     "evalue": "Expecting value: line 9 column 36 (char 165)",
     "output_type": "error",
     "traceback": [
      "\u001b[0;31m---------------------------------------------------------------------------\u001b[0m",
      "\u001b[0;31mJSONDecodeError\u001b[0m                           Traceback (most recent call last)",
      "Cell \u001b[0;32mIn[57], line 2\u001b[0m\n\u001b[1;32m      1\u001b[0m start, end \u001b[38;5;241m=\u001b[39m \u001b[38;5;124m\"\u001b[39m\u001b[38;5;124m<output>\u001b[39m\u001b[38;5;124m\"\u001b[39m, \u001b[38;5;124m\"\u001b[39m\u001b[38;5;124m</output>\u001b[39m\u001b[38;5;124m\"\u001b[39m\n\u001b[0;32m----> 2\u001b[0m res \u001b[38;5;241m=\u001b[39m \u001b[43mjson\u001b[49m\u001b[38;5;241;43m.\u001b[39;49m\u001b[43mloads\u001b[49m\u001b[43m(\u001b[49m\u001b[43mtmp_output\u001b[49m\u001b[43m[\u001b[49m\u001b[43mtmp_output\u001b[49m\u001b[38;5;241;43m.\u001b[39;49m\u001b[43mfind\u001b[49m\u001b[43m(\u001b[49m\u001b[43mstart\u001b[49m\u001b[43m)\u001b[49m\u001b[43m \u001b[49m\u001b[38;5;241;43m+\u001b[39;49m\u001b[43m \u001b[49m\u001b[38;5;28;43mlen\u001b[39;49m\u001b[43m(\u001b[49m\u001b[43mstart\u001b[49m\u001b[43m)\u001b[49m\u001b[43m:\u001b[49m\u001b[43m \u001b[49m\u001b[43mtmp_output\u001b[49m\u001b[38;5;241;43m.\u001b[39;49m\u001b[43mfind\u001b[49m\u001b[43m(\u001b[49m\u001b[43mend\u001b[49m\u001b[43m)\u001b[49m\u001b[43m]\u001b[49m\u001b[43m)\u001b[49m\n",
      "File \u001b[0;32m/usr/local/lib/python3.10/json/__init__.py:346\u001b[0m, in \u001b[0;36mloads\u001b[0;34m(s, cls, object_hook, parse_float, parse_int, parse_constant, object_pairs_hook, **kw)\u001b[0m\n\u001b[1;32m    341\u001b[0m     s \u001b[38;5;241m=\u001b[39m s\u001b[38;5;241m.\u001b[39mdecode(detect_encoding(s), \u001b[38;5;124m'\u001b[39m\u001b[38;5;124msurrogatepass\u001b[39m\u001b[38;5;124m'\u001b[39m)\n\u001b[1;32m    343\u001b[0m \u001b[38;5;28;01mif\u001b[39;00m (\u001b[38;5;28mcls\u001b[39m \u001b[38;5;129;01mis\u001b[39;00m \u001b[38;5;28;01mNone\u001b[39;00m \u001b[38;5;129;01mand\u001b[39;00m object_hook \u001b[38;5;129;01mis\u001b[39;00m \u001b[38;5;28;01mNone\u001b[39;00m \u001b[38;5;129;01mand\u001b[39;00m\n\u001b[1;32m    344\u001b[0m         parse_int \u001b[38;5;129;01mis\u001b[39;00m \u001b[38;5;28;01mNone\u001b[39;00m \u001b[38;5;129;01mand\u001b[39;00m parse_float \u001b[38;5;129;01mis\u001b[39;00m \u001b[38;5;28;01mNone\u001b[39;00m \u001b[38;5;129;01mand\u001b[39;00m\n\u001b[1;32m    345\u001b[0m         parse_constant \u001b[38;5;129;01mis\u001b[39;00m \u001b[38;5;28;01mNone\u001b[39;00m \u001b[38;5;129;01mand\u001b[39;00m object_pairs_hook \u001b[38;5;129;01mis\u001b[39;00m \u001b[38;5;28;01mNone\u001b[39;00m \u001b[38;5;129;01mand\u001b[39;00m \u001b[38;5;129;01mnot\u001b[39;00m kw):\n\u001b[0;32m--> 346\u001b[0m     \u001b[38;5;28;01mreturn\u001b[39;00m \u001b[43m_default_decoder\u001b[49m\u001b[38;5;241;43m.\u001b[39;49m\u001b[43mdecode\u001b[49m\u001b[43m(\u001b[49m\u001b[43ms\u001b[49m\u001b[43m)\u001b[49m\n\u001b[1;32m    347\u001b[0m \u001b[38;5;28;01mif\u001b[39;00m \u001b[38;5;28mcls\u001b[39m \u001b[38;5;129;01mis\u001b[39;00m \u001b[38;5;28;01mNone\u001b[39;00m:\n\u001b[1;32m    348\u001b[0m     \u001b[38;5;28mcls\u001b[39m \u001b[38;5;241m=\u001b[39m JSONDecoder\n",
      "File \u001b[0;32m/usr/local/lib/python3.10/json/decoder.py:337\u001b[0m, in \u001b[0;36mJSONDecoder.decode\u001b[0;34m(self, s, _w)\u001b[0m\n\u001b[1;32m    332\u001b[0m \u001b[38;5;28;01mdef\u001b[39;00m \u001b[38;5;21mdecode\u001b[39m(\u001b[38;5;28mself\u001b[39m, s, _w\u001b[38;5;241m=\u001b[39mWHITESPACE\u001b[38;5;241m.\u001b[39mmatch):\n\u001b[1;32m    333\u001b[0m \u001b[38;5;250m    \u001b[39m\u001b[38;5;124;03m\"\"\"Return the Python representation of ``s`` (a ``str`` instance\u001b[39;00m\n\u001b[1;32m    334\u001b[0m \u001b[38;5;124;03m    containing a JSON document).\u001b[39;00m\n\u001b[1;32m    335\u001b[0m \n\u001b[1;32m    336\u001b[0m \u001b[38;5;124;03m    \"\"\"\u001b[39;00m\n\u001b[0;32m--> 337\u001b[0m     obj, end \u001b[38;5;241m=\u001b[39m \u001b[38;5;28;43mself\u001b[39;49m\u001b[38;5;241;43m.\u001b[39;49m\u001b[43mraw_decode\u001b[49m\u001b[43m(\u001b[49m\u001b[43ms\u001b[49m\u001b[43m,\u001b[49m\u001b[43m \u001b[49m\u001b[43midx\u001b[49m\u001b[38;5;241;43m=\u001b[39;49m\u001b[43m_w\u001b[49m\u001b[43m(\u001b[49m\u001b[43ms\u001b[49m\u001b[43m,\u001b[49m\u001b[43m \u001b[49m\u001b[38;5;241;43m0\u001b[39;49m\u001b[43m)\u001b[49m\u001b[38;5;241;43m.\u001b[39;49m\u001b[43mend\u001b[49m\u001b[43m(\u001b[49m\u001b[43m)\u001b[49m\u001b[43m)\u001b[49m\n\u001b[1;32m    338\u001b[0m     end \u001b[38;5;241m=\u001b[39m _w(s, end)\u001b[38;5;241m.\u001b[39mend()\n\u001b[1;32m    339\u001b[0m     \u001b[38;5;28;01mif\u001b[39;00m end \u001b[38;5;241m!=\u001b[39m \u001b[38;5;28mlen\u001b[39m(s):\n",
      "File \u001b[0;32m/usr/local/lib/python3.10/json/decoder.py:355\u001b[0m, in \u001b[0;36mJSONDecoder.raw_decode\u001b[0;34m(self, s, idx)\u001b[0m\n\u001b[1;32m    353\u001b[0m     obj, end \u001b[38;5;241m=\u001b[39m \u001b[38;5;28mself\u001b[39m\u001b[38;5;241m.\u001b[39mscan_once(s, idx)\n\u001b[1;32m    354\u001b[0m \u001b[38;5;28;01mexcept\u001b[39;00m \u001b[38;5;167;01mStopIteration\u001b[39;00m \u001b[38;5;28;01mas\u001b[39;00m err:\n\u001b[0;32m--> 355\u001b[0m     \u001b[38;5;28;01mraise\u001b[39;00m JSONDecodeError(\u001b[38;5;124m\"\u001b[39m\u001b[38;5;124mExpecting value\u001b[39m\u001b[38;5;124m\"\u001b[39m, s, err\u001b[38;5;241m.\u001b[39mvalue) \u001b[38;5;28;01mfrom\u001b[39;00m \u001b[38;5;28;01mNone\u001b[39;00m\n\u001b[1;32m    356\u001b[0m \u001b[38;5;28;01mreturn\u001b[39;00m obj, end\n",
      "\u001b[0;31mJSONDecodeError\u001b[0m: Expecting value: line 9 column 36 (char 165)"
     ]
    }
   ],
   "source": [
    "start, end = \"<output>\", \"</output>\"\n",
    "res = json.loads(tmp_output[tmp_output.find(start) + len(start): tmp_output.find(end)])"
   ]
  },
  {
   "cell_type": "code",
   "execution_count": 64,
   "id": "a9731918-33b6-4502-95f1-02574c129fc6",
   "metadata": {
    "tags": []
   },
   "outputs": [
    {
     "name": "stdout",
     "output_type": "stream",
     "text": [
      "\n",
      "{\n",
      "    \"role\": \"keyword_extractor\",\n",
      "    \"target-item\": {\n",
      "        \"청바지\": \"pants\"\n",
      "    },\n",
      "    \"target-attribute\": {\n",
      "        \"청바지\": {\n",
      "            \"looking-for-popular\": False,\n",
      "            \"program-name\": \"런닝맨 673회\",\n",
      "            \"actor-name\": \"송지효\",\n",
      "            \"brand\": \"\",\n",
      "            \"price\": \"\",\n",
      "            \"time\": \"\",\n",
      "            \"color\": \"스카이블루\",\n",
      "            \"material\": \"\",\n",
      "            \"print\": \"\",\n",
      "            \"neckline\": \"\",\n",
      "            \"length\": \"\",\n",
      "            \"season\": \"\",\n",
      "            \"place\": \"\",\n",
      "            \"occasion\": \"\",\n",
      "            \"style\": \"\"\n",
      "        }\n",
      "    }\n",
      "}\n",
      "\n"
     ]
    }
   ],
   "source": [
    "print(tmp_output[tmp_output.find(start) + len(start): tmp_output.find(end)])"
   ]
  },
  {
   "cell_type": "code",
   "execution_count": 54,
   "id": "68f3d231-c7d7-40da-88d3-512aaa863543",
   "metadata": {
    "tags": []
   },
   "outputs": [
    {
     "name": "stdout",
     "output_type": "stream",
     "text": [
      "{\n",
      "    \"role\": \"keyword_extractor\",\n",
      "    \"target-item\": {\n",
      "        \"청바지\": \"pants\"\n",
      "    },\n",
      "    \"target-attribute\": {\n",
      "        \"청바지\": {\n",
      "            \"looking-for-popular\": False,\n",
      "            \"program-name\": \"런닝맨 673회\",\n",
      "            \"actor-name\": \"송지효\",\n",
      "            \"brand\": \"\",\n",
      "            \"price\": \"\",\n",
      "            \"time\": \"\",\n",
      "            \"color\": \"스카이블루\",\n",
      "            \"material\": \"\",\n",
      "            \"print\": \"\",\n",
      "            \"neckline\": \"\",\n",
      "            \"length\": \"\",\n",
      "            \"season\": \"\",\n",
      "            \"place\": \"\",\n",
      "            \"occasion\": \"\",\n",
      "            \"style\": \"\"\n",
      "        }\n",
      "    }\n",
      "}\n"
     ]
    }
   ],
   "source": [
    "print(tmp_output[tmp_output.find(start) + len(start): tmp_output.find(end)].strip())"
   ]
  },
  {
   "cell_type": "code",
   "execution_count": 51,
   "id": "dd247e10-d3e1-4882-82a0-fd44cc2f7966",
   "metadata": {
    "tags": []
   },
   "outputs": [
    {
     "ename": "JSONDecodeError",
     "evalue": "Expecting value: line 9 column 36 (char 165)",
     "output_type": "error",
     "traceback": [
      "\u001b[0;31m---------------------------------------------------------------------------\u001b[0m",
      "\u001b[0;31mJSONDecodeError\u001b[0m                           Traceback (most recent call last)",
      "Cell \u001b[0;32mIn[51], line 1\u001b[0m\n\u001b[0;32m----> 1\u001b[0m \u001b[43mjson\u001b[49m\u001b[38;5;241;43m.\u001b[39;49m\u001b[43mloads\u001b[49m\u001b[43m(\u001b[49m\u001b[43mtmp_output\u001b[49m\u001b[43m[\u001b[49m\u001b[43mtmp_output\u001b[49m\u001b[38;5;241;43m.\u001b[39;49m\u001b[43mfind\u001b[49m\u001b[43m(\u001b[49m\u001b[43mstart\u001b[49m\u001b[43m)\u001b[49m\u001b[43m \u001b[49m\u001b[38;5;241;43m+\u001b[39;49m\u001b[43m \u001b[49m\u001b[38;5;28;43mlen\u001b[39;49m\u001b[43m(\u001b[49m\u001b[43mstart\u001b[49m\u001b[43m)\u001b[49m\u001b[43m:\u001b[49m\u001b[43m \u001b[49m\u001b[43mtmp_output\u001b[49m\u001b[38;5;241;43m.\u001b[39;49m\u001b[43mfind\u001b[49m\u001b[43m(\u001b[49m\u001b[43mend\u001b[49m\u001b[43m)\u001b[49m\u001b[43m]\u001b[49m\u001b[43m)\u001b[49m\n",
      "File \u001b[0;32m/usr/local/lib/python3.10/json/__init__.py:346\u001b[0m, in \u001b[0;36mloads\u001b[0;34m(s, cls, object_hook, parse_float, parse_int, parse_constant, object_pairs_hook, **kw)\u001b[0m\n\u001b[1;32m    341\u001b[0m     s \u001b[38;5;241m=\u001b[39m s\u001b[38;5;241m.\u001b[39mdecode(detect_encoding(s), \u001b[38;5;124m'\u001b[39m\u001b[38;5;124msurrogatepass\u001b[39m\u001b[38;5;124m'\u001b[39m)\n\u001b[1;32m    343\u001b[0m \u001b[38;5;28;01mif\u001b[39;00m (\u001b[38;5;28mcls\u001b[39m \u001b[38;5;129;01mis\u001b[39;00m \u001b[38;5;28;01mNone\u001b[39;00m \u001b[38;5;129;01mand\u001b[39;00m object_hook \u001b[38;5;129;01mis\u001b[39;00m \u001b[38;5;28;01mNone\u001b[39;00m \u001b[38;5;129;01mand\u001b[39;00m\n\u001b[1;32m    344\u001b[0m         parse_int \u001b[38;5;129;01mis\u001b[39;00m \u001b[38;5;28;01mNone\u001b[39;00m \u001b[38;5;129;01mand\u001b[39;00m parse_float \u001b[38;5;129;01mis\u001b[39;00m \u001b[38;5;28;01mNone\u001b[39;00m \u001b[38;5;129;01mand\u001b[39;00m\n\u001b[1;32m    345\u001b[0m         parse_constant \u001b[38;5;129;01mis\u001b[39;00m \u001b[38;5;28;01mNone\u001b[39;00m \u001b[38;5;129;01mand\u001b[39;00m object_pairs_hook \u001b[38;5;129;01mis\u001b[39;00m \u001b[38;5;28;01mNone\u001b[39;00m \u001b[38;5;129;01mand\u001b[39;00m \u001b[38;5;129;01mnot\u001b[39;00m kw):\n\u001b[0;32m--> 346\u001b[0m     \u001b[38;5;28;01mreturn\u001b[39;00m \u001b[43m_default_decoder\u001b[49m\u001b[38;5;241;43m.\u001b[39;49m\u001b[43mdecode\u001b[49m\u001b[43m(\u001b[49m\u001b[43ms\u001b[49m\u001b[43m)\u001b[49m\n\u001b[1;32m    347\u001b[0m \u001b[38;5;28;01mif\u001b[39;00m \u001b[38;5;28mcls\u001b[39m \u001b[38;5;129;01mis\u001b[39;00m \u001b[38;5;28;01mNone\u001b[39;00m:\n\u001b[1;32m    348\u001b[0m     \u001b[38;5;28mcls\u001b[39m \u001b[38;5;241m=\u001b[39m JSONDecoder\n",
      "File \u001b[0;32m/usr/local/lib/python3.10/json/decoder.py:337\u001b[0m, in \u001b[0;36mJSONDecoder.decode\u001b[0;34m(self, s, _w)\u001b[0m\n\u001b[1;32m    332\u001b[0m \u001b[38;5;28;01mdef\u001b[39;00m \u001b[38;5;21mdecode\u001b[39m(\u001b[38;5;28mself\u001b[39m, s, _w\u001b[38;5;241m=\u001b[39mWHITESPACE\u001b[38;5;241m.\u001b[39mmatch):\n\u001b[1;32m    333\u001b[0m \u001b[38;5;250m    \u001b[39m\u001b[38;5;124;03m\"\"\"Return the Python representation of ``s`` (a ``str`` instance\u001b[39;00m\n\u001b[1;32m    334\u001b[0m \u001b[38;5;124;03m    containing a JSON document).\u001b[39;00m\n\u001b[1;32m    335\u001b[0m \n\u001b[1;32m    336\u001b[0m \u001b[38;5;124;03m    \"\"\"\u001b[39;00m\n\u001b[0;32m--> 337\u001b[0m     obj, end \u001b[38;5;241m=\u001b[39m \u001b[38;5;28;43mself\u001b[39;49m\u001b[38;5;241;43m.\u001b[39;49m\u001b[43mraw_decode\u001b[49m\u001b[43m(\u001b[49m\u001b[43ms\u001b[49m\u001b[43m,\u001b[49m\u001b[43m \u001b[49m\u001b[43midx\u001b[49m\u001b[38;5;241;43m=\u001b[39;49m\u001b[43m_w\u001b[49m\u001b[43m(\u001b[49m\u001b[43ms\u001b[49m\u001b[43m,\u001b[49m\u001b[43m \u001b[49m\u001b[38;5;241;43m0\u001b[39;49m\u001b[43m)\u001b[49m\u001b[38;5;241;43m.\u001b[39;49m\u001b[43mend\u001b[49m\u001b[43m(\u001b[49m\u001b[43m)\u001b[49m\u001b[43m)\u001b[49m\n\u001b[1;32m    338\u001b[0m     end \u001b[38;5;241m=\u001b[39m _w(s, end)\u001b[38;5;241m.\u001b[39mend()\n\u001b[1;32m    339\u001b[0m     \u001b[38;5;28;01mif\u001b[39;00m end \u001b[38;5;241m!=\u001b[39m \u001b[38;5;28mlen\u001b[39m(s):\n",
      "File \u001b[0;32m/usr/local/lib/python3.10/json/decoder.py:355\u001b[0m, in \u001b[0;36mJSONDecoder.raw_decode\u001b[0;34m(self, s, idx)\u001b[0m\n\u001b[1;32m    353\u001b[0m     obj, end \u001b[38;5;241m=\u001b[39m \u001b[38;5;28mself\u001b[39m\u001b[38;5;241m.\u001b[39mscan_once(s, idx)\n\u001b[1;32m    354\u001b[0m \u001b[38;5;28;01mexcept\u001b[39;00m \u001b[38;5;167;01mStopIteration\u001b[39;00m \u001b[38;5;28;01mas\u001b[39;00m err:\n\u001b[0;32m--> 355\u001b[0m     \u001b[38;5;28;01mraise\u001b[39;00m JSONDecodeError(\u001b[38;5;124m\"\u001b[39m\u001b[38;5;124mExpecting value\u001b[39m\u001b[38;5;124m\"\u001b[39m, s, err\u001b[38;5;241m.\u001b[39mvalue) \u001b[38;5;28;01mfrom\u001b[39;00m \u001b[38;5;28;01mNone\u001b[39;00m\n\u001b[1;32m    356\u001b[0m \u001b[38;5;28;01mreturn\u001b[39;00m obj, end\n",
      "\u001b[0;31mJSONDecodeError\u001b[0m: Expecting value: line 9 column 36 (char 165)"
     ]
    }
   ],
   "source": [
    "json.loads(tmp_output[tmp_output.find(start) + len(start): tmp_output.find(end)])"
   ]
  },
  {
   "cell_type": "code",
   "execution_count": 45,
   "id": "e3d4da76-983f-420d-9c6f-6b4903aafc11",
   "metadata": {
    "tags": []
   },
   "outputs": [
    {
     "name": "stdout",
     "output_type": "stream",
     "text": [
      "<output>\n",
      "{\n",
      "    \"role\": \"keyword_extractor\",\n",
      "    \"target-item\": {\n",
      "        \"청바지\": \"pants\"\n",
      "    },\n",
      "    \"target-attribute\": {\n",
      "        \"청바지\": {\n",
      "            \"looking-for-popular\": False,\n",
      "            \"program-name\": \"런닝맨 673회\",\n",
      "            \"actor-name\": \"송지효\",\n",
      "            \"brand\": \"\",\n",
      "            \"price\": \"\",\n",
      "            \"time\": \"\",\n",
      "            \"color\": \"스카이블루\",\n",
      "            \"material\": \"\",\n",
      "            \"print\": \"\",\n",
      "            \"neckline\": \"\",\n",
      "            \"length\": \"\",\n",
      "            \"season\": \"\",\n",
      "            \"place\": \"\",\n",
      "            \"occasion\": \"\",\n",
      "            \"style\": \"\"\n",
      "        }\n",
      "    }\n",
      "}\n",
      "</output>\n"
     ]
    }
   ],
   "source": [
    "print(test_1_error[0][1])"
   ]
  },
  {
   "cell_type": "code",
   "execution_count": 44,
   "id": "fe97425e-b556-4716-a317-4202e2e2321c",
   "metadata": {
    "tags": []
   },
   "outputs": [
    {
     "name": "stdout",
     "output_type": "stream",
     "text": [
      "<output>\n",
      "{\n",
      "    \"role\": \"keyword_extractor\",\n",
      "    \"target-item\": {\n",
      "        \"청바지\": \"pants\"\n",
      "    },\n",
      "    \"target-attribute\": {\n",
      "        \"청바지\": {\n",
      "            \"looking-for-popular\": False,\n",
      "            \"program-name\": \"런닝맨 673회\",\n",
      "            \"actor-name\": \"송지효\",\n",
      "            \"brand\": \"\",\n",
      "            \"price\": \"\",\n",
      "            \"time\": \"\",\n",
      "            \"color\": \"스카이블루\",\n",
      "            \"material\": \"\",\n",
      "            \"print\": \"\",\n",
      "            \"neckline\": \"\",\n",
      "            \"length\": \"\",\n",
      "            \"season\": \"\",\n",
      "            \"place\": \"\",\n",
      "            \"occasion\": \"\",\n",
      "            \"style\": \"\"\n",
      "        }\n",
      "    }\n",
      "}\n",
      "</output>\n"
     ]
    }
   ],
   "source": [
    "parse_model_output(print(test_1_error[0][1]))"
   ]
  },
  {
   "cell_type": "code",
   "execution_count": 16,
   "id": "509f8f41-392c-4dcc-b14c-0ac28dc35e07",
   "metadata": {
    "tags": []
   },
   "outputs": [],
   "source": [
    "test_1_acc, test_1_failed = get_accuracy(test_1_labels, test_1_preds)"
   ]
  },
  {
   "cell_type": "code",
   "execution_count": 17,
   "id": "e7a9fd73-949b-4af9-bb6d-a2250b7c94ae",
   "metadata": {
    "tags": []
   },
   "outputs": [
    {
     "data": {
      "text/plain": [
       "{'program_name': 0.027522935779816515,\n",
       " 'actor_name': 0.012232415902140673,\n",
       " 'item': 0.03363914373088685,\n",
       " 'color': 0.09174311926605505}"
      ]
     },
     "execution_count": 17,
     "metadata": {},
     "output_type": "execute_result"
    }
   ],
   "source": [
    "test_1_acc"
   ]
  },
  {
   "cell_type": "code",
   "execution_count": 31,
   "id": "9f6b707e-2541-49a3-a096-400d4fe11c90",
   "metadata": {
    "tags": []
   },
   "outputs": [
    {
     "data": {
      "text/plain": [
       "'런닝맨 673회에서 송지효가 입은 스카이블루 청바지 어디서 사나요?'"
      ]
     },
     "execution_count": 31,
     "metadata": {},
     "output_type": "execute_result"
    }
   ],
   "source": [
    "test_1_querys[1]"
   ]
  },
  {
   "cell_type": "code",
   "execution_count": 29,
   "id": "db8e7dd8-35ee-4cf4-b92f-a163067775b2",
   "metadata": {
    "tags": []
   },
   "outputs": [
    {
     "data": {
      "text/plain": [
       "{'program_name': '런닝맨', 'actor_name': '송지효', 'item': '청바지', 'color': '스카이블루'}"
      ]
     },
     "execution_count": 29,
     "metadata": {},
     "output_type": "execute_result"
    }
   ],
   "source": [
    "test_1_labels[1]"
   ]
  },
  {
   "cell_type": "code",
   "execution_count": 30,
   "id": "4fc61f14-ceae-483f-9416-a6bda2d6f29e",
   "metadata": {
    "tags": []
   },
   "outputs": [
    {
     "data": {
      "text/plain": [
       "{'item': '셔츠',\n",
       " 'category': 'tops',\n",
       " 'program_name': '요즘 남자 라이프 - 신랑수업',\n",
       " 'actor_name': '심형탁',\n",
       " 'color': '그레이',\n",
       " 'material': '',\n",
       " 'length': '',\n",
       " 'price': ''}"
      ]
     },
     "execution_count": 30,
     "metadata": {},
     "output_type": "execute_result"
    }
   ],
   "source": [
    "test_1_preds[2]"
   ]
  },
  {
   "cell_type": "code",
   "execution_count": 23,
   "id": "0f360eaf-3be0-4037-9680-f5bf2f51428d",
   "metadata": {
    "tags": []
   },
   "outputs": [
    {
     "data": {
      "text/plain": [
       "'요즘 남자 라이프 - 신랑수업 105회에서 김동완이 입었던 스카이블루 색상의 스웨터, 정보 좀 알려줄 수 있어?'"
      ]
     },
     "execution_count": 23,
     "metadata": {},
     "output_type": "execute_result"
    }
   ],
   "source": [
    "test_1_querys[4]"
   ]
  },
  {
   "cell_type": "code",
   "execution_count": 21,
   "id": "42774f8a-01ab-4ff7-8780-2221dfe5e2bc",
   "metadata": {
    "tags": []
   },
   "outputs": [
    {
     "data": {
      "text/plain": [
       "[[4, '스카이블루', '블랙'],\n",
       " [5, '블랙', '화이트'],\n",
       " [6, '옐로우', '그린색'],\n",
       " [7, '화이트', '그레이'],\n",
       " [8, '그린', '그린색'],\n",
       " [9, '레드', '블랙'],\n",
       " [10, '그레이', '블루'],\n",
       " [11, '베이지', '그레이'],\n",
       " [12, '그린', '화이트'],\n",
       " [13, '블랙', '화이트'],\n",
       " [14, '블루', '브라운'],\n",
       " [15, '그레이', '화이트'],\n",
       " [16, '화이트', '네이비'],\n",
       " [17, '화이트', '블랙'],\n",
       " [19, '옐로우', '오렌지색'],\n",
       " [20, '브라운', '블랙'],\n",
       " [21, '블랙', '브라운'],\n",
       " [22, '그레이', '블랙'],\n",
       " [23, '화이트', '그린'],\n",
       " [24, '네이비', '그린색'],\n",
       " [25, '블랙', '브라운'],\n",
       " [26, '레드', '화이트'],\n",
       " [27, '오렌지', '스카이블루'],\n",
       " [28, '그린', '민트'],\n",
       " [29, '화이트', '카키색'],\n",
       " [30, '블랙', '옐로우'],\n",
       " [31, '브라운', '카키색'],\n",
       " [32, '블랙', '퍼플'],\n",
       " [33, '그린', '화이트'],\n",
       " [34, '그린', '네이비'],\n",
       " [35, '스카이블루', '블랙'],\n",
       " [36, '브라운', '화이트'],\n",
       " [37, '블루', '블랙색'],\n",
       " [38, '화이트', '베이지색'],\n",
       " [39, '스카이블루', '블랙'],\n",
       " [40, '민트', '그레이'],\n",
       " [41, '카키', '골드'],\n",
       " [42, '옐로우', '네이비'],\n",
       " [43, '레드', '브라운색'],\n",
       " [44, '카키', '화이트'],\n",
       " [45, '화이트', '핑크색'],\n",
       " [46, '퍼플', '네이비'],\n",
       " [47, '화이트', '레드'],\n",
       " [48, '그레이', '네이비'],\n",
       " [49, '네이비', '네이비색'],\n",
       " [50, '블랙', '화이트'],\n",
       " [53, '블랙', '퍼플'],\n",
       " [56, '베이지', '화이트'],\n",
       " [58, '블랙', '블루색'],\n",
       " [59, '카키', '블랙'],\n",
       " [60, '그레이', '화이트'],\n",
       " [61, '골드', '베이지'],\n",
       " [62, '브라운', '화이트'],\n",
       " [63, '네이비', '옐로우'],\n",
       " [64, '브라운', '화이트'],\n",
       " [65, '베이지', '브라운'],\n",
       " [66, '레드', '레드색'],\n",
       " [67, '화이트', '블루'],\n",
       " [69, '퍼플', '블랙'],\n",
       " [70, '라벤더', '블랙'],\n",
       " [71, '화이트', '브라운색'],\n",
       " [72, '핑크', '베이지색'],\n",
       " [73, '블루', '베이지색'],\n",
       " [74, '네이비', '블랙'],\n",
       " [75, '베이지', '스카이블루'],\n",
       " [77, '레드', '옐로우'],\n",
       " [78, '네이비', '스카이블루'],\n",
       " [79, '네이비', '스카이블루색'],\n",
       " [80, '화이트', '민트색'],\n",
       " [81, '화이트', '레드색'],\n",
       " [82, '블루', '퍼플색'],\n",
       " [83, '화이트', '블랙'],\n",
       " [84, '화이트', '블랙'],\n",
       " [85, '화이트', '베이지'],\n",
       " [86, '퍼플', '블루'],\n",
       " [87, '블랙', '스카이블루'],\n",
       " [88, '화이트', '옐로우'],\n",
       " [89, '블루', '그린색'],\n",
       " [90, '화이트', '브라운'],\n",
       " [91, '블랙', '라벤더'],\n",
       " [92, '블루', '스카이블루'],\n",
       " [93, '스카이블루', '그레이'],\n",
       " [94, '블랙', '그레이색'],\n",
       " [95, '화이트', '핑크색'],\n",
       " [96, '베이지', '블랙'],\n",
       " [97, '화이트', '브라운'],\n",
       " [98, '옐로우', '그레이'],\n",
       " [99, '화이트', '레드색'],\n",
       " [100, '그린', '블루'],\n",
       " [101, '브라운', '스카이블루'],\n",
       " [102, '레드', '그레이'],\n",
       " [103, '블루', '화이트색'],\n",
       " [104, '그린', '로즈골드'],\n",
       " [105, '블랙', '베이지'],\n",
       " [106, '블랙', '화이트색'],\n",
       " [107, '블랙', '화이트'],\n",
       " [108, '브라운', '그레이'],\n",
       " [109, '베이지', '화이트'],\n",
       " [110, '베이지', '블루'],\n",
       " [111, '블랙', '베이지색'],\n",
       " [113, '브라운', '화이트'],\n",
       " [114, '베이지', '화이트'],\n",
       " [115, '베이지', '옐로우색'],\n",
       " [116, '옐로우', '화이트'],\n",
       " [117, '화이트', '블랙'],\n",
       " [118, '스카이블루', '블랙'],\n",
       " [119, '스카이블루', '브라운'],\n",
       " [120, '민트', '화이트'],\n",
       " [121, '레드', '베이지색'],\n",
       " [122, '퍼플', '퍼플색'],\n",
       " [123, '핑크', '스카이블루'],\n",
       " [124, '블랙', '로즈골드'],\n",
       " [125, '블랙', '라벤더색'],\n",
       " [126, '베이지', '블랙'],\n",
       " [127, '블루', '베이지 색'],\n",
       " [128, '스카이블루', '블랙'],\n",
       " [129, '옐로우', '스카이블루'],\n",
       " [130, '그린', '베이지색'],\n",
       " [131, '브라운', '스카이블루'],\n",
       " [132, '화이트', '블랙'],\n",
       " [133, '라벤더', '오렌지색'],\n",
       " [134, '베이지', '오렌지색'],\n",
       " [135, '네이비', '블루'],\n",
       " [136, '베이지', '블랙'],\n",
       " [137, '그레이', '퍼플'],\n",
       " [138, '스카이블루', '화이트'],\n",
       " [139, '그레이', '화이트'],\n",
       " [140, '그레이', '그린'],\n",
       " [141, '화이트', '블랙'],\n",
       " [142, '핑크', '화이트'],\n",
       " [143, '카키', '블랙'],\n",
       " [145, '브라운', '블랙'],\n",
       " [146, '그레이', '블루'],\n",
       " [147, '화이트', '골드색'],\n",
       " [148, '그레이', '브라운'],\n",
       " [149, '레드', '네이비색'],\n",
       " [150, '블랙', '그레이'],\n",
       " [151, '블루', '네이비색'],\n",
       " [152, '스카이블루', '그레이'],\n",
       " [153, '그레이', '레드'],\n",
       " [154, '블랙', '화이트'],\n",
       " [155, '화이트', '블랙'],\n",
       " [156, '블루', '핑크색'],\n",
       " [157, '베이지', '네이비색'],\n",
       " [158, '로즈골드', '화이트'],\n",
       " [159, '베이지', '블랙'],\n",
       " [160, '화이트', '블랙'],\n",
       " [161, '화이트', '블루'],\n",
       " [162, '그레이', '베이지색'],\n",
       " [163, '오렌지', '그레이색상'],\n",
       " [165, '블루', '브라운'],\n",
       " [166, '베이지', '핑크색'],\n",
       " [167, '스카이블루', '카키색'],\n",
       " [169, '화이트', '네이비색'],\n",
       " [170, '화이트', '민트'],\n",
       " [171, '화이트', '블랙'],\n",
       " [172, '골드', '베이지색'],\n",
       " [173, '옐로우', '블루'],\n",
       " [174, '화이트', '스카이블루'],\n",
       " [175, '블랙', '블루색'],\n",
       " [176, '블랙', '베이지색'],\n",
       " [177, '블랙', '블루'],\n",
       " [179, '브라운', '퍼플'],\n",
       " [180, '블랙', '화이트'],\n",
       " [181, '화이트', '블랙'],\n",
       " [182, '베이지', '그레이색'],\n",
       " [183, '퍼플', '화이트'],\n",
       " [184, '스카이블루', '베이지색'],\n",
       " [185, '로즈골드', '화이트'],\n",
       " [186, '라벤더', '브라운색'],\n",
       " [187, '블랙', '화이트'],\n",
       " [189, '민트', '블랙'],\n",
       " [190, '블랙', '오렌지색'],\n",
       " [191, '블랙', '화이트'],\n",
       " [192, '베이지', '블랙'],\n",
       " [193, '블랙', '베이지색'],\n",
       " [194, '베이지', '블랙'],\n",
       " [195, '스카이블루', '그레이'],\n",
       " [196, '베이지', '블랙'],\n",
       " [197, '핑크', '브라운'],\n",
       " [199, '블랙', '실버'],\n",
       " [200, '오렌지', '블랙색'],\n",
       " [201, '오렌지', '블랙'],\n",
       " [202, '블루', '퍼플색'],\n",
       " [203, '블랙', '베이지색'],\n",
       " [204, '화이트', '그레이'],\n",
       " [205, '화이트', '실버색'],\n",
       " [206, '퍼플', '화이트'],\n",
       " [207, '화이트', '블랙'],\n",
       " [208, '화이트', '블루'],\n",
       " [209, '그린', '블루색'],\n",
       " [210, '블랙', '브라운'],\n",
       " [212, '블랙', '네이비'],\n",
       " [213, '민트', '블랙색'],\n",
       " [214, '블랙', '베이지색'],\n",
       " [215, '블랙', '네이비'],\n",
       " [216, '레드', '그레이'],\n",
       " [217, '블루', '옐로우'],\n",
       " [218, '민트', '민트색'],\n",
       " [219, '스카이블루', '화이트'],\n",
       " [220, '골드', '그레이'],\n",
       " [221, '브라운', '네이비색'],\n",
       " [222, '베이지', '그레이'],\n",
       " [223, '네이비', '그린'],\n",
       " [224, '베이지', '화이트'],\n",
       " [226, '그레이', '그레이색'],\n",
       " [227, '베이지', '브라운'],\n",
       " [228, '네이비', '스카이블루'],\n",
       " [229, '블루', '브라운'],\n",
       " [230, '블랙', '네이비색'],\n",
       " [231, '화이트', '스카이블루'],\n",
       " [232, '그레이', '블랙'],\n",
       " [233, '레드', '스카이블루'],\n",
       " [234, '화이트', '라벤더색'],\n",
       " [235, '블랙', '스카이블루'],\n",
       " [236, '핑크', '블랙'],\n",
       " [237, '네이비', '블루'],\n",
       " [238, '화이트', '베이지색'],\n",
       " [239, '브라운', '블랙'],\n",
       " [240, '베이지', '블루'],\n",
       " [241, '블랙', '화이트'],\n",
       " [242, '블랙', '그레이'],\n",
       " [243, '그레이', '네이비'],\n",
       " [244, '블루', '네이비'],\n",
       " [246, '화이트', '블랙'],\n",
       " [247, '그레이', '블랙'],\n",
       " [248, '블랙', '와인'],\n",
       " [249, '화이트', '옐로우'],\n",
       " [250, '브라운', '블랙'],\n",
       " [251, '핑크', '화이트'],\n",
       " [252, '카키', '블랙'],\n",
       " [254, '네이비', '민트색'],\n",
       " [255, '브라운', '핑크색'],\n",
       " [256, '화이트', '핑크'],\n",
       " [257, '민트', '스카이블루'],\n",
       " [258, '화이트', '베이지색'],\n",
       " [259, '블랙', '스카이블루'],\n",
       " [261, '퍼플', '그레이'],\n",
       " [262, '화이트', '그레이'],\n",
       " [263, '베이지', '옐로우'],\n",
       " [264, '핑크', '화이트'],\n",
       " [265, '블루', '화이트'],\n",
       " [266, '스카이블루', '스카이블루색'],\n",
       " [267, '블루', '옐로우색'],\n",
       " [268, '네이비', '라벤더색'],\n",
       " [269, '베이지', '베이지색'],\n",
       " [270, '블루', '민트색'],\n",
       " [271, '블루', '블루색'],\n",
       " [272, '퍼플', '네이비색'],\n",
       " [273, '화이트', '블랙'],\n",
       " [274, '블랙', '그린색'],\n",
       " [275, '그레이', '화이트'],\n",
       " [277, '화이트', '그레이'],\n",
       " [278, '화이트', '블랙'],\n",
       " [279, '베이지', '블랙'],\n",
       " [280, '화이트', '브라운'],\n",
       " [281, '브라운', '스카이블루'],\n",
       " [282, '화이트', '스카이블루'],\n",
       " [283, '블랙', '네이비색'],\n",
       " [284, '블랙', '화이트'],\n",
       " [285, '오렌지', '화이트'],\n",
       " [287, '블랙', '그린색'],\n",
       " [288, '베이지', '핑크색'],\n",
       " [289, '블랙', '퍼플'],\n",
       " [290, '그레이', '블랙색'],\n",
       " [292, '브라운', '화이트'],\n",
       " [293, '블루', '네이비색'],\n",
       " [294, '스카이블루', '오렌지색'],\n",
       " [295, '실버', '옐로우'],\n",
       " [297, '화이트', '브라운'],\n",
       " [298, '블랙', '블루색'],\n",
       " [299, '퍼플', '브라운'],\n",
       " [300, '베이지', '블랙'],\n",
       " [301, '그레이', '베이지'],\n",
       " [302, '실버', '블랙'],\n",
       " [303, '베이지', '블루'],\n",
       " [306, '베이지', '베이지색'],\n",
       " [307, '화이트', '스카이블루'],\n",
       " [308, '블랙', '그레이'],\n",
       " [309, '블루', '블랙'],\n",
       " [310, '실버', '화이트'],\n",
       " [311, '블루', '화이트'],\n",
       " [312, '브라운', '블랙'],\n",
       " [313, '화이트', '그린색'],\n",
       " [314, '네이비', '블랙'],\n",
       " [315, '블랙', '핑크색'],\n",
       " [316, '베이지', '스카이블루'],\n",
       " [317, '퍼플', '옐로우'],\n",
       " [318, '네이비', '그린'],\n",
       " [319, '라벤더', '블루색'],\n",
       " [320, '블루', '블랙'],\n",
       " [321, '베이지', '민트색'],\n",
       " [322, '블랙', '핑크색'],\n",
       " [323, '그레이', '화이트색'],\n",
       " [324, '옐로우', '블랙'],\n",
       " [325, '민트', '옐로우'],\n",
       " [326, '화이트', '레드']]"
      ]
     },
     "execution_count": 21,
     "metadata": {},
     "output_type": "execute_result"
    }
   ],
   "source": [
    "test_1_failed[\"color\"]"
   ]
  },
  {
   "cell_type": "markdown",
   "id": "8a4c650f-52ec-406b-a4ec-5bcfb3dee485",
   "metadata": {
    "jp-MarkdownHeadingCollapsed": true,
    "tags": []
   },
   "source": [
    "#### Testset2"
   ]
  },
  {
   "cell_type": "code",
   "execution_count": 21,
   "id": "83abbaae-5429-4216-8e07-98da06bbff3b",
   "metadata": {
    "tags": []
   },
   "outputs": [],
   "source": [
    "with open(\"jovis_model/_db/skb/testsets/keyword_extractor/querys_500_price_strict.pkl\", \"rb\") as f:\n",
    "    data = pickle.load(f)"
   ]
  },
  {
   "cell_type": "code",
   "execution_count": 22,
   "id": "f94509e0-eb30-481f-a771-99ed3d69b152",
   "metadata": {
    "tags": []
   },
   "outputs": [],
   "source": [
    "test_2_querys, test_2_labels = [], []\n",
    "for d in data[:500]:\n",
    "    test_2_querys.append(d[\"query\"])\n",
    "    tmp = d[\"metadata\"]\n",
    "    tmp_label = {}\n",
    "    if not isinstance(tmp[\"아이템\"], float):\n",
    "        tmp_label[\"item\"] = tmp[\"아이템\"]\n",
    "    if not isinstance(tmp[\"재질\"], float):\n",
    "        tmp_label[\"material\"] = tmp[\"재질\"]\n",
    "    if not isinstance(tmp[\"색상\"], float):\n",
    "        tmp_label[\"color\"] = tmp[\"색상\"]\n",
    "    if not isinstance(tmp[\"가격\"], float):\n",
    "        tmp_label[\"price\"] = int(\"\".join(re.findall(r\"\\d+\", tmp[\"가격\"])))\n",
    "    test_2_labels.append(tmp_label)"
   ]
  },
  {
   "cell_type": "code",
   "execution_count": 23,
   "id": "a3dab501-a6f3-41ac-9c7e-66f3f3dfeded",
   "metadata": {
    "tags": []
   },
   "outputs": [
    {
     "data": {
      "application/vnd.jupyter.widget-view+json": {
       "model_id": "ad4b671217ff49888e712bd1fc6d2401",
       "version_major": 2,
       "version_minor": 0
      },
      "text/plain": [
       "  0%|          | 0/500 [00:00<?, ?it/s]"
      ]
     },
     "metadata": {},
     "output_type": "display_data"
    }
   ],
   "source": [
    "test_2_success, test_2_error = test_query(test_2_querys, test_prompt)"
   ]
  },
  {
   "cell_type": "code",
   "execution_count": 24,
   "id": "4ee973c8-f4d9-4d14-a8d4-2c30b5ef50ef",
   "metadata": {
    "tags": []
   },
   "outputs": [
    {
     "data": {
      "application/vnd.jupyter.widget-view+json": {
       "model_id": "2c6919d6f42c4441804260a1fae33fb9",
       "version_major": 2,
       "version_minor": 0
      },
      "text/plain": [
       "  0%|          | 0/500 [00:00<?, ?it/s]"
      ]
     },
     "metadata": {},
     "output_type": "display_data"
    }
   ],
   "source": [
    "test_2_preds = parse_result_output(test_2_success)"
   ]
  },
  {
   "cell_type": "code",
   "execution_count": 39,
   "id": "151ac3d6-65ef-4f35-859d-12c65b765b45",
   "metadata": {},
   "outputs": [],
   "source": [
    "test_2_acc, test_2_failed = get_accuracy(test_2_labels, test_2_preds)"
   ]
  },
  {
   "cell_type": "code",
   "execution_count": 40,
   "id": "859e15c4-c059-4d15-a345-d0d54b3bd70d",
   "metadata": {
    "tags": []
   },
   "outputs": [
    {
     "data": {
      "text/plain": [
       "{'item': 0.636,\n",
       " 'material': 0.7619047619047619,\n",
       " 'color': 0.8038793103448276,\n",
       " 'price': 0.84}"
      ]
     },
     "execution_count": 40,
     "metadata": {},
     "output_type": "execute_result"
    }
   ],
   "source": [
    "test_2_acc"
   ]
  },
  {
   "cell_type": "markdown",
   "id": "88fc4672-382b-49c6-a07c-9d7a56188d7e",
   "metadata": {
    "jp-MarkdownHeadingCollapsed": true,
    "tags": []
   },
   "source": [
    "# Meta embeddings"
   ]
  },
  {
   "cell_type": "code",
   "execution_count": 47,
   "id": "fbacb108-f5b2-4abf-890d-2b10248d155b",
   "metadata": {
    "tags": []
   },
   "outputs": [],
   "source": [
    "from jovis_model.utils.mapping import ATTRIBUTE"
   ]
  },
  {
   "cell_type": "code",
   "execution_count": 51,
   "id": "9868a4b9-1287-44ed-989b-8dfbd5e4e209",
   "metadata": {
    "tags": []
   },
   "outputs": [],
   "source": [
    "attr_keywords = []\n",
    "for attr_dict in list(ATTRIBUTE.values()):\n",
    "    attr_keywords.append(attr_dict[\"ko\"])\n",
    "    attr_keywords.append(attr_dict[\"en\"])"
   ]
  },
  {
   "cell_type": "code",
   "execution_count": 53,
   "id": "03568a78-136b-4015-b6fa-abd062429f69",
   "metadata": {
    "tags": []
   },
   "outputs": [
    {
     "data": {
      "application/vnd.jupyter.widget-view+json": {
       "model_id": "c44d8f9ce6c84406ac096d7cf9cea143",
       "version_major": 2,
       "version_minor": 0
      },
      "text/plain": [
       "  0%|          | 0/1798 [00:00<?, ?it/s]"
      ]
     },
     "metadata": {},
     "output_type": "display_data"
    }
   ],
   "source": [
    "embeddings = []\n",
    "for kw in tqdm(attr_keywords):\n",
    "    embeddings.append(se_runner.run([kw]).detach().cpu().numpy()[0].tolist())"
   ]
  },
  {
   "cell_type": "code",
   "execution_count": 62,
   "id": "ea39b3f2-16a2-4076-9f78-d76678e0eb38",
   "metadata": {
    "tags": []
   },
   "outputs": [],
   "source": [
    "build_faiss_index(\n",
    "    embeddings=embeddings,\n",
    "    save_path=\"outputs/skb\",\n",
    "    save_name=\"attr_embeddings_mpnet\",\n",
    "    pids=attr_keywords\n",
    ")"
   ]
  },
  {
   "cell_type": "code",
   "execution_count": 63,
   "id": "3cb89a8e-66e5-49db-b2ff-e95ed3b2a083",
   "metadata": {
    "tags": []
   },
   "outputs": [],
   "source": [
    "index_file_name = \"attr_embeddings_mpnet\"\n",
    "attr_index = faiss.read_index(f\"outputs/skb/{index_file_name}.index\")"
   ]
  },
  {
   "cell_type": "code",
   "execution_count": 65,
   "id": "4e496778-032c-451f-9f48-91eef02144f0",
   "metadata": {
    "tags": []
   },
   "outputs": [],
   "source": [
    "with open(f\"outputs/skb/{index_file_name}_map.json\", \"r\") as f:\n",
    "    attr_map = json.load(f)"
   ]
  },
  {
   "cell_type": "code",
   "execution_count": 89,
   "id": "6013e9b5-772e-42d7-8773-563524974443",
   "metadata": {
    "tags": []
   },
   "outputs": [],
   "source": [
    "attr_map_rev = {v: k for k, v in attr_map.items()}"
   ]
  },
  {
   "cell_type": "code",
   "execution_count": 143,
   "id": "89739249-9b73-4a09-a32f-dadc6518ccbf",
   "metadata": {
    "tags": []
   },
   "outputs": [],
   "source": [
    "search_vector = se_runner.run([\"니트베스트\"]).detach().cpu().numpy()[0].tolist()"
   ]
  },
  {
   "cell_type": "code",
   "execution_count": 144,
   "id": "7c66f5bc-f9c6-4ce3-b75b-043c81554037",
   "metadata": {
    "tags": []
   },
   "outputs": [],
   "source": [
    "score, indices = attr_index.search(np.array(search_vector).reshape(1, -1), 20)\n",
    "res = [attr_map[str(idx)] for idx in indices[0]]"
   ]
  },
  {
   "cell_type": "markdown",
   "id": "a992b670-61a8-4bc9-9f18-938dde835465",
   "metadata": {
    "jp-MarkdownHeadingCollapsed": true,
    "tags": []
   },
   "source": [
    "# Download"
   ]
  },
  {
   "cell_type": "code",
   "execution_count": 57,
   "id": "6fb24478-6c24-40f3-a782-186acfdb7994",
   "metadata": {
    "tags": []
   },
   "outputs": [],
   "source": [
    "bucket = boto3.resource(\"s3\").Bucket(\"bedrock-hackaton\")\n",
    "\n",
    "obj_keys = []\n",
    "for f in bucket.objects.filter(Prefix=\"01HZ64DQT6H8FQKMM78EYZ52SD/\").all():\n",
    "    obj_keys.append(f.key)"
   ]
  },
  {
   "cell_type": "code",
   "execution_count": 66,
   "id": "a666d62c-786c-45df-8a0a-915e3d1ec5e5",
   "metadata": {
    "tags": []
   },
   "outputs": [
    {
     "name": "stderr",
     "output_type": "stream",
     "text": [
      "100%|██████████| 20101/20101 [1:27:01<00:00,  3.85it/s]  \n"
     ]
    }
   ],
   "source": [
    "data_dict = {}\n",
    "for k in tqdm(obj_keys):\n",
    "    obj = bucket.Object(k)\n",
    "    pid = os.path.basename(k).split(\".\")[0]\n",
    "    data_dict[pid] = obj.get()[\"Body\"].read().decode(\"utf-8\")"
   ]
  },
  {
   "cell_type": "code",
   "execution_count": 67,
   "id": "af02bf82-b571-4222-81df-7fa85f32cbc6",
   "metadata": {
    "tags": []
   },
   "outputs": [],
   "source": [
    "with open(\"jovis_model/_db/skb/testsets/intention_classifier/ppl_documents.json\", \"w\") as f:\n",
    "    json.dump(data_dict, f)"
   ]
  },
  {
   "cell_type": "code",
   "execution_count": null,
   "id": "ce18a241-fa5c-4cf4-bb11-dd0a58ca6cfb",
   "metadata": {},
   "outputs": [],
   "source": []
  }
 ],
 "metadata": {
  "kernelspec": {
   "display_name": "jovis-model-py3.10",
   "language": "python",
   "name": "jovis-model-py3.10"
  },
  "language_info": {
   "codemirror_mode": {
    "name": "ipython",
    "version": 3
   },
   "file_extension": ".py",
   "mimetype": "text/x-python",
   "name": "python",
   "nbconvert_exporter": "python",
   "pygments_lexer": "ipython3",
   "version": "3.10.10"
  }
 },
 "nbformat": 4,
 "nbformat_minor": 5
}
