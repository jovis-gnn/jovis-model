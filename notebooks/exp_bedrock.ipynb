{
 "cells": [
  {
   "cell_type": "markdown",
   "id": "fb0d2cc5-4213-4207-b5ca-49b09752797b",
   "metadata": {},
   "source": [
    "# Import"
   ]
  },
  {
   "cell_type": "code",
   "execution_count": 1,
   "id": "95c9bf41-53e1-46b7-a4c7-243824d6caa7",
   "metadata": {
    "tags": []
   },
   "outputs": [],
   "source": [
    "import os\n",
    "\n",
    "os.chdir(os.path.dirname(os.getcwd()))"
   ]
  },
  {
   "cell_type": "code",
   "execution_count": 2,
   "id": "c9f98ecf-0fa5-4ca9-830b-5975cf656dae",
   "metadata": {
    "tags": []
   },
   "outputs": [],
   "source": [
    "from jovis_model.config import Config\n",
    "from run import ModelRunner"
   ]
  },
  {
   "cell_type": "markdown",
   "id": "4d1440c7-e734-4016-b2dd-762242f95b27",
   "metadata": {
    "tags": []
   },
   "source": [
    "# Bedrock"
   ]
  },
  {
   "cell_type": "code",
   "execution_count": 29,
   "id": "c578d5f2-e505-4d00-ae69-280bcc055e11",
   "metadata": {
    "tags": []
   },
   "outputs": [
    {
     "name": "stderr",
     "output_type": "stream",
     "text": [
      "02:32:13:PM:INFO: data module loaded\n",
      "02:32:14:PM:INFO: model module loaded\n"
     ]
    }
   ],
   "source": [
    "params = {\n",
    "    \"pkg\": \"llm\",\n",
    "    \"task\": \"bedrock\",\n",
    "    \"use_hf_model\": False,\n",
    "    \"params\": {\n",
    "        \"max_new_tokens\": 400\n",
    "    }\n",
    "}\n",
    "config = Config(**params)\n",
    "runner = ModelRunner(\n",
    "    config=config,\n",
    "    mode=\"inference\"\n",
    ")"
   ]
  },
  {
   "cell_type": "code",
   "execution_count": 56,
   "id": "7a82e6f6-5822-481e-98c3-b1dd9483a64a",
   "metadata": {
    "tags": []
   },
   "outputs": [],
   "source": [
    "PROMPT = \"\"\"\n",
    "You are an expert to generate utterances which can be used as an input to a e-commerce chatbot system.\n",
    "Generally, these utterances are related to fashion items worn by celebrities or actors in tv shows.\n",
    "Your task is to generate utterances which have specific intention.\n",
    "\n",
    "Here is the list of intention:\n",
    "<intention>\n",
    "1. item_search: Asking to search/find fashion products based on specific criteria, such as attributes(category, colors, material, print, neckline, etc.), occasion(wedding, picnic, etc.), or any other conditions (worn by some celebrities on tv shows, etc.)\n",
    "2. style_discuss: Asking for recommendations about fashion and styling products.\n",
    "3. program_actor_question: Asking questions about tv shows or actors.\n",
    "</intention>\n",
    "\n",
    "Here is the output format you should consider.\n",
    "<output_format>\n",
    "Provide your output in the following JSON format only. Enclose your JSON output with `<output>` and `</output>`:\n",
    "<output>\n",
    "{\n",
    "    \"output\": [\n",
    "        {\"intention\": <value>, \"utterance\": <value>},\n",
    "        {\"intention\": <value>, \"utterance\": <value>},\n",
    "        {\"intention\": <value>, \"utterance\": <value>}\n",
    "    ]\n",
    "}\n",
    "</output>\n",
    "There's some rule:\n",
    "1. one utterence per intention.\n",
    "2. All the value MUST be in Korean.\n",
    "</output_format>\n",
    "\"\"\""
   ]
  },
  {
   "cell_type": "code",
   "execution_count": 57,
   "id": "0202730d-8fa0-4a95-9eff-7ca08c5e57cf",
   "metadata": {
    "tags": []
   },
   "outputs": [],
   "source": [
    "dialogs = [\n",
    "    {\"role\": \"user\", \"content\": PROMPT}\n",
    "]"
   ]
  },
  {
   "cell_type": "code",
   "execution_count": 58,
   "id": "f023d673-3c7a-4150-a201-38bc5afc4922",
   "metadata": {
    "tags": []
   },
   "outputs": [],
   "source": [
    "res = runner.run(sample_inputs=dialogs)"
   ]
  },
  {
   "cell_type": "code",
   "execution_count": 59,
   "id": "f341a526-41b2-445f-8572-78da9a3ac767",
   "metadata": {
    "tags": []
   },
   "outputs": [
    {
     "name": "stdout",
     "output_type": "stream",
     "text": [
      "<output>\n",
      "{\n",
      "    \"output\": [\n",
      "        {\"intention\": \"item_search\", \"utterance\": \"유명 배우가 착용한 원피스를 찾고 싶습니다.\"},\n",
      "        {\"intention\": \"style_discuss\", \"utterance\": \"결혼식에 어울리는 드레스 스타일링 팁을 알려주세요.\"},\n",
      "        {\"intention\": \"program_actor_question\", \"utterance\": \"드라마 '우리들의 블루스'에 출연한 배우들에 대해 알고 싶습니다.\"}\n",
      "    ]\n",
      "}\n",
      "</output>\n"
     ]
    }
   ],
   "source": [
    "print(res)"
   ]
  }
 ],
 "metadata": {
  "kernelspec": {
   "display_name": "jovis-model-py3.10",
   "language": "python",
   "name": "jovis-model-py3.10"
  },
  "language_info": {
   "codemirror_mode": {
    "name": "ipython",
    "version": 3
   },
   "file_extension": ".py",
   "mimetype": "text/x-python",
   "name": "python",
   "nbconvert_exporter": "python",
   "pygments_lexer": "ipython3",
   "version": "3.10.10"
  }
 },
 "nbformat": 4,
 "nbformat_minor": 5
}
