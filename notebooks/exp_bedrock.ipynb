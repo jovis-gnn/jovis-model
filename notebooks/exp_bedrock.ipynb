{
 "cells": [
  {
   "cell_type": "markdown",
   "id": "fb0d2cc5-4213-4207-b5ca-49b09752797b",
   "metadata": {},
   "source": [
    "# Import"
   ]
  },
  {
   "cell_type": "code",
   "execution_count": null,
   "id": "95c9bf41-53e1-46b7-a4c7-243824d6caa7",
   "metadata": {},
   "outputs": [],
   "source": [
    "import os\n",
    "\n",
    "os.chdir(os.path.dirname(os.getcwd()))"
   ]
  },
  {
   "cell_type": "code",
   "execution_count": null,
   "id": "555c014b-f015-4566-9165-f53d09354f19",
   "metadata": {},
   "outputs": [],
   "source": [
    "from jovis_model.config import Config\n",
    "from run import ModelRunner"
   ]
  },
  {
   "cell_type": "markdown",
   "id": "4d1440c7-e734-4016-b2dd-762242f95b27",
   "metadata": {},
   "source": [
    "# Bedrock"
   ]
  },
  {
   "cell_type": "code",
   "execution_count": null,
   "id": "c578d5f2-e505-4d00-ae69-280bcc055e11",
   "metadata": {},
   "outputs": [],
   "source": [
    "# params = {\n",
    "#     \"pkg\": \"llm\",\n",
    "#     \"task\": \"chat\",\n",
    "#     \"use_hf_model\": True,\n",
    "#     \"params\": {\n",
    "#         \"hf_name\": \"meta-llama/Meta-Llama-3-8B-Instruct\"\n",
    "#     }\n",
    "# }\n",
    "params = {\n",
    "    \"pkg\": \"llm\",\n",
    "    \"task\": \"bedrock\",\n",
    "    \"use_hf_model\": False,\n",
    "    \"params\": {\n",
    "    }\n",
    "}\n",
    "config = Config(**params)\n",
    "runner = ModelRunner(\n",
    "    config=config,\n",
    "    mode=\"inference\"\n",
    ")"
   ]
  },
  {
   "cell_type": "code",
   "execution_count": null,
   "id": "bc2dff44-45f3-421a-a68d-3059ebe64ec4",
   "metadata": {},
   "outputs": [],
   "source": [
    "dialogs = [\n",
    "    {\"role\": \"user\", \"content\": \"What is you name?\"}\n",
    "]\n",
    "\n",
    "out = runner.run(\n",
    "    sample_inputs=dialogs\n",
    ")"
   ]
  }
 ],
 "metadata": {
  "kernelspec": {
   "display_name": "jovis-model-py3.10",
   "language": "python",
   "name": "jovis-model-py3.10"
  },
  "language_info": {
   "codemirror_mode": {
    "name": "ipython",
    "version": 3
   },
   "file_extension": ".py",
   "mimetype": "text/x-python",
   "name": "python",
   "nbconvert_exporter": "python",
   "pygments_lexer": "ipython3",
   "version": "3.10.10"
  }
 },
 "nbformat": 4,
 "nbformat_minor": 5
}
