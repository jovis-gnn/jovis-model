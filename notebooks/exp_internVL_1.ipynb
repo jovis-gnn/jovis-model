{
 "cells": [
  {
   "cell_type": "markdown",
   "id": "e61c2ced-873e-4a76-97e3-391fbed0d602",
   "metadata": {},
   "source": [
    "# Import"
   ]
  },
  {
   "cell_type": "code",
   "execution_count": 1,
   "id": "95c9bf41-53e1-46b7-a4c7-243824d6caa7",
   "metadata": {
    "tags": []
   },
   "outputs": [],
   "source": [
    "import os\n",
    "\n",
    "os.chdir(os.path.dirname(os.getcwd()))"
   ]
  },
  {
   "cell_type": "code",
   "execution_count": 2,
   "id": "e0f7a171-ad98-43af-8791-7fb18112eb61",
   "metadata": {
    "tags": []
   },
   "outputs": [],
   "source": [
    "import json\n",
    "from tqdm import tqdm\n",
    "from collections import defaultdict\n",
    "\n",
    "import faiss\n",
    "import pickle\n",
    "import numpy as np\n",
    "\n",
    "from run import ModelRunner\n",
    "from jovis_model.config import Config\n",
    "from jovis_model.utils.helper import build_faiss_index\n",
    "from jovis_model.utils.report import ReportMaker"
   ]
  },
  {
   "cell_type": "markdown",
   "id": "45abcb9f-2de3-4848-8a4b-d4fe200c4c7f",
   "metadata": {},
   "source": [
    "# InternVL Report"
   ]
  },
  {
   "cell_type": "markdown",
   "id": "6876ab5c-df82-4890-b1c9-430edd862ac4",
   "metadata": {},
   "source": [
    "### Runner"
   ]
  },
  {
   "cell_type": "code",
   "execution_count": 3,
   "id": "6a81c5cc-6f05-45db-a27d-6e95537190c1",
   "metadata": {
    "tags": []
   },
   "outputs": [
    {
     "name": "stderr",
     "output_type": "stream",
     "text": [
      "/home/omnious/workspace/jovis/jovis-model/.venv/lib/python3.10/site-packages/huggingface_hub/file_download.py:1132: FutureWarning: `resume_download` is deprecated and will be removed in version 1.0.0. Downloads always resume when possible. If you want to force a new download, use `force_download=True`.\n",
      "  warnings.warn(\n"
     ]
    }
   ],
   "source": [
    "params = {\n",
    "    \"pkg\": \"llm\",\n",
    "    \"task\": \"sentence_embedding\",\n",
    "    \"use_hf_model\": True,\n",
    "    \"params\": {\n",
    "        \"hf_name\": \"sentence-transformers/paraphrase-multilingual-mpnet-base-v2\",\n",
    "    }\n",
    "}\n",
    "config = Config(**params)\n",
    "runner = ModelRunner(\n",
    "    config=config,\n",
    "    mode=\"inference\"\n",
    ")"
   ]
  },
  {
   "cell_type": "markdown",
   "id": "edcec1a5-513d-4162-95ea-8ed6bb766dfc",
   "metadata": {},
   "source": [
    "### Helper"
   ]
  },
  {
   "cell_type": "code",
   "execution_count": 4,
   "id": "ebff8571-0a8d-4dc9-88b3-5a2ef1b19c76",
   "metadata": {
    "tags": []
   },
   "outputs": [],
   "source": [
    "def parse_desc(desc, target:list, dropna: bool = True):\n",
    "    parsed = {}\n",
    "    try:\n",
    "        desc = json.loads(desc)\n",
    "        for k, v in desc.items():\n",
    "            if k in target: \n",
    "                if k == \"Fashion attribute\":\n",
    "                    if isinstance(v, dict):\n",
    "                        fa_dict = {}\n",
    "                        for k_, v_ in v.items():\n",
    "                            if v_ != \"N/A\":\n",
    "                                fa_dict[k_] = v_\n",
    "                        v = fa_dict\n",
    "                    parsed[k] = v \n",
    "                else:\n",
    "                    if v != \"N/A\":\n",
    "                        parsed[k] = v\n",
    "    except Exception as e:\n",
    "        return None\n",
    "    return parsed"
   ]
  },
  {
   "cell_type": "markdown",
   "id": "172737cc-83f3-4042-b00b-38e6c5d0fd96",
   "metadata": {},
   "source": [
    "### descriptions"
   ]
  },
  {
   "cell_type": "code",
   "execution_count": 5,
   "id": "07f5151d-6a9b-4d8d-96a2-691736bc9d03",
   "metadata": {
    "tags": []
   },
   "outputs": [],
   "source": [
    "with open(\"outputs/skb/descriptions_original.json\", \"r\") as f:\n",
    "    desc = json.load(f)"
   ]
  },
  {
   "cell_type": "markdown",
   "id": "051cfd46-4a0e-40e6-be84-ac5e3841dc82",
   "metadata": {},
   "source": [
    "### build search embeddings"
   ]
  },
  {
   "cell_type": "code",
   "execution_count": 6,
   "id": "e067a67b-e1d2-48bc-b69f-8cfcc6b96af5",
   "metadata": {
    "tags": []
   },
   "outputs": [],
   "source": [
    "target_columns = [\"Season\", \"Place\", \"Occasion\", \"Style\", \"Gender\", \"Background\", \"Model\", \"Fashion attribute\"]\n",
    "dropna=True"
   ]
  },
  {
   "cell_type": "code",
   "execution_count": 7,
   "id": "229ab07b-4647-462a-bcc7-70b2c28e7063",
   "metadata": {
    "tags": []
   },
   "outputs": [
    {
     "name": "stderr",
     "output_type": "stream",
     "text": [
      "100%|██████████| 19180/19180 [03:58<00:00, 80.42it/s] "
     ]
    },
    {
     "name": "stdout",
     "output_type": "stream",
     "text": [
      "Total: 19180, Success: 19174\n"
     ]
    },
    {
     "name": "stderr",
     "output_type": "stream",
     "text": [
      "\n"
     ]
    }
   ],
   "source": [
    "pids = []\n",
    "embeddings = []\n",
    "for pid, des in tqdm(desc.items()):\n",
    "    des = parse_desc(\n",
    "        des,\n",
    "        target=target_columns,\n",
    "        dropna=dropna\n",
    "    )\n",
    "    if des:\n",
    "        des = json.dumps(des)\n",
    "        pids.append(pid)\n",
    "        embeddings.append(runner.run([des]).detach().cpu().numpy()[0])\n",
    "        \n",
    "print(f\"Total: {len(desc)}, Success: {len(pids)}\")"
   ]
  },
  {
   "cell_type": "code",
   "execution_count": 8,
   "id": "7ca2b64c-6e0d-4812-a231-1231ee01655e",
   "metadata": {
    "tags": []
   },
   "outputs": [],
   "source": [
    "build_faiss_index(\n",
    "    embeddings=embeddings,\n",
    "    save_path=\"outputs/skb\",\n",
    "    save_name=\"descriptions_all_mpnet\",\n",
    "    pids=pids\n",
    ")"
   ]
  },
  {
   "cell_type": "markdown",
   "id": "2c0103f0-3492-4ddc-ac65-4f645ccea588",
   "metadata": {},
   "source": [
    "### build quey embeddings"
   ]
  },
  {
   "cell_type": "code",
   "execution_count": 9,
   "id": "6ef7846f-51c2-429e-a552-b866cc3c55bc",
   "metadata": {
    "tags": []
   },
   "outputs": [],
   "source": [
    "target_columns = [\"Season\", \"Place\", \"Occasion\", \"Style\"]\n",
    "dropna=True"
   ]
  },
  {
   "cell_type": "code",
   "execution_count": 10,
   "id": "fa3e13f9-dee0-4f5c-81be-2c236616d24b",
   "metadata": {
    "tags": []
   },
   "outputs": [
    {
     "name": "stderr",
     "output_type": "stream",
     "text": [
      "100%|██████████| 19180/19180 [03:29<00:00, 91.35it/s] "
     ]
    },
    {
     "name": "stdout",
     "output_type": "stream",
     "text": [
      "Total: 19180, Success: 17368\n"
     ]
    },
    {
     "name": "stderr",
     "output_type": "stream",
     "text": [
      "\n"
     ]
    }
   ],
   "source": [
    "pids = []\n",
    "embeddings = []\n",
    "for pid, des in tqdm(desc.items()):\n",
    "    des = parse_desc(\n",
    "        des,\n",
    "        target=target_columns,\n",
    "        dropna=dropna\n",
    "    )\n",
    "    if des:\n",
    "        des = json.dumps(des)\n",
    "        pids.append(pid)\n",
    "        embeddings.append(runner.run([des]).detach().cpu().numpy()[0].tolist())\n",
    "print(f\"Total: {len(desc)}, Success: {len(pids)}\")"
   ]
  },
  {
   "cell_type": "code",
   "execution_count": 11,
   "id": "982de3c2-7423-43df-a262-2805f1d4d9c7",
   "metadata": {
    "tags": []
   },
   "outputs": [],
   "source": [
    "f_name = \"query_embeddings_4cols_mpnet\""
   ]
  },
  {
   "cell_type": "code",
   "execution_count": 12,
   "id": "02119b2f-842e-4df2-bedc-c66db55535a7",
   "metadata": {
    "tags": []
   },
   "outputs": [],
   "source": [
    "with open(f\"outputs/skb/{f_name}.json\", \"w\") as f:\n",
    "    json.dump({k:v for k, v in zip(pids, embeddings)}, f)"
   ]
  },
  {
   "cell_type": "markdown",
   "id": "644b376d-7202-4c89-bc3a-c35cb6899abd",
   "metadata": {},
   "source": [
    "### Evaluation"
   ]
  },
  {
   "cell_type": "code",
   "execution_count": 13,
   "id": "ace37eb0-2e19-4d36-a6e1-9c6ad337c9dd",
   "metadata": {
    "tags": []
   },
   "outputs": [],
   "source": [
    "index_file_name = \"descriptions_all_mpnet\""
   ]
  },
  {
   "cell_type": "code",
   "execution_count": 14,
   "id": "856afe78-152b-4e16-9353-9a914f2a9be5",
   "metadata": {
    "tags": []
   },
   "outputs": [],
   "source": [
    "query_file_name = \"query_embeddings_4cols_mpnet\""
   ]
  },
  {
   "cell_type": "code",
   "execution_count": 15,
   "id": "e17dc787-d534-414e-a108-36ab278b87cc",
   "metadata": {
    "tags": []
   },
   "outputs": [],
   "source": [
    "desc_index = faiss.read_index(f\"outputs/skb/{index_file_name}.index\")\n",
    "with open(f\"outputs/skb/{index_file_name}_map.json\", \"r\") as f:\n",
    "    desc_map = json.load(f)\n",
    "with open(f\"outputs/skb/{query_file_name}.json\", \"r\") as f:\n",
    "    desc_text_embeddings = json.load(f)"
   ]
  },
  {
   "cell_type": "code",
   "execution_count": 17,
   "id": "32001d1d-9e84-408b-b995-1e6c9917713c",
   "metadata": {
    "tags": []
   },
   "outputs": [
    {
     "data": {
      "text/plain": [
       "17368"
      ]
     },
     "execution_count": 17,
     "metadata": {},
     "output_type": "execute_result"
    }
   ],
   "source": [
    "len(desc_text_embeddings)"
   ]
  },
  {
   "cell_type": "code",
   "execution_count": 19,
   "id": "bef66259-a026-4a5a-8acf-19f2f57bf899",
   "metadata": {
    "tags": []
   },
   "outputs": [
    {
     "name": "stderr",
     "output_type": "stream",
     "text": [
      "100%|██████████| 17368/17368 [38:37<00:00,  7.49it/s]\n"
     ]
    }
   ],
   "source": [
    "res = {}\n",
    "hit = 0\n",
    "topk = 10\n",
    "for pid, embed in tqdm(list(desc_text_embeddings.items())):\n",
    "    scores, ids = desc_index.search(np.array(embed).reshape(1, -1), topk)\n",
    "    scores = [f\"[invl] {s:.4f}\" for s in scores[0]]\n",
    "    ids = [desc_map[str(i)] for i in ids[0]]\n",
    "    if pid in ids:\n",
    "        hit += 1"
   ]
  },
  {
   "cell_type": "markdown",
   "id": "20546c85-067c-48cc-b29d-d044139a5530",
   "metadata": {},
   "source": [
    "### for report"
   ]
  },
  {
   "cell_type": "code",
   "execution_count": 72,
   "id": "d7bf08b1-eff4-4623-9f08-ee6477eed2bf",
   "metadata": {},
   "outputs": [],
   "source": [
    "target_columns = [\"Season\", \"Place\", \"Occasion\", \"Style\", \"Fashion attribute\"]\n",
    "dropna=True"
   ]
  },
  {
   "cell_type": "code",
   "execution_count": 73,
   "id": "521e5165-1c08-4f22-a220-7a549f43eb6a",
   "metadata": {},
   "outputs": [
    {
     "name": "stderr",
     "output_type": "stream",
     "text": [
      "100%|██████████| 19180/19180 [00:00<00:00, 60666.32it/s]\n"
     ]
    }
   ],
   "source": [
    "querys = {}\n",
    "for pid, des in tqdm(desc.items()):\n",
    "    des = parse_desc(\n",
    "        des,\n",
    "        target=target_columns,\n",
    "        dropna=dropna\n",
    "    )\n",
    "    if des:\n",
    "        f_des = []\n",
    "        for t in target_columns:\n",
    "            tmp = des.get(t, \"\")\n",
    "            if tmp != \"\":\n",
    "                if t == \"Fashion attribute\":\n",
    "                    if isinstance(tmp, dict):\n",
    "                        for k, v in tmp.items():\n",
    "                            f_des.append(f\"{k}: {v}\")\n",
    "                    else:\n",
    "                        f_des.append(f\"{t}: {tmp}\")\n",
    "                else:\n",
    "                    f_des.append(f\"{t}: {tmp}\")\n",
    "        f_des = \"<br>\".join(f_des)\n",
    "        querys[pid] = f_des "
   ]
  },
  {
   "cell_type": "code",
   "execution_count": 80,
   "id": "93ca60e0-429d-46bf-848e-5982e2043d6f",
   "metadata": {},
   "outputs": [],
   "source": [
    "topk = 5"
   ]
  },
  {
   "cell_type": "code",
   "execution_count": 81,
   "id": "7ef1cccc-a677-441c-a835-b8ef08b427ab",
   "metadata": {},
   "outputs": [
    {
     "name": "stderr",
     "output_type": "stream",
     "text": [
      "100%|██████████| 100/100 [00:01<00:00, 84.06it/s]\n"
     ]
    }
   ],
   "source": [
    "res = {}\n",
    "hit = 0\n",
    "for pid, embed in tqdm(list(desc_text_embeddings.items())[:100]):\n",
    "    res[pid] = defaultdict(list)\n",
    "    scores, ids = desc_index.search(np.array(embed).reshape(1, -1), topk)\n",
    "    scores = [\"[invl] {:.4f}\".format(s) for s in scores[0]]\n",
    "    ids = [desc_map[str(i)] for i in ids[0]]\n",
    "    scores = [[i, s] for i, s in zip(ids, scores)]\n",
    "    desc_str = querys[pid]\n",
    "    res[pid][desc_str].append({\"text\": scores, \"image\": ids})\n",
    "    if pid in ids:\n",
    "        hit += 1"
   ]
  },
  {
   "cell_type": "code",
   "execution_count": 82,
   "id": "81503583-32c2-4c5b-9f5d-5233fe6f9edc",
   "metadata": {},
   "outputs": [],
   "source": [
    "rm = ReportMaker(\n",
    "    data_dict=res,\n",
    "    image_path=\"/data/local/multimodal_for_skb/images/skb\",\n",
    "    max_len=10\n",
    ")"
   ]
  },
  {
   "cell_type": "code",
   "execution_count": 83,
   "id": "04aa5ec9-3787-4217-b45a-db72cac8ed77",
   "metadata": {},
   "outputs": [],
   "source": [
    "rm.make_report(\n",
    "    save_path=\"outputs/skb\",\n",
    "    save_name=\"multimodal_internvl_1\"\n",
    ")"
   ]
  }
 ],
 "metadata": {
  "kernelspec": {
   "display_name": "jovis-model-py3.10",
   "language": "python",
   "name": "jovis-model-py3.10"
  },
  "language_info": {
   "codemirror_mode": {
    "name": "ipython",
    "version": 3
   },
   "file_extension": ".py",
   "mimetype": "text/x-python",
   "name": "python",
   "nbconvert_exporter": "python",
   "pygments_lexer": "ipython3",
   "version": "3.10.10"
  }
 },
 "nbformat": 4,
 "nbformat_minor": 5
}
