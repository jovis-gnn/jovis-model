{
 "cells": [
  {
   "cell_type": "markdown",
   "id": "af3cbbe5-b2ea-4af8-880c-a9cfa07a38ae",
   "metadata": {},
   "source": [
    "# Import"
   ]
  },
  {
   "cell_type": "code",
   "execution_count": 1,
   "id": "699f70cd-8b68-4d0a-830a-b5da40cae8ad",
   "metadata": {
    "tags": []
   },
   "outputs": [],
   "source": [
    "import os\n",
    "\n",
    "os.chdir(os.path.dirname(os.getcwd()))"
   ]
  },
  {
   "cell_type": "code",
   "execution_count": 2,
   "id": "b4ac4132-1adc-401e-9c7c-d530d59eed30",
   "metadata": {
    "tags": []
   },
   "outputs": [],
   "source": [
    "import json\n",
    "\n",
    "import pandas as pd\n",
    "from transformers.models.auto.tokenization_auto import get_tokenizer_config\n",
    "\n",
    "from jovis_model.config import Config\n",
    "from jovis_model.datasets.llm.chat import ChatProcessor\n",
    "from run import ModelRunner"
   ]
  },
  {
   "cell_type": "markdown",
   "id": "abf10620-65fe-4c53-bbff-3ab291e3022c",
   "metadata": {},
   "source": [
    "# Model"
   ]
  },
  {
   "cell_type": "code",
   "execution_count": 3,
   "id": "8b4e7ae9-afd9-491b-aba6-9dfda0ee6682",
   "metadata": {
    "tags": []
   },
   "outputs": [
    {
     "name": "stderr",
     "output_type": "stream",
     "text": [
      "Special tokens have been added in the vocabulary, make sure the associated word embeddings are fine-tuned or trained.\n",
      "/home/omnious/workspace/jovis/jovis-model/.venv/lib/python3.10/site-packages/huggingface_hub/file_download.py:1132: FutureWarning: `resume_download` is deprecated and will be removed in version 1.0.0. Downloads always resume when possible. If you want to force a new download, use `force_download=True`.\n",
      "  warnings.warn(\n",
      "Special tokens have been added in the vocabulary, make sure the associated word embeddings are fine-tuned or trained.\n"
     ]
    },
    {
     "data": {
      "application/vnd.jupyter.widget-view+json": {
       "model_id": "4f2fbbcaa9e745b9be9fe6d82d288754",
       "version_major": 2,
       "version_minor": 0
      },
      "text/plain": [
       "Loading checkpoint shards:   0%|          | 0/4 [00:00<?, ?it/s]"
      ]
     },
     "metadata": {},
     "output_type": "display_data"
    }
   ],
   "source": [
    "params = {\n",
    "    \"pkg\": \"llm\",\n",
    "    \"task\": \"chat\",\n",
    "    \"use_hf_model\": True,\n",
    "    \"params\": {\n",
    "        \"hf_name\": \"meta-llama/Meta-Llama-3-8B-Instruct\"\n",
    "    }\n",
    "}\n",
    "config = Config(**params)\n",
    "runner = ModelRunner(\n",
    "    config=config,\n",
    "    mode=\"inference\"\n",
    ")\n",
    "# cp = ChatProcessor(config)"
   ]
  },
  {
   "cell_type": "code",
   "execution_count": 13,
   "id": "8e45716a-165f-4d8f-a316-2a48a7ae7744",
   "metadata": {
    "tags": []
   },
   "outputs": [
    {
     "data": {
      "text/plain": [
       "Parameter containing:\n",
       "tensor([[ 1.2970e-03,  5.3711e-03, -2.2125e-03,  ...,  2.0752e-03,\n",
       "         -1.4801e-03, -2.5749e-05],\n",
       "        [-2.2125e-03,  1.5488e-03, -1.3809e-03,  ...,  4.6921e-04,\n",
       "         -1.3580e-03, -1.4877e-03],\n",
       "        [ 3.0823e-03, -1.3855e-02, -2.7275e-04,  ...,  2.7771e-03,\n",
       "          7.4463e-03,  3.5858e-03],\n",
       "        ...,\n",
       "        [ 1.8612e-23,  3.2570e-24,  1.8095e-23,  ...,  5.3767e-23,\n",
       "         -2.2230e-24, -1.9749e-23],\n",
       "        [ 1.9232e-23, -1.8612e-24, -1.8715e-23,  ...,  2.3264e-23,\n",
       "          7.3412e-24, -3.1226e-23],\n",
       "        [-7.4446e-23, -6.3693e-23,  5.4801e-24,  ...,  4.9372e-24,\n",
       "         -5.4594e-23, -2.2747e-24]], device='cuda:0', dtype=torch.bfloat16,\n",
       "       requires_grad=True)"
      ]
     },
     "execution_count": 13,
     "metadata": {},
     "output_type": "execute_result"
    }
   ],
   "source": [
    "runner.mm.processor.model.model.embed_tokens.weight"
   ]
  },
  {
   "cell_type": "code",
   "execution_count": 17,
   "id": "69896437-7cb0-483d-9105-357a7b92d106",
   "metadata": {
    "tags": []
   },
   "outputs": [],
   "source": [
    "getattr(runner.mm.processor, \"get_metrics\", None)"
   ]
  },
  {
   "cell_type": "code",
   "execution_count": 4,
   "id": "df703413-d4bc-4f3e-8e91-1652cc1bdac9",
   "metadata": {
    "tags": []
   },
   "outputs": [],
   "source": [
    "data_dir = os.path.join(os.getcwd(), \"jovis_model/_db/llm/fine-tuning/alpaca\")\n",
    "file_name = \"alpaca_train.csv\"\n",
    "file_path = os.path.join(data_dir, file_name)"
   ]
  },
  {
   "cell_type": "code",
   "execution_count": 5,
   "id": "b8b36e14-d7f5-4601-b61c-50d6806163ea",
   "metadata": {
    "tags": []
   },
   "outputs": [],
   "source": [
    "train_dataset = runner.dm.processor.get_dataset(data_dir, file_name)"
   ]
  },
  {
   "cell_type": "markdown",
   "id": "27cc297a-6ba0-434d-b5b6-047ea3235110",
   "metadata": {},
   "source": [
    "- runner 점검\n",
    "- pure_bf ?\n",
    "- metric perplex ?\n",
    "- 4096 vs 8k ?"
   ]
  },
  {
   "cell_type": "code",
   "execution_count": null,
   "id": "c316e7fb-dc62-41a5-b532-cf5e5a16d357",
   "metadata": {},
   "outputs": [],
   "source": []
  }
 ],
 "metadata": {
  "kernelspec": {
   "display_name": "jovis-model-py3.10",
   "language": "python",
   "name": "jovis-model-py3.10"
  },
  "language_info": {
   "codemirror_mode": {
    "name": "ipython",
    "version": 3
   },
   "file_extension": ".py",
   "mimetype": "text/x-python",
   "name": "python",
   "nbconvert_exporter": "python",
   "pygments_lexer": "ipython3",
   "version": "3.10.10"
  }
 },
 "nbformat": 4,
 "nbformat_minor": 5
}
