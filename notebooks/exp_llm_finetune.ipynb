{
 "cells": [
  {
   "cell_type": "markdown",
   "id": "af3cbbe5-b2ea-4af8-880c-a9cfa07a38ae",
   "metadata": {},
   "source": [
    "# Import"
   ]
  },
  {
   "cell_type": "code",
   "execution_count": 1,
   "id": "699f70cd-8b68-4d0a-830a-b5da40cae8ad",
   "metadata": {
    "tags": []
   },
   "outputs": [],
   "source": [
    "import os\n",
    "\n",
    "os.chdir(os.path.dirname(os.getcwd()))"
   ]
  },
  {
   "cell_type": "code",
   "execution_count": 10,
   "id": "b4ac4132-1adc-401e-9c7c-d530d59eed30",
   "metadata": {
    "tags": []
   },
   "outputs": [],
   "source": [
    "import json\n",
    "\n",
    "import pandas as pd\n",
    "\n",
    "from jovis_model.config import Config\n",
    "from jovis_model.module import ModelModule, DataModule\n",
    "from run import ModelRunner"
   ]
  },
  {
   "cell_type": "markdown",
   "id": "abf10620-65fe-4c53-bbff-3ab291e3022c",
   "metadata": {
    "tags": []
   },
   "source": [
    "# Model"
   ]
  },
  {
   "cell_type": "code",
   "execution_count": 3,
   "id": "8b4e7ae9-afd9-491b-aba6-9dfda0ee6682",
   "metadata": {
    "tags": []
   },
   "outputs": [
    {
     "name": "stderr",
     "output_type": "stream",
     "text": [
      "Special tokens have been added in the vocabulary, make sure the associated word embeddings are fine-tuned or trained.\n",
      "05:06:11:PM:INFO: data module loaded\n",
      "/home/omnious/workspace/jovis/jovis-model/.venv/lib/python3.10/site-packages/huggingface_hub/file_download.py:1132: FutureWarning: `resume_download` is deprecated and will be removed in version 1.0.0. Downloads always resume when possible. If you want to force a new download, use `force_download=True`.\n",
      "  warnings.warn(\n",
      "Special tokens have been added in the vocabulary, make sure the associated word embeddings are fine-tuned or trained.\n"
     ]
    },
    {
     "data": {
      "application/vnd.jupyter.widget-view+json": {
       "model_id": "2de39ce2b650423d91300ff7b98115a6",
       "version_major": 2,
       "version_minor": 0
      },
      "text/plain": [
       "Loading checkpoint shards:   0%|          | 0/4 [00:00<?, ?it/s]"
      ]
     },
     "metadata": {},
     "output_type": "display_data"
    },
    {
     "name": "stderr",
     "output_type": "stream",
     "text": [
      "05:06:27:PM:INFO: model module loaded\n"
     ]
    }
   ],
   "source": [
    "params = {\n",
    "    \"pkg\": \"llm\",\n",
    "    \"task\": \"chat\",\n",
    "    \"use_hf_model\": True,\n",
    "    \"data_dir\": \"/home/omnious/workspace/jovis/jovis-model/jovis_model/_db/llm/fine-tuning/alpaca\",\n",
    "    \"output_dir\": \"/home/omnious/workspace/jovis/jovis-model/jovis_model/outputs\",\n",
    "    \"params\": {\n",
    "        \"hf_name\": \"meta-llama/Meta-Llama-3-8B-Instruct\",\n",
    "        \"quantization\": False,\n",
    "        \"use_fp16\": False\n",
    "    }\n",
    "}\n",
    "config = Config(**params)\n",
    "\n",
    "# mm = ModelModule(config)\n",
    "runner = ModelRunner(\n",
    "    config=config,\n",
    "    mode=\"inference\"\n",
    ")"
   ]
  },
  {
   "cell_type": "code",
   "execution_count": 12,
   "id": "4a595d3d-9c6e-4247-b069-109745fd4384",
   "metadata": {
    "tags": []
   },
   "outputs": [
    {
     "name": "stderr",
     "output_type": "stream",
     "text": [
      "Special tokens have been added in the vocabulary, make sure the associated word embeddings are fine-tuned or trained.\n"
     ]
    }
   ],
   "source": [
    "dm = DataModule(config)"
   ]
  },
  {
   "cell_type": "code",
   "execution_count": 14,
   "id": "f7c799a2-195f-48d4-8317-4b7fd8ff3c99",
   "metadata": {
    "tags": []
   },
   "outputs": [],
   "source": [
    "tokenizer = dm.processor.tokenizer"
   ]
  },
  {
   "cell_type": "code",
   "execution_count": 15,
   "id": "07acf9cc-a0eb-4e4f-ad1b-3f86af26a217",
   "metadata": {
    "tags": []
   },
   "outputs": [],
   "source": [
    "tokens = tokenizer.apply_chat_template(dialogs)"
   ]
  },
  {
   "cell_type": "code",
   "execution_count": 61,
   "id": "a6aecaa0-e419-4c55-9f22-d3a859a71f89",
   "metadata": {
    "tags": []
   },
   "outputs": [],
   "source": [
    "prompt = \"\"\"\n",
    "You are a translator who translate english to korean.\n",
    "Your task is to translate <english_text> to korean.\n",
    "\n",
    "The english text is:\n",
    "<english_text>\n",
    "hello llama?\n",
    "</english_text>\n",
    "\n",
    "Here is the output format.\n",
    "<output_format>\n",
    "Provide your output in the following JSON format only. Enclose your JSON output with `<output>` and `</output>`:\n",
    "<output>\n",
    "{\n",
    "    translated: <value>\n",
    "}\n",
    "</output>\n",
    "<output_format>\n",
    "\"\"\""
   ]
  },
  {
   "cell_type": "code",
   "execution_count": 87,
   "id": "0645b191-83bb-42d9-9668-8f214d35dd01",
   "metadata": {
    "tags": []
   },
   "outputs": [],
   "source": [
    "prompt = \"한국어로 존댓말로 대답해줘. 혹시 내가 하는 말 한국어로 변역할 수 있겠어?\""
   ]
  },
  {
   "cell_type": "code",
   "execution_count": 91,
   "id": "57419ac2-ab50-40f6-a50c-2abe130cd0cd",
   "metadata": {
    "tags": []
   },
   "outputs": [],
   "source": [
    "tmp_ass = \"네! 저는 한국어로 존댓말로 대답해 드리겠습니다. 물론! 당신이 하는 말 한국어로 변역할 수 있습니다. 대화에 참여하여 언어 장벽을 이기겠습니다!\""
   ]
  },
  {
   "cell_type": "code",
   "execution_count": 92,
   "id": "4f78c02a-a57b-4f23-8b41-22ec5238347a",
   "metadata": {
    "tags": []
   },
   "outputs": [],
   "source": [
    "dialogs = [\n",
    "    {\"role\": \"user\", \"content\": \"한국어로 존댓말로 대답해줘. 혹시 내가 하는 말 한국어로 변역할 수 있겠어?\"},\n",
    "    {\"role\": \"assistant\", \"content\": tmp_ass},\n",
    "    {\"role\": \"user\", \"content\": \"Hello, my name is Hyungeun Jo\"}\n",
    "]"
   ]
  },
  {
   "cell_type": "code",
   "execution_count": 93,
   "id": "73b846fe-202c-4422-9099-45a8ae57c064",
   "metadata": {
    "tags": []
   },
   "outputs": [],
   "source": [
    "res = runner.run(sample_inputs=dialogs)"
   ]
  },
  {
   "cell_type": "code",
   "execution_count": 94,
   "id": "541c21bf-676c-4533-bd86-00724b1e8133",
   "metadata": {
    "tags": []
   },
   "outputs": [
    {
     "name": "stdout",
     "output_type": "stream",
     "text": [
      "안녕하세요! 조홍근씨는 아니시군요? 좋은 이름입니다! 저는 AI입니다. 당신은 여기에서 한국어로 대화를 하거나 질문을 하실 겁니다. 어떤 것에 대해 질문하실지 기대해봐요!\n"
     ]
    }
   ],
   "source": [
    "print(res)"
   ]
  },
  {
   "cell_type": "markdown",
   "id": "e51a92dd-6aa9-4767-b931-60aec392567e",
   "metadata": {
    "jp-MarkdownHeadingCollapsed": true,
    "tags": []
   },
   "source": [
    "# TMP"
   ]
  },
  {
   "cell_type": "code",
   "execution_count": 3,
   "id": "4910bde6-f10b-4047-9e6f-1134df496430",
   "metadata": {
    "tags": []
   },
   "outputs": [],
   "source": [
    "data = pd.read_csv(\"jovis_model/_db/llm/fine-tuning/kit19/KIT-19-ToolKit-100000.csv\")"
   ]
  },
  {
   "cell_type": "code",
   "execution_count": 4,
   "id": "00d901e1-59be-4960-99c3-b3151d27e1e1",
   "metadata": {
    "tags": []
   },
   "outputs": [
    {
     "data": {
      "text/html": [
       "<div>\n",
       "<style scoped>\n",
       "    .dataframe tbody tr th:only-of-type {\n",
       "        vertical-align: middle;\n",
       "    }\n",
       "\n",
       "    .dataframe tbody tr th {\n",
       "        vertical-align: top;\n",
       "    }\n",
       "\n",
       "    .dataframe thead th {\n",
       "        text-align: right;\n",
       "    }\n",
       "</style>\n",
       "<table border=\"1\" class=\"dataframe\">\n",
       "  <thead>\n",
       "    <tr style=\"text-align: right;\">\n",
       "      <th></th>\n",
       "      <th>task</th>\n",
       "      <th>dataset</th>\n",
       "      <th>license</th>\n",
       "      <th>instruction</th>\n",
       "      <th>input</th>\n",
       "      <th>output</th>\n",
       "    </tr>\n",
       "  </thead>\n",
       "  <tbody>\n",
       "    <tr>\n",
       "      <th>0</th>\n",
       "      <td>hatespeech_detection</td>\n",
       "      <td>hatescore</td>\n",
       "      <td>Apache License 2.0</td>\n",
       "      <td>NaN</td>\n",
       "      <td>이집트 아랍 공화국) 또는 에굽은 북아프리카와 서아시아의 시나이 반도에 결쳐있는 국...</td>\n",
       "      <td>이 글의 내용 중에는 혐오표현도 악플도 아닙니다.</td>\n",
       "    </tr>\n",
       "    <tr>\n",
       "      <th>1</th>\n",
       "      <td>hatespeech_detection</td>\n",
       "      <td>hatescore</td>\n",
       "      <td>Apache License 2.0</td>\n",
       "      <td>NaN</td>\n",
       "      <td>그는 필리핀에서 온 사람이랑 싸웠다</td>\n",
       "      <td>이 텍스트는 혐오표현도 악플도 아닙니다.</td>\n",
       "    </tr>\n",
       "    <tr>\n",
       "      <th>2</th>\n",
       "      <td>hatespeech_detection</td>\n",
       "      <td>hatescore</td>\n",
       "      <td>Apache License 2.0</td>\n",
       "      <td>NaN</td>\n",
       "      <td>삼성만은 지켜주기</td>\n",
       "      <td>입력하신 텍스트의 내용은 혐오표현도 악플도 아닙니다.</td>\n",
       "    </tr>\n",
       "    <tr>\n",
       "      <th>3</th>\n",
       "      <td>hatespeech_detection</td>\n",
       "      <td>hatescore</td>\n",
       "      <td>Apache License 2.0</td>\n",
       "      <td>NaN</td>\n",
       "      <td>안녕하세요 레즈비언이랑 싸웠다</td>\n",
       "      <td>입력하신 텍스트의 내용은 혐오표현도 악플도 아닙니다.</td>\n",
       "    </tr>\n",
       "    <tr>\n",
       "      <th>4</th>\n",
       "      <td>hatespeech_detection</td>\n",
       "      <td>hatescore</td>\n",
       "      <td>Apache License 2.0</td>\n",
       "      <td>NaN</td>\n",
       "      <td>당신은 전라도 사람 본 적 있나?</td>\n",
       "      <td>입력하신 글은 혐오표현도 악플도 아닙니다.</td>\n",
       "    </tr>\n",
       "    <tr>\n",
       "      <th>...</th>\n",
       "      <td>...</td>\n",
       "      <td>...</td>\n",
       "      <td>...</td>\n",
       "      <td>...</td>\n",
       "      <td>...</td>\n",
       "      <td>...</td>\n",
       "    </tr>\n",
       "    <tr>\n",
       "      <th>99995</th>\n",
       "      <td>Sentiment Analysis</td>\n",
       "      <td>nsmc</td>\n",
       "      <td>CC0 1.0 DEED</td>\n",
       "      <td>NaN</td>\n",
       "      <td>좀 짜증나는 영화엄마도 짜증나고 맨디무어도 짜증나고맨디무어 목소리나 노래부른는 것의...</td>\n",
       "      <td>입력하신 텍스트의 내용은 부정적입니다.</td>\n",
       "    </tr>\n",
       "    <tr>\n",
       "      <th>99996</th>\n",
       "      <td>Sentiment Analysis</td>\n",
       "      <td>nsmc</td>\n",
       "      <td>CC0 1.0 DEED</td>\n",
       "      <td>NaN</td>\n",
       "      <td>1점도아깝다인터뷰만하다끝남</td>\n",
       "      <td>이 텍스트의 감정지수는 부정적입니다.</td>\n",
       "    </tr>\n",
       "    <tr>\n",
       "      <th>99997</th>\n",
       "      <td>Sentiment Analysis</td>\n",
       "      <td>nsmc</td>\n",
       "      <td>CC0 1.0 DEED</td>\n",
       "      <td>NaN</td>\n",
       "      <td>영화 내에서 폰다 한명이 변해가면서 미모를 찾아가는 모습을 보는것만으로도 볼만한 가...</td>\n",
       "      <td>이 텍스트는 긍정적입니다.</td>\n",
       "    </tr>\n",
       "    <tr>\n",
       "      <th>99998</th>\n",
       "      <td>Sentiment Analysis</td>\n",
       "      <td>nsmc</td>\n",
       "      <td>CC0 1.0 DEED</td>\n",
       "      <td>NaN</td>\n",
       "      <td>사랑한다는 말을 하지않아도...</td>\n",
       "      <td>이 텍스트는 긍정적입니다.</td>\n",
       "    </tr>\n",
       "    <tr>\n",
       "      <th>99999</th>\n",
       "      <td>Sentiment Analysis</td>\n",
       "      <td>nsmc</td>\n",
       "      <td>CC0 1.0 DEED</td>\n",
       "      <td>NaN</td>\n",
       "      <td>주인공은 훌륭한 연기자이자 감독...</td>\n",
       "      <td>이 텍스트의 감정지수는 긍정적입니다.</td>\n",
       "    </tr>\n",
       "  </tbody>\n",
       "</table>\n",
       "<p>100000 rows × 6 columns</p>\n",
       "</div>"
      ],
      "text/plain": [
       "                       task    dataset             license instruction  \\\n",
       "0      hatespeech_detection  hatescore  Apache License 2.0         NaN   \n",
       "1      hatespeech_detection  hatescore  Apache License 2.0         NaN   \n",
       "2      hatespeech_detection  hatescore  Apache License 2.0         NaN   \n",
       "3      hatespeech_detection  hatescore  Apache License 2.0         NaN   \n",
       "4      hatespeech_detection  hatescore  Apache License 2.0         NaN   \n",
       "...                     ...        ...                 ...         ...   \n",
       "99995    Sentiment Analysis       nsmc        CC0 1.0 DEED         NaN   \n",
       "99996    Sentiment Analysis       nsmc        CC0 1.0 DEED         NaN   \n",
       "99997    Sentiment Analysis       nsmc        CC0 1.0 DEED         NaN   \n",
       "99998    Sentiment Analysis       nsmc        CC0 1.0 DEED         NaN   \n",
       "99999    Sentiment Analysis       nsmc        CC0 1.0 DEED         NaN   \n",
       "\n",
       "                                                   input  \\\n",
       "0      이집트 아랍 공화국) 또는 에굽은 북아프리카와 서아시아의 시나이 반도에 결쳐있는 국...   \n",
       "1                                    그는 필리핀에서 온 사람이랑 싸웠다   \n",
       "2                                              삼성만은 지켜주기   \n",
       "3                                       안녕하세요 레즈비언이랑 싸웠다   \n",
       "4                                     당신은 전라도 사람 본 적 있나?   \n",
       "...                                                  ...   \n",
       "99995  좀 짜증나는 영화엄마도 짜증나고 맨디무어도 짜증나고맨디무어 목소리나 노래부른는 것의...   \n",
       "99996                                     1점도아깝다인터뷰만하다끝남   \n",
       "99997  영화 내에서 폰다 한명이 변해가면서 미모를 찾아가는 모습을 보는것만으로도 볼만한 가...   \n",
       "99998                                  사랑한다는 말을 하지않아도...   \n",
       "99999                               주인공은 훌륭한 연기자이자 감독...   \n",
       "\n",
       "                              output  \n",
       "0        이 글의 내용 중에는 혐오표현도 악플도 아닙니다.  \n",
       "1             이 텍스트는 혐오표현도 악플도 아닙니다.  \n",
       "2      입력하신 텍스트의 내용은 혐오표현도 악플도 아닙니다.  \n",
       "3      입력하신 텍스트의 내용은 혐오표현도 악플도 아닙니다.  \n",
       "4            입력하신 글은 혐오표현도 악플도 아닙니다.  \n",
       "...                              ...  \n",
       "99995          입력하신 텍스트의 내용은 부정적입니다.  \n",
       "99996           이 텍스트의 감정지수는 부정적입니다.  \n",
       "99997                 이 텍스트는 긍정적입니다.  \n",
       "99998                 이 텍스트는 긍정적입니다.  \n",
       "99999           이 텍스트의 감정지수는 긍정적입니다.  \n",
       "\n",
       "[100000 rows x 6 columns]"
      ]
     },
     "execution_count": 4,
     "metadata": {},
     "output_type": "execute_result"
    }
   ],
   "source": [
    "data"
   ]
  },
  {
   "cell_type": "code",
   "execution_count": null,
   "id": "4abc637d-5a54-48be-8ca9-45fb9dc01335",
   "metadata": {},
   "outputs": [],
   "source": []
  }
 ],
 "metadata": {
  "kernelspec": {
   "display_name": "jovis-model-py3.10",
   "language": "python",
   "name": "jovis-model-py3.10"
  },
  "language_info": {
   "codemirror_mode": {
    "name": "ipython",
    "version": 3
   },
   "file_extension": ".py",
   "mimetype": "text/x-python",
   "name": "python",
   "nbconvert_exporter": "python",
   "pygments_lexer": "ipython3",
   "version": "3.10.10"
  }
 },
 "nbformat": 4,
 "nbformat_minor": 5
}
