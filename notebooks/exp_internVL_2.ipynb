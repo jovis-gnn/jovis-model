{
 "cells": [
  {
   "cell_type": "markdown",
   "id": "9fabc249-d636-4e50-ac2b-6a0b67cb91a1",
   "metadata": {
    "tags": []
   },
   "source": [
    "# Import"
   ]
  },
  {
   "cell_type": "code",
   "execution_count": 1,
   "id": "3772f032-7db1-4e1d-853c-786de3df677c",
   "metadata": {
    "tags": []
   },
   "outputs": [],
   "source": [
    "import os\n",
    "\n",
    "os.chdir(os.path.dirname(os.getcwd()))"
   ]
  },
  {
   "cell_type": "code",
   "execution_count": 2,
   "id": "5a1e2d16-a1df-41c4-8974-940ffa0f7c90",
   "metadata": {
    "tags": []
   },
   "outputs": [],
   "source": [
    "import json\n",
    "import random\n",
    "from typing import List\n",
    "from tqdm.auto import tqdm\n",
    "from dataclasses import dataclass\n",
    "from collections import defaultdict\n",
    "\n",
    "import faiss\n",
    "import pickle\n",
    "import numpy as np\n",
    "from elasticsearch import Elasticsearch\n",
    "from sklearn.manifold import TSNE\n",
    "import matplotlib.pyplot as plt\n",
    "\n",
    "from run import ModelRunner\n",
    "from jovis_model.config import Config\n",
    "from jovis_model.utils.helper import build_faiss_index\n",
    "from jovis_model.utils.report import ReportMaker"
   ]
  },
  {
   "cell_type": "markdown",
   "id": "b5db7fe9-7d0a-4ffd-87a0-1fb29fdaff8e",
   "metadata": {},
   "source": [
    "# Common"
   ]
  },
  {
   "cell_type": "markdown",
   "id": "eb3becac-0c71-439a-b5b4-f4928c746b98",
   "metadata": {
    "tags": []
   },
   "source": [
    "### Runner"
   ]
  },
  {
   "cell_type": "code",
   "execution_count": 26,
   "id": "c578d5f2-e505-4d00-ae69-280bcc055e11",
   "metadata": {
    "tags": []
   },
   "outputs": [
    {
     "name": "stderr",
     "output_type": "stream",
     "text": [
      "01:01:29:PM:INFO: data module loaded\n",
      "01:01:29:PM:INFO: model module loaded\n"
     ]
    }
   ],
   "source": [
    "params = {\n",
    "    \"pkg\": \"llm\",\n",
    "    \"task\": \"bedrock\",\n",
    "    \"use_hf_model\": False,\n",
    "    \"params\": {\n",
    "    }\n",
    "}\n",
    "config = Config(**params)\n",
    "bd_runner = ModelRunner(\n",
    "    config=config,\n",
    "    mode=\"inference\"\n",
    ")"
   ]
  },
  {
   "cell_type": "code",
   "execution_count": 4,
   "id": "6a81c5cc-6f05-45db-a27d-6e95537190c1",
   "metadata": {
    "tags": []
   },
   "outputs": [
    {
     "name": "stderr",
     "output_type": "stream",
     "text": [
      "10:54:08:AM:INFO: data module loaded\n",
      "/home/omnious/workspace/jovis/jovis-model/.venv/lib/python3.10/site-packages/huggingface_hub/file_download.py:1132: FutureWarning: `resume_download` is deprecated and will be removed in version 1.0.0. Downloads always resume when possible. If you want to force a new download, use `force_download=True`.\n",
      "  warnings.warn(\n",
      "10:54:15:AM:INFO: model module loaded\n"
     ]
    }
   ],
   "source": [
    "params = {\n",
    "    \"pkg\": \"llm\",\n",
    "    \"task\": \"sentence_embedding\",\n",
    "    \"use_hf_model\": True,\n",
    "    \"params\": {\n",
    "        \"hf_name\": \"sentence-transformers/paraphrase-multilingual-mpnet-base-v2\",\n",
    "    }\n",
    "}\n",
    "config = Config(**params)\n",
    "se_runner = ModelRunner(\n",
    "    config=config,\n",
    "    mode=\"inference\"\n",
    ")"
   ]
  },
  {
   "cell_type": "markdown",
   "id": "55196d0f-7aac-4054-8ebb-167a6c862f28",
   "metadata": {
    "tags": []
   },
   "source": [
    "### Parser"
   ]
  },
  {
   "cell_type": "code",
   "execution_count": 5,
   "id": "c1a99335-16e7-411f-b3c4-fb4f3a4e5f13",
   "metadata": {
    "tags": []
   },
   "outputs": [],
   "source": [
    "def parse_desc(desc, target: list, dropna: bool = True):\n",
    "    parsed = {}\n",
    "    try:\n",
    "        desc = json.loads(desc)\n",
    "        for k, v in desc.items():\n",
    "            if k in target: \n",
    "                if k == \"Fashion attribute\":\n",
    "                    if isinstance(v, dict):\n",
    "                        fa_dict = {}\n",
    "                        for k_, v_ in v.items():\n",
    "                            if dropna:\n",
    "                                if v_ != \"N/A\":\n",
    "                                    fa_dict[k_] = v_\n",
    "                            else:\n",
    "                                fa_dict[k_] = v_\n",
    "                        v = fa_dict\n",
    "                    parsed[k] = v \n",
    "                else:\n",
    "                    if dropna:\n",
    "                        if v != \"N/A\":\n",
    "                            parsed[k] = v\n",
    "                    else:\n",
    "                        parsed[k] = v\n",
    "    except Exception as e:\n",
    "        return None\n",
    "    return parsed"
   ]
  },
  {
   "cell_type": "markdown",
   "id": "2ac2b651-3b83-4c84-b323-92896c3607c0",
   "metadata": {
    "tags": []
   },
   "source": [
    "### Descriptions"
   ]
  },
  {
   "cell_type": "code",
   "execution_count": 22,
   "id": "1eb6ee30-197a-4237-9221-5c37807d6159",
   "metadata": {
    "tags": []
   },
   "outputs": [],
   "source": [
    "with open(\"outputs/skb/descriptions_original.json\", \"r\") as f:\n",
    "    desc = json.load(f)"
   ]
  },
  {
   "cell_type": "markdown",
   "id": "3a304b30-8082-48c2-94cd-e34689cfe8fc",
   "metadata": {
    "tags": []
   },
   "source": [
    "### labels"
   ]
  },
  {
   "cell_type": "code",
   "execution_count": 7,
   "id": "715eac5a-2663-4977-8578-5a505dc5c53e",
   "metadata": {
    "tags": []
   },
   "outputs": [],
   "source": [
    "target_columns = [\"Season\", \"Place\", \"Occasion\", \"Style\"]\n",
    "dropna=True"
   ]
  },
  {
   "cell_type": "code",
   "execution_count": 8,
   "id": "43683c9c-618b-4ad6-97b0-23bba68e0405",
   "metadata": {
    "tags": []
   },
   "outputs": [
    {
     "data": {
      "application/vnd.jupyter.widget-view+json": {
       "model_id": "302ca1d336aa473f963b3bf53c20d5f1",
       "version_major": 2,
       "version_minor": 0
      },
      "text/plain": [
       "  0%|          | 0/19180 [00:00<?, ?it/s]"
      ]
     },
     "metadata": {},
     "output_type": "display_data"
    },
    {
     "name": "stdout",
     "output_type": "stream",
     "text": [
      "Total: 19180, Success: 17368\n"
     ]
    }
   ],
   "source": [
    "pids = []\n",
    "documents = []\n",
    "for pid, des in tqdm(desc.items()):\n",
    "    des = parse_desc(\n",
    "        des,\n",
    "        target=target_columns,\n",
    "        dropna=dropna\n",
    "    )\n",
    "    if des:\n",
    "        documents.append(des)\n",
    "        pids.append(pid)\n",
    "print(f\"Total: {len(desc)}, Success: {len(pids)}\")"
   ]
  },
  {
   "cell_type": "code",
   "execution_count": 9,
   "id": "7b1a801a-a938-453c-a402-53757326edc3",
   "metadata": {
    "tags": []
   },
   "outputs": [],
   "source": [
    "labels = [[f\"{k}_{v}\" for k, v in sorted(d.items(), key=lambda x: x[0])] for d in documents]\n",
    "pid2label = {k: v for k, v in zip(pids, labels)}"
   ]
  },
  {
   "cell_type": "markdown",
   "id": "4a5742d0-1049-4b2c-95e9-d2dd3ba87e09",
   "metadata": {
    "tags": []
   },
   "source": [
    "### Inference"
   ]
  },
  {
   "cell_type": "code",
   "execution_count": 10,
   "id": "640479e4-bfe8-4f3f-bb29-ecd4297fe96d",
   "metadata": {
    "tags": []
   },
   "outputs": [],
   "source": [
    "def inference(pids, embeddings, model_id):\n",
    "    y = []\n",
    "    y_hat = []\n",
    "    res = {}\n",
    "    cur, batch_size, top_k = 0, 100, 10\n",
    "    pbar = tqdm(total=len(embeddings) // batch_size + 1)\n",
    "    while cur < len(embeddings):\n",
    "        batch_embeddings = embeddings[cur:cur+batch_size]\n",
    "        batch_query_pids = pids[cur:cur+batch_size]\n",
    "        batch_pred_scores, batch_pred_indices = desc_index.search(batch_embeddings, top_k)\n",
    "\n",
    "        for query_pid, pred_scores, pred_indices in zip(batch_query_pids, batch_pred_scores, batch_pred_indices):\n",
    "            pred_pids = [desc_map.get(str(idx), -1) for idx in pred_indices]\n",
    "\n",
    "            pred_descs = []\n",
    "            pred_labels = []\n",
    "            for pred_score, pred_pid in zip(pred_scores, pred_pids):\n",
    "                pred_label = pid2label.get(pred_pid, [])\n",
    "                pred_labels.append(pred_label)\n",
    "                pred_descs.append(\n",
    "                    [pred_pid, f\"[{model_id}] {pred_score:.4f}\"] + pred_label\n",
    "                )\n",
    "\n",
    "            res[query_pid] = defaultdict(list)\n",
    "            query_label = pid2label.get(query_pid, [])\n",
    "            res[query_pid][\"<br>\".join(query_label)].append({\"text\": pred_descs, \"image\": pred_pids})\n",
    "\n",
    "            y_hat.append(pred_labels)\n",
    "            y.append(query_label)\n",
    "\n",
    "        cur += batch_size\n",
    "        pbar.update(1)\n",
    "    pbar.close()\n",
    "    return y, y_hat, res"
   ]
  },
  {
   "cell_type": "markdown",
   "id": "e6a1cf0e-76ea-4798-b4d7-539624061fc8",
   "metadata": {
    "tags": []
   },
   "source": [
    "### metrics"
   ]
  },
  {
   "cell_type": "code",
   "execution_count": 11,
   "id": "d92d2a81-51e1-46b0-85a3-8cffdfe3777f",
   "metadata": {},
   "outputs": [],
   "source": [
    "def get_metrics(labels : List[List[str]], preds : List[List[List[str]]]):\n",
    "    topk = len(preds[0])\n",
    "    hits = []\n",
    "    for label, pred in zip(labels, preds):\n",
    "        hits.append([1 if set(label) == set(p) else 0 for p in pred])\n",
    "    hits = np.array(hits)\n",
    "\n",
    "    hr = np.mean(np.sum(hits, axis=1) > 0)\n",
    "    mAP = np.mean(\n",
    "        [\n",
    "            np.mean([np.mean(hit[: idx + 1]) for idx in range(topk)])\n",
    "            for hit in hits\n",
    "        ]\n",
    "    )\n",
    "    return hr, mAP"
   ]
  },
  {
   "cell_type": "markdown",
   "id": "f04821eb-fae7-4a00-8d85-7105aa42084f",
   "metadata": {
    "tags": []
   },
   "source": [
    "# Case 1"
   ]
  },
  {
   "cell_type": "markdown",
   "id": "2057cc13-d3b4-43b7-a596-29099054065d",
   "metadata": {
    "jp-MarkdownHeadingCollapsed": true,
    "tags": []
   },
   "source": [
    "### Build search embeddings : mpnet"
   ]
  },
  {
   "cell_type": "code",
   "execution_count": 11,
   "id": "1fbd8c23-cf94-46c6-9d54-4a0de96369e9",
   "metadata": {
    "tags": []
   },
   "outputs": [],
   "source": [
    "target_columns = [\"Season\", \"Place\", \"Occasion\", \"Style\", \"Gender\", \"Background\", \"Model\", \"Fashion attribute\"]\n",
    "dropna=True"
   ]
  },
  {
   "cell_type": "code",
   "execution_count": 13,
   "id": "6917bf6f-dea1-43b2-ae99-832baa4451f6",
   "metadata": {
    "tags": []
   },
   "outputs": [
    {
     "data": {
      "application/vnd.jupyter.widget-view+json": {
       "model_id": "2716dcdfff0e43e680770f90acda6891",
       "version_major": 2,
       "version_minor": 0
      },
      "text/plain": [
       "  0%|          | 0/19180 [00:00<?, ?it/s]"
      ]
     },
     "metadata": {},
     "output_type": "display_data"
    },
    {
     "name": "stdout",
     "output_type": "stream",
     "text": [
      "Total: 19180, Success: 19174\n"
     ]
    }
   ],
   "source": [
    "pids = []\n",
    "embeddings = []\n",
    "for pid, des in tqdm(desc.items()):\n",
    "    des = parse_desc(\n",
    "        des,\n",
    "        target=target_columns,\n",
    "        dropna=dropna\n",
    "    )\n",
    "    if des:\n",
    "        des = json.dumps(des)\n",
    "        pids.append(pid)\n",
    "        embeddings.append(se_runner.run([des]).detach().cpu().numpy()[0])\n",
    "        \n",
    "print(f\"Total: {len(desc)}, Success: {len(pids)}\")"
   ]
  },
  {
   "cell_type": "code",
   "execution_count": 14,
   "id": "36177e17-0326-478b-b8bd-4352cbdd0c40",
   "metadata": {
    "tags": []
   },
   "outputs": [],
   "source": [
    "build_faiss_index(\n",
    "    embeddings=embeddings,\n",
    "    save_path=\"outputs/skb\",\n",
    "    save_name=\"descriptions_all_mpnet\",\n",
    "    pids=pids\n",
    ")"
   ]
  },
  {
   "cell_type": "markdown",
   "id": "f700ef18-8ef7-4792-89bf-4e6442800fe9",
   "metadata": {
    "jp-MarkdownHeadingCollapsed": true,
    "tags": []
   },
   "source": [
    "### Build query embeddings : mpnet"
   ]
  },
  {
   "cell_type": "code",
   "execution_count": 15,
   "id": "24f2d28f-351c-40b6-ba97-524787e9eda1",
   "metadata": {
    "tags": []
   },
   "outputs": [],
   "source": [
    "target_columns = [\"Season\", \"Place\", \"Occasion\", \"Style\"]\n",
    "dropna=True"
   ]
  },
  {
   "cell_type": "code",
   "execution_count": 16,
   "id": "e0f0b91f-4531-4ad5-b3e7-bcad1e1662be",
   "metadata": {
    "tags": []
   },
   "outputs": [
    {
     "data": {
      "application/vnd.jupyter.widget-view+json": {
       "model_id": "2d76abc4e9494d91b943d73c4e7da19c",
       "version_major": 2,
       "version_minor": 0
      },
      "text/plain": [
       "  0%|          | 0/19180 [00:00<?, ?it/s]"
      ]
     },
     "metadata": {},
     "output_type": "display_data"
    },
    {
     "name": "stdout",
     "output_type": "stream",
     "text": [
      "Total: 19180, Success: 17368\n"
     ]
    }
   ],
   "source": [
    "pids = []\n",
    "embeddings = []\n",
    "for pid, des in tqdm(desc.items()):\n",
    "    des = parse_desc(\n",
    "        des,\n",
    "        target=target_columns,\n",
    "        dropna=dropna\n",
    "    )\n",
    "    if des:\n",
    "        des = json.dumps(des)\n",
    "        pids.append(pid)\n",
    "        embeddings.append(se_runner.run([des]).detach().cpu().numpy()[0].tolist())\n",
    "print(f\"Total: {len(desc)}, Success: {len(pids)}\")"
   ]
  },
  {
   "cell_type": "code",
   "execution_count": 17,
   "id": "0ba0eb67-3803-4e57-bab1-2ea37b4e5e4d",
   "metadata": {
    "tags": []
   },
   "outputs": [],
   "source": [
    "f_name = \"query_embeddings_4cols_mpnet\""
   ]
  },
  {
   "cell_type": "code",
   "execution_count": 18,
   "id": "dc1f0cca-56ec-4a95-b37e-58572bbfc525",
   "metadata": {
    "tags": []
   },
   "outputs": [],
   "source": [
    "with open(f\"outputs/skb/{f_name}.json\", \"w\") as f:\n",
    "    json.dump({k:v for k, v in zip(pids, embeddings)}, f)"
   ]
  },
  {
   "cell_type": "markdown",
   "id": "b90ecbea-ca3b-4956-85e7-04f33468fb5f",
   "metadata": {
    "jp-MarkdownHeadingCollapsed": true,
    "tags": []
   },
   "source": [
    "### Evaluation : mpnet"
   ]
  },
  {
   "cell_type": "code",
   "execution_count": 12,
   "id": "08edd778-2eb3-4ec7-b697-d44e7a46145e",
   "metadata": {
    "tags": []
   },
   "outputs": [],
   "source": [
    "index_file_name = \"descriptions_all_mpnet\"\n",
    "query_file_name = \"query_embeddings_4cols_mpnet\"\n",
    "\n",
    "desc_index = faiss.read_index(f\"outputs/skb/{index_file_name}.index\")\n",
    "with open(f\"outputs/skb/{index_file_name}_map.json\", \"r\") as f:\n",
    "    desc_map = json.load(f)\n",
    "with open(f\"outputs/skb/{query_file_name}.json\", \"r\") as f:\n",
    "    desc_text_embeddings = json.load(f)\n",
    "\n",
    "pids = []\n",
    "embeddings = []\n",
    "for pid, embedding in desc_text_embeddings.items():\n",
    "    pids.append(pid)\n",
    "    embeddings.append(embedding)"
   ]
  },
  {
   "cell_type": "code",
   "execution_count": 13,
   "id": "6efb612b-652a-48df-9efa-e8ac7578f485",
   "metadata": {
    "tags": []
   },
   "outputs": [],
   "source": [
    "pids = np.array(pids)\n",
    "embeddings = np.array(embeddings)"
   ]
  },
  {
   "cell_type": "code",
   "execution_count": 20,
   "id": "fbb1dd99-82e8-49d4-9a18-981fed18d4fe",
   "metadata": {
    "tags": []
   },
   "outputs": [
    {
     "data": {
      "application/vnd.jupyter.widget-view+json": {
       "model_id": "4b372abec24c4b218cb46d0c663f3b4c",
       "version_major": 2,
       "version_minor": 0
      },
      "text/plain": [
       "  0%|          | 0/174 [00:00<?, ?it/s]"
      ]
     },
     "metadata": {},
     "output_type": "display_data"
    }
   ],
   "source": [
    "case1_y, case1_y_hat, case1_res = inference(pids, embeddings, \"mpnet\")"
   ]
  },
  {
   "cell_type": "code",
   "execution_count": 21,
   "id": "5996e8bb-f91f-478f-aa34-29b4822bd114",
   "metadata": {},
   "outputs": [
    {
     "data": {
      "text/plain": [
       "(0.5912597881160755, 0.41146930954939936)"
      ]
     },
     "execution_count": 21,
     "metadata": {},
     "output_type": "execute_result"
    }
   ],
   "source": [
    "get_metrics(case1_y, case1_y_hat)"
   ]
  },
  {
   "cell_type": "markdown",
   "id": "ff734205-c1d6-4084-9bc7-bb4f54fb9101",
   "metadata": {
    "jp-MarkdownHeadingCollapsed": true,
    "tags": []
   },
   "source": [
    "### Build search embeddings : cohere"
   ]
  },
  {
   "cell_type": "code",
   "execution_count": 294,
   "id": "e067a67b-e1d2-48bc-b69f-8cfcc6b96af5",
   "metadata": {
    "tags": []
   },
   "outputs": [],
   "source": [
    "target_columns = [\"Season\", \"Place\", \"Occasion\", \"Style\", \"Gender\", \"Background\", \"Model\", \"Fashion attribute\"]\n",
    "dropna=True"
   ]
  },
  {
   "cell_type": "code",
   "execution_count": 295,
   "id": "1eab1036-503a-47fd-8f57-210b14c1c9e1",
   "metadata": {
    "tags": []
   },
   "outputs": [
    {
     "data": {
      "application/vnd.jupyter.widget-view+json": {
       "model_id": "3d1f2596ab5b458997be8bbd185fe6dc",
       "version_major": 2,
       "version_minor": 0
      },
      "text/plain": [
       "  0%|          | 0/19180 [00:00<?, ?it/s]"
      ]
     },
     "metadata": {},
     "output_type": "display_data"
    },
    {
     "name": "stdout",
     "output_type": "stream",
     "text": [
      "Total: 19180, Success: 19174\n"
     ]
    }
   ],
   "source": [
    "pids = []\n",
    "documents = []\n",
    "for pid, des in tqdm(desc.items()):\n",
    "    des = parse_desc(\n",
    "        des,\n",
    "        target=target_columns,\n",
    "        dropna=dropna\n",
    "    )\n",
    "    if des:\n",
    "        des = json.dumps(des)\n",
    "        documents.append(des)\n",
    "        pids.append(pid)\n",
    "print(f\"Total: {len(desc)}, Success: {len(pids)}\")"
   ]
  },
  {
   "cell_type": "code",
   "execution_count": 296,
   "id": "eb92a2a1-47af-404c-806c-6ce4df5268f4",
   "metadata": {
    "tags": []
   },
   "outputs": [
    {
     "data": {
      "application/vnd.jupyter.widget-view+json": {
       "model_id": "42f921de4e8a456c9bda8c3a6d2b6329",
       "version_major": 2,
       "version_minor": 0
      },
      "text/plain": [
       "  0%|          | 0/19174 [00:00<?, ?it/s]"
      ]
     },
     "metadata": {},
     "output_type": "display_data"
    }
   ],
   "source": [
    "batch_size = 1\n",
    "cur = 0\n",
    "embeddings = []\n",
    "pbar = tqdm(total=len(documents) // batch_size)\n",
    "while cur < len(documents):\n",
    "    tmp_docs = documents[cur:cur+batch_size]\n",
    "    body_dict = {\n",
    "        \"texts\": tmp_docs,\n",
    "        \"input_type\": \"search_document\",\n",
    "    }\n",
    "    body_json = json.dumps(body_dict)\n",
    "    response = bd_runner.mm.processor.bedrock_runtime.invoke_model(\n",
    "        modelId=\"cohere.embed-multilingual-v3\",\n",
    "        body=body_json\n",
    "    )\n",
    "    embedding = json.loads(response.get(\"body\").read())[\"embeddings\"]\n",
    "    embeddings += embedding\n",
    "    cur += batch_size\n",
    "    pbar.update(1)\n",
    "pbar.close()"
   ]
  },
  {
   "cell_type": "code",
   "execution_count": 298,
   "id": "e1d56834-df4e-46ec-96e0-887d05e2c693",
   "metadata": {
    "tags": []
   },
   "outputs": [],
   "source": [
    "build_faiss_index(\n",
    "    embeddings=embeddings,\n",
    "    save_path=\"outputs/skb\",\n",
    "    save_name=\"descriptions_all_cohere\",\n",
    "    pids=pids\n",
    ")"
   ]
  },
  {
   "cell_type": "markdown",
   "id": "452b8ab9-86e3-491a-8db8-8d501ce04d74",
   "metadata": {
    "jp-MarkdownHeadingCollapsed": true,
    "tags": []
   },
   "source": [
    "### Build query embeddings : cohere"
   ]
  },
  {
   "cell_type": "code",
   "execution_count": 44,
   "id": "6ef7846f-51c2-429e-a552-b866cc3c55bc",
   "metadata": {
    "tags": []
   },
   "outputs": [],
   "source": [
    "target_columns = [\"Season\", \"Place\", \"Occasion\", \"Style\"]\n",
    "dropna=True"
   ]
  },
  {
   "cell_type": "code",
   "execution_count": 45,
   "id": "fa3e13f9-dee0-4f5c-81be-2c236616d24b",
   "metadata": {
    "tags": []
   },
   "outputs": [
    {
     "data": {
      "application/vnd.jupyter.widget-view+json": {
       "model_id": "13f1d97dd9144f41b51e4f26c15a8878",
       "version_major": 2,
       "version_minor": 0
      },
      "text/plain": [
       "  0%|          | 0/19180 [00:00<?, ?it/s]"
      ]
     },
     "metadata": {},
     "output_type": "display_data"
    },
    {
     "name": "stdout",
     "output_type": "stream",
     "text": [
      "Total: 19180, Success: 17368\n"
     ]
    }
   ],
   "source": [
    "pids = []\n",
    "documents = []\n",
    "for pid, des in tqdm(desc.items()):\n",
    "    des = parse_desc(\n",
    "        des,\n",
    "        target=target_columns,\n",
    "        dropna=dropna\n",
    "    )\n",
    "    if des:\n",
    "        des = json.dumps(des)\n",
    "        documents.append(des)\n",
    "        pids.append(pid)\n",
    "print(f\"Total: {len(desc)}, Success: {len(pids)}\")"
   ]
  },
  {
   "cell_type": "code",
   "execution_count": 47,
   "id": "1f0b5e62-8360-4636-aafa-8d0b098eed70",
   "metadata": {
    "tags": []
   },
   "outputs": [
    {
     "data": {
      "application/vnd.jupyter.widget-view+json": {
       "model_id": "1cf6acf0c1d742df9466d7642cbca3a3",
       "version_major": 2,
       "version_minor": 0
      },
      "text/plain": [
       "  0%|          | 0/348 [00:00<?, ?it/s]"
      ]
     },
     "metadata": {},
     "output_type": "display_data"
    },
    {
     "ename": "ClientError",
     "evalue": "An error occurred (ExpiredTokenException) when calling the InvokeModel operation: The security token included in the request is expired",
     "output_type": "error",
     "traceback": [
      "\u001b[0;31m---------------------------------------------------------------------------\u001b[0m",
      "\u001b[0;31mClientError\u001b[0m                               Traceback (most recent call last)",
      "Cell \u001b[0;32mIn[47], line 12\u001b[0m\n\u001b[1;32m      7\u001b[0m body_dict \u001b[38;5;241m=\u001b[39m {\n\u001b[1;32m      8\u001b[0m     \u001b[38;5;124m\"\u001b[39m\u001b[38;5;124mtexts\u001b[39m\u001b[38;5;124m\"\u001b[39m: tmp_docs,\n\u001b[1;32m      9\u001b[0m     \u001b[38;5;124m\"\u001b[39m\u001b[38;5;124minput_type\u001b[39m\u001b[38;5;124m\"\u001b[39m: \u001b[38;5;124m\"\u001b[39m\u001b[38;5;124msearch_query\u001b[39m\u001b[38;5;124m\"\u001b[39m,\n\u001b[1;32m     10\u001b[0m }\n\u001b[1;32m     11\u001b[0m body_json \u001b[38;5;241m=\u001b[39m json\u001b[38;5;241m.\u001b[39mdumps(body_dict)\n\u001b[0;32m---> 12\u001b[0m response \u001b[38;5;241m=\u001b[39m \u001b[43mbd_runner\u001b[49m\u001b[38;5;241;43m.\u001b[39;49m\u001b[43mmm\u001b[49m\u001b[38;5;241;43m.\u001b[39;49m\u001b[43mprocessor\u001b[49m\u001b[38;5;241;43m.\u001b[39;49m\u001b[43mbedrock_runtime\u001b[49m\u001b[38;5;241;43m.\u001b[39;49m\u001b[43minvoke_model\u001b[49m\u001b[43m(\u001b[49m\n\u001b[1;32m     13\u001b[0m \u001b[43m    \u001b[49m\u001b[43mmodelId\u001b[49m\u001b[38;5;241;43m=\u001b[39;49m\u001b[38;5;124;43m\"\u001b[39;49m\u001b[38;5;124;43mcohere.embed-multilingual-v3\u001b[39;49m\u001b[38;5;124;43m\"\u001b[39;49m\u001b[43m,\u001b[49m\n\u001b[1;32m     14\u001b[0m \u001b[43m    \u001b[49m\u001b[43mbody\u001b[49m\u001b[38;5;241;43m=\u001b[39;49m\u001b[43mbody_json\u001b[49m\n\u001b[1;32m     15\u001b[0m \u001b[43m\u001b[49m\u001b[43m)\u001b[49m\n\u001b[1;32m     16\u001b[0m embedding \u001b[38;5;241m=\u001b[39m json\u001b[38;5;241m.\u001b[39mloads(response\u001b[38;5;241m.\u001b[39mget(\u001b[38;5;124m\"\u001b[39m\u001b[38;5;124mbody\u001b[39m\u001b[38;5;124m\"\u001b[39m)\u001b[38;5;241m.\u001b[39mread())[\u001b[38;5;124m\"\u001b[39m\u001b[38;5;124membeddings\u001b[39m\u001b[38;5;124m\"\u001b[39m]\n\u001b[1;32m     17\u001b[0m embeddings \u001b[38;5;241m+\u001b[39m\u001b[38;5;241m=\u001b[39m embedding\n",
      "File \u001b[0;32m~/workspace/jovis/jovis-model/.venv/lib/python3.10/site-packages/botocore/client.py:565\u001b[0m, in \u001b[0;36mClientCreator._create_api_method.<locals>._api_call\u001b[0;34m(self, *args, **kwargs)\u001b[0m\n\u001b[1;32m    561\u001b[0m     \u001b[38;5;28;01mraise\u001b[39;00m \u001b[38;5;167;01mTypeError\u001b[39;00m(\n\u001b[1;32m    562\u001b[0m         \u001b[38;5;124mf\u001b[39m\u001b[38;5;124m\"\u001b[39m\u001b[38;5;132;01m{\u001b[39;00mpy_operation_name\u001b[38;5;132;01m}\u001b[39;00m\u001b[38;5;124m() only accepts keyword arguments.\u001b[39m\u001b[38;5;124m\"\u001b[39m\n\u001b[1;32m    563\u001b[0m     )\n\u001b[1;32m    564\u001b[0m \u001b[38;5;66;03m# The \"self\" in this scope is referring to the BaseClient.\u001b[39;00m\n\u001b[0;32m--> 565\u001b[0m \u001b[38;5;28;01mreturn\u001b[39;00m \u001b[38;5;28;43mself\u001b[39;49m\u001b[38;5;241;43m.\u001b[39;49m\u001b[43m_make_api_call\u001b[49m\u001b[43m(\u001b[49m\u001b[43moperation_name\u001b[49m\u001b[43m,\u001b[49m\u001b[43m \u001b[49m\u001b[43mkwargs\u001b[49m\u001b[43m)\u001b[49m\n",
      "File \u001b[0;32m~/workspace/jovis/jovis-model/.venv/lib/python3.10/site-packages/botocore/client.py:1021\u001b[0m, in \u001b[0;36mBaseClient._make_api_call\u001b[0;34m(self, operation_name, api_params)\u001b[0m\n\u001b[1;32m   1017\u001b[0m     error_code \u001b[38;5;241m=\u001b[39m error_info\u001b[38;5;241m.\u001b[39mget(\u001b[38;5;124m\"\u001b[39m\u001b[38;5;124mQueryErrorCode\u001b[39m\u001b[38;5;124m\"\u001b[39m) \u001b[38;5;129;01mor\u001b[39;00m error_info\u001b[38;5;241m.\u001b[39mget(\n\u001b[1;32m   1018\u001b[0m         \u001b[38;5;124m\"\u001b[39m\u001b[38;5;124mCode\u001b[39m\u001b[38;5;124m\"\u001b[39m\n\u001b[1;32m   1019\u001b[0m     )\n\u001b[1;32m   1020\u001b[0m     error_class \u001b[38;5;241m=\u001b[39m \u001b[38;5;28mself\u001b[39m\u001b[38;5;241m.\u001b[39mexceptions\u001b[38;5;241m.\u001b[39mfrom_code(error_code)\n\u001b[0;32m-> 1021\u001b[0m     \u001b[38;5;28;01mraise\u001b[39;00m error_class(parsed_response, operation_name)\n\u001b[1;32m   1022\u001b[0m \u001b[38;5;28;01melse\u001b[39;00m:\n\u001b[1;32m   1023\u001b[0m     \u001b[38;5;28;01mreturn\u001b[39;00m parsed_response\n",
      "\u001b[0;31mClientError\u001b[0m: An error occurred (ExpiredTokenException) when calling the InvokeModel operation: The security token included in the request is expired"
     ]
    }
   ],
   "source": [
    "batch_size = 50\n",
    "cur = 0\n",
    "embeddings = []\n",
    "pbar = tqdm(total=len(documents) // batch_size + 1)\n",
    "while cur < len(documents):\n",
    "    tmp_docs = documents[cur:cur+batch_size]\n",
    "    body_dict = {\n",
    "        \"texts\": tmp_docs,\n",
    "        \"input_type\": \"search_query\",\n",
    "    }\n",
    "    body_json = json.dumps(body_dict)\n",
    "    response = bd_runner.mm.processor.bedrock_runtime.invoke_model(\n",
    "        modelId=\"cohere.embed-multilingual-v3\",\n",
    "        body=body_json\n",
    "    )\n",
    "    embedding = json.loads(response.get(\"body\").read())[\"embeddings\"]\n",
    "    embeddings += embedding\n",
    "    cur += batch_size\n",
    "    pbar.update(1)\n",
    "pbar.close()"
   ]
  },
  {
   "cell_type": "code",
   "execution_count": 288,
   "id": "c3aabb97-69dc-44a2-97a2-c312a7fb0ab7",
   "metadata": {
    "tags": []
   },
   "outputs": [],
   "source": [
    "# embeddings = np.array(embeddings).astype(np.float32)\n",
    "# faiss.normalize_L2(embeddings)\n",
    "# embeddings = embeddings.tolist()"
   ]
  },
  {
   "cell_type": "code",
   "execution_count": 30,
   "id": "df9228a4-e2a4-4349-9e89-d110954287ca",
   "metadata": {
    "tags": []
   },
   "outputs": [],
   "source": [
    "f_name = \"query_embeddings_4cols_cohere\""
   ]
  },
  {
   "cell_type": "code",
   "execution_count": 31,
   "id": "e76948d3-db12-4f21-8a43-96999710193f",
   "metadata": {
    "tags": []
   },
   "outputs": [],
   "source": [
    "with open(f\"outputs/skb/{f_name}.json\", \"w\") as f:\n",
    "    json.dump({k:v for k, v in zip(pids, embeddings)}, f)"
   ]
  },
  {
   "cell_type": "markdown",
   "id": "f49b3a52-6ca5-43c6-b607-f17fcf883b90",
   "metadata": {
    "jp-MarkdownHeadingCollapsed": true,
    "tags": []
   },
   "source": [
    "### Evaluation : cohere"
   ]
  },
  {
   "cell_type": "code",
   "execution_count": 299,
   "id": "a0fdc26f-a214-4392-81e1-bf1919f9bada",
   "metadata": {
    "tags": []
   },
   "outputs": [],
   "source": [
    "index_file_name = \"descriptions_all_cohere\"\n",
    "query_file_name = \"query_embeddings_4cols_cohere\"\n",
    "\n",
    "desc_index = faiss.read_index(f\"outputs/skb/{index_file_name}.index\")\n",
    "with open(f\"outputs/skb/{index_file_name}_map.json\", \"r\") as f:\n",
    "    desc_map = json.load(f)\n",
    "with open(f\"outputs/skb/{query_file_name}.json\", \"r\") as f:\n",
    "    desc_text_embeddings = json.load(f)\n",
    "\n",
    "pids = []\n",
    "embeddings = []\n",
    "for pid, embedding in desc_text_embeddings.items():\n",
    "    pids.append(pid)\n",
    "    embeddings.append(embedding)\n",
    "\n",
    "pids = np.array(pids)\n",
    "embeddings = np.array(embeddings)"
   ]
  },
  {
   "cell_type": "code",
   "execution_count": 300,
   "id": "41501dd8-f884-423e-ac9a-722860dfba72",
   "metadata": {
    "tags": []
   },
   "outputs": [
    {
     "data": {
      "application/vnd.jupyter.widget-view+json": {
       "model_id": "2a5d91e41a5647408225574f04032fd2",
       "version_major": 2,
       "version_minor": 0
      },
      "text/plain": [
       "  0%|          | 0/174 [00:00<?, ?it/s]"
      ]
     },
     "metadata": {},
     "output_type": "display_data"
    }
   ],
   "source": [
    "case2_y, case2_y_hat, case2_res = inference(pids, embeddings, \"cohere\")"
   ]
  },
  {
   "cell_type": "code",
   "execution_count": 24,
   "id": "88414a44-8396-41e2-bc65-2688732d3b8a",
   "metadata": {},
   "outputs": [
    {
     "data": {
      "text/plain": [
       "(0.37931828650391525, 0.10115503425383665)"
      ]
     },
     "execution_count": 24,
     "metadata": {},
     "output_type": "execute_result"
    }
   ],
   "source": [
    "get_metrics(case2_y, case2_y_hat)"
   ]
  },
  {
   "cell_type": "code",
   "execution_count": 293,
   "id": "4d5d427f-fa1a-4e8f-bc33-9b404ea0d50c",
   "metadata": {},
   "outputs": [
    {
     "data": {
      "text/plain": [
       "(0.5892445877475817, 0.3614104460492934)"
      ]
     },
     "execution_count": 293,
     "metadata": {},
     "output_type": "execute_result"
    }
   ],
   "source": [
    "get_metrics(case2_y, case2_y_hat)"
   ]
  },
  {
   "cell_type": "markdown",
   "id": "f9bef6f5-28b8-4fb1-8dc4-c9357f84cc10",
   "metadata": {
    "tags": []
   },
   "source": [
    "# Case 2"
   ]
  },
  {
   "cell_type": "markdown",
   "id": "f9f28093-bd16-4769-9ca2-165a3bdfc705",
   "metadata": {
    "jp-MarkdownHeadingCollapsed": true,
    "tags": []
   },
   "source": [
    "### Build search embeddings : cohere"
   ]
  },
  {
   "cell_type": "code",
   "execution_count": 11,
   "id": "9a9ddc05-63c3-4d62-b37b-9162a862b1f9",
   "metadata": {
    "tags": []
   },
   "outputs": [],
   "source": [
    "@dataclass\n",
    "class Config:\n",
    "    ES_URL: str = \"http://flush-es-v3.dev.omnious.com\"\n",
    "    ES_PORT: int = 30313\n",
    "    ES_LOGIN_ID: str = \"elastic\"\n",
    "    ES_LOGIN_PWD: str = \"5P44CV414Pxb4f7R7nfU1rkq\"\n",
    "    ES_INDEX: str = \"01hz64dqt6h8fqkmm78eyz52sd\"\n",
    "    \n",
    "    ES_RETRY_COUNT: int = 3\n",
    "    ES_TIMEOUT: int = 2\n",
    "    ES_MAX_COUNT: int = 1000"
   ]
  },
  {
   "cell_type": "code",
   "execution_count": 12,
   "id": "ccdae7cc-58c6-4b4f-a43b-81129a6c6642",
   "metadata": {
    "tags": []
   },
   "outputs": [],
   "source": [
    "class ElasticsearchService:\n",
    "    def __init__(self, config, timeout: int = 30):\n",
    "        self.es = Elasticsearch(\n",
    "            f\"{config.ES_URL}:{config.ES_PORT}\",\n",
    "            http_auth=(config.ES_LOGIN_ID, config.ES_LOGIN_PWD),\n",
    "            timeout=config.ES_TIMEOUT,\n",
    "            max_retries=config.ES_RETRY_COUNT,\n",
    "            retry_on_timeout=True,\n",
    "        )"
   ]
  },
  {
   "cell_type": "code",
   "execution_count": 13,
   "id": "b3b30c7f-160b-423b-a635-38b95353b521",
   "metadata": {},
   "outputs": [
    {
     "name": "stderr",
     "output_type": "stream",
     "text": [
      "/tmp/ipykernel_46213/1069141294.py:3: DeprecationWarning: The 'timeout' parameter is deprecated in favor of 'request_timeout'\n",
      "  self.es = Elasticsearch(\n",
      "/tmp/ipykernel_46213/1069141294.py:3: DeprecationWarning: The 'http_auth' parameter is deprecated. Use 'basic_auth' or 'bearer_auth' parameters instead\n",
      "  self.es = Elasticsearch(\n"
     ]
    }
   ],
   "source": [
    "config = Config\n",
    "\n",
    "es = ElasticsearchService(config=config)"
   ]
  },
  {
   "cell_type": "code",
   "execution_count": 33,
   "id": "f5e81221-5e26-4804-b00d-9de857bf2fbf",
   "metadata": {},
   "outputs": [
    {
     "name": "stderr",
     "output_type": "stream",
     "text": [
      "10:47:02:AM:INFO: POST http://flush-es-v3.dev.omnious.com:30313/01hz64dqt6h8fqkmm78eyz52sd/_search?scroll=1m [status:200 duration:17.698s]\n",
      "10:47:25:AM:INFO: POST http://flush-es-v3.dev.omnious.com:30313/_search/scroll [status:200 duration:19.650s]\n",
      "10:47:29:AM:INFO: POST http://flush-es-v3.dev.omnious.com:30313/_search/scroll [status:200 duration:0.131s]\n",
      "10:47:29:AM:INFO: POST http://flush-es-v3.dev.omnious.com:30313/_search/scroll [status:200 duration:0.008s]\n"
     ]
    }
   ],
   "source": [
    "query = {\n",
    "    \"bool\": {\n",
    "        \"must\": {\n",
    "            \"exists\": {\n",
    "                \"field\": \"semantic_vectors_l2_norm\"\n",
    "            }\n",
    "        }\n",
    "    }\n",
    "}\n",
    "hits = []\n",
    "scroll_id_list = []\n",
    "\n",
    "es_results = es.es.search(\n",
    "    index=config.ES_INDEX,\n",
    "    query=query,\n",
    "    size=10000,\n",
    "    scroll=\"1m\",\n",
    "    track_total_hits=True\n",
    ")\n",
    "tmp_hits = es_results.get(\"hits\", dict()).get(\"hits\", list())\n",
    "hits.extend(tmp_hits)\n",
    "\n",
    "scroll_id = es_results[\"_scroll_id\"]\n",
    "scroll_id_list.append(scroll_id)\n",
    "while len(tmp_hits):\n",
    "    es_results = es.es.scroll(\n",
    "        scroll_id=scroll_id_list[-1],\n",
    "        scroll=\"1m\"\n",
    "    )\n",
    "    tmp_scroll_id = es_results[\"_scroll_id\"]\n",
    "    scroll_id_list.append(tmp_scroll_id)\n",
    "    tmp_hits = es_results.get(\"hits\", dict()).get(\"hits\", list())\n",
    "    hits.extend(tmp_hits)"
   ]
  },
  {
   "cell_type": "code",
   "execution_count": 35,
   "id": "be756855-bd2a-4313-90fb-43e644c8a0e5",
   "metadata": {
    "tags": []
   },
   "outputs": [],
   "source": [
    "pids, embeddings = [], []\n",
    "for h in hits:\n",
    "    pid = h[\"_source\"][\"productId\"]\n",
    "    embed = h[\"_source\"][\"semantic_vectors_l2_norm\"]\n",
    "    pids.append(pid)\n",
    "    embeddings.append(embed)"
   ]
  },
  {
   "cell_type": "code",
   "execution_count": 38,
   "id": "c41d5a06-c0c1-4d23-9bc8-964b159c55cb",
   "metadata": {
    "tags": []
   },
   "outputs": [],
   "source": [
    "build_faiss_index(\n",
    "    embeddings=embeddings,\n",
    "    save_path=\"outputs/skb\",\n",
    "    save_name=\"KB_with_des_cohere\",\n",
    "    pids=pids\n",
    ")"
   ]
  },
  {
   "cell_type": "markdown",
   "id": "fbf1d3e2-d420-43c4-93fb-b61b44445183",
   "metadata": {
    "jp-MarkdownHeadingCollapsed": true,
    "tags": []
   },
   "source": [
    "### Build search embeddings: cohere - original"
   ]
  },
  {
   "cell_type": "code",
   "execution_count": 36,
   "id": "f90528f6-8247-4e34-9e20-431ed2e4923f",
   "metadata": {
    "tags": []
   },
   "outputs": [],
   "source": [
    "with open(\"outputs/skb/ppl_documents.json\", \"rb\") as f:\n",
    "    data = json.load(f)"
   ]
  },
  {
   "cell_type": "code",
   "execution_count": 37,
   "id": "e80f7b99-bda8-4ad9-9e02-503308264f21",
   "metadata": {
    "tags": []
   },
   "outputs": [
    {
     "data": {
      "application/vnd.jupyter.widget-view+json": {
       "model_id": "1fc6bb83f444469ebeb0fae62ce020d6",
       "version_major": 2,
       "version_minor": 0
      },
      "text/plain": [
       "  0%|          | 0/20101 [00:00<?, ?it/s]"
      ]
     },
     "metadata": {},
     "output_type": "display_data"
    }
   ],
   "source": [
    "pids = []\n",
    "documents = []\n",
    "for pid, des in tqdm(data.items()):\n",
    "    pids.append(pid)\n",
    "    documents.append(des)"
   ]
  },
  {
   "cell_type": "code",
   "execution_count": 39,
   "id": "37c29d6d-ee01-4cae-a63a-30837c5c8723",
   "metadata": {
    "tags": []
   },
   "outputs": [
    {
     "data": {
      "application/vnd.jupyter.widget-view+json": {
       "model_id": "c446a3ed2e8c4084a513599ed21fd0ef",
       "version_major": 2,
       "version_minor": 0
      },
      "text/plain": [
       "  0%|          | 0/402 [00:00<?, ?it/s]"
      ]
     },
     "metadata": {},
     "output_type": "display_data"
    }
   ],
   "source": [
    "batch_size = 50\n",
    "cur = 0\n",
    "embeddings = []\n",
    "pbar = tqdm(total=len(documents) // batch_size) + 1\n",
    "while cur < len(documents):\n",
    "    tmp_docs = documents[cur:cur+batch_size]\n",
    "    body_dict = {\n",
    "        \"texts\": tmp_docs,\n",
    "        \"input_type\": \"search_document\",\n",
    "    }\n",
    "    body_json = json.dumps(body_dict)\n",
    "    response = bd_runner.mm.processor.bedrock_runtime.invoke_model(\n",
    "        modelId=\"cohere.embed-multilingual-v3\",\n",
    "        body=body_json\n",
    "    )\n",
    "    embedding = json.loads(response.get(\"body\").read())[\"embeddings\"]\n",
    "    embeddings += embedding\n",
    "    cur += batch_size\n",
    "    pbar.update(1)\n",
    "pbar.close()"
   ]
  },
  {
   "cell_type": "code",
   "execution_count": 40,
   "id": "fbcb6d61-5e02-44bf-ac50-fa810942c3c4",
   "metadata": {
    "tags": []
   },
   "outputs": [],
   "source": [
    "build_faiss_index(\n",
    "    embeddings=embeddings,\n",
    "    save_path=\"outputs/skb\",\n",
    "    save_name=\"KB_with_des_cohere_orig\",\n",
    "    pids=pids\n",
    ")"
   ]
  },
  {
   "cell_type": "markdown",
   "id": "0294b9a6-faf7-447b-bca9-257c9571f74d",
   "metadata": {
    "jp-MarkdownHeadingCollapsed": true,
    "tags": []
   },
   "source": [
    "### Build search embeddings : mpnet"
   ]
  },
  {
   "cell_type": "code",
   "execution_count": 12,
   "id": "74d79edb-553c-4d69-bd5e-8914926c5360",
   "metadata": {
    "tags": []
   },
   "outputs": [],
   "source": [
    "with open(\"outputs/skb/ppl_documents.json\", \"rb\") as f:\n",
    "    documents = json.load(f)"
   ]
  },
  {
   "cell_type": "code",
   "execution_count": 14,
   "id": "7de3e2b2-fbb4-4d4e-b2ad-4761724a72b5",
   "metadata": {
    "tags": []
   },
   "outputs": [
    {
     "data": {
      "application/vnd.jupyter.widget-view+json": {
       "model_id": "45642ff9da114731865468391f850e87",
       "version_major": 2,
       "version_minor": 0
      },
      "text/plain": [
       "  0%|          | 0/20101 [00:00<?, ?it/s]"
      ]
     },
     "metadata": {},
     "output_type": "display_data"
    }
   ],
   "source": [
    "pids = []\n",
    "embeddings = []\n",
    "for pid, des in tqdm(documents.items()):\n",
    "    pids.append(pid)\n",
    "    embeddings.append(se_runner.run([des]).detach().cpu().numpy()[0])"
   ]
  },
  {
   "cell_type": "code",
   "execution_count": 15,
   "id": "d988624d-41db-4deb-9b44-1d7555935141",
   "metadata": {
    "tags": []
   },
   "outputs": [],
   "source": [
    "build_faiss_index(\n",
    "    embeddings=embeddings,\n",
    "    save_path=\"outputs/skb\",\n",
    "    save_name=\"KB_with_des_mpnet\",\n",
    "    pids=pids\n",
    ")"
   ]
  },
  {
   "cell_type": "markdown",
   "id": "87a41b12-01e4-4507-bb43-be391d012b18",
   "metadata": {
    "jp-MarkdownHeadingCollapsed": true,
    "tags": []
   },
   "source": [
    "### Evaluation : cohere"
   ]
  },
  {
   "cell_type": "code",
   "execution_count": 41,
   "id": "f0725438-3bb9-43e8-a154-116565522b40",
   "metadata": {
    "tags": []
   },
   "outputs": [],
   "source": [
    "index_file_name = \"KB_with_des_cohere_orig\"\n",
    "query_file_name = \"query_embeddings_4cols_cohere\"\n",
    "\n",
    "desc_index = faiss.read_index(f\"outputs/skb/{index_file_name}.index\")\n",
    "with open(f\"outputs/skb/{index_file_name}_map.json\", \"r\") as f:\n",
    "    desc_map = json.load(f)\n",
    "with open(f\"outputs/skb/{query_file_name}.json\", \"r\") as f:\n",
    "    desc_text_embeddings = json.load(f)\n",
    "\n",
    "pids = []\n",
    "embeddings = []\n",
    "for pid, embedding in desc_text_embeddings.items():\n",
    "    pids.append(pid)\n",
    "    embeddings.append(embedding)\n",
    "\n",
    "pids = np.array(pids)\n",
    "embeddings = np.array(embeddings)"
   ]
  },
  {
   "cell_type": "code",
   "execution_count": 42,
   "id": "4c84d659-dd52-4ee3-a051-3eec94aca159",
   "metadata": {
    "tags": []
   },
   "outputs": [
    {
     "data": {
      "application/vnd.jupyter.widget-view+json": {
       "model_id": "56071ab0275c49118d8a0c15b964df34",
       "version_major": 2,
       "version_minor": 0
      },
      "text/plain": [
       "  0%|          | 0/174 [00:00<?, ?it/s]"
      ]
     },
     "metadata": {},
     "output_type": "display_data"
    }
   ],
   "source": [
    "case2_y_cohere, case2_y_hat_cohere, case2_res_cohere = inference(pids, embeddings, \"cohere\")"
   ]
  },
  {
   "cell_type": "code",
   "execution_count": 43,
   "id": "ff092548-eefa-4999-8c99-190e16cd753e",
   "metadata": {},
   "outputs": [
    {
     "data": {
      "text/plain": [
       "(0.2455665591893137, 0.05006628227062359)"
      ]
     },
     "execution_count": 43,
     "metadata": {},
     "output_type": "execute_result"
    }
   ],
   "source": [
    "get_metrics(case2_y_cohere, case2_y_hat_cohere)"
   ]
  },
  {
   "cell_type": "markdown",
   "id": "a96d5763-5848-482b-919f-908a14114188",
   "metadata": {
    "jp-MarkdownHeadingCollapsed": true,
    "tags": []
   },
   "source": [
    "### Evaluation : mpnet"
   ]
  },
  {
   "cell_type": "code",
   "execution_count": 59,
   "id": "b2ac06c4-c57c-42d0-96a1-d17a3006d004",
   "metadata": {
    "tags": []
   },
   "outputs": [],
   "source": [
    "index_file_name = \"KB_with_des_mpnet\"\n",
    "query_file_name = \"query_embeddings_4cols_mpnet\"\n",
    "\n",
    "desc_index = faiss.read_index(f\"outputs/skb/{index_file_name}.index\")\n",
    "with open(f\"outputs/skb/{index_file_name}_map.json\", \"r\") as f:\n",
    "    desc_map = json.load(f)\n",
    "with open(f\"outputs/skb/{query_file_name}.json\", \"r\") as f:\n",
    "    desc_text_embeddings = json.load(f)\n",
    "\n",
    "pids = []\n",
    "embeddings = []\n",
    "for pid, embedding in desc_text_embeddings.items():\n",
    "    pids.append(pid)\n",
    "    embeddings.append(embedding)\n",
    "\n",
    "pids = np.array(pids)\n",
    "embeddings = np.array(embeddings)"
   ]
  },
  {
   "cell_type": "code",
   "execution_count": 60,
   "id": "5390e01f-a8d6-4fe6-91c9-df6789aceb6a",
   "metadata": {
    "tags": []
   },
   "outputs": [
    {
     "data": {
      "application/vnd.jupyter.widget-view+json": {
       "model_id": "c0e9d31b46014abab90f128f6cff489c",
       "version_major": 2,
       "version_minor": 0
      },
      "text/plain": [
       "  0%|          | 0/174 [00:00<?, ?it/s]"
      ]
     },
     "metadata": {},
     "output_type": "display_data"
    }
   ],
   "source": [
    "case2_y_mpnet, case2_y_hat_mpnet, case2_res_mpnet = inference(pids, embeddings, \"mpnet\")"
   ]
  },
  {
   "cell_type": "code",
   "execution_count": 61,
   "id": "dad986f3-f34a-46c7-80ef-cd71fd0e0268",
   "metadata": {},
   "outputs": [
    {
     "data": {
      "text/plain": [
       "(0.47794795025333947, 0.20191140841028568)"
      ]
     },
     "execution_count": 61,
     "metadata": {},
     "output_type": "execute_result"
    }
   ],
   "source": [
    "get_metrics(case2_y_mpnet, case2_y_hat_mpnet)"
   ]
  },
  {
   "cell_type": "markdown",
   "id": "24d917c5-77ae-46c6-a446-7a477eedd8dd",
   "metadata": {
    "jp-MarkdownHeadingCollapsed": true,
    "tags": []
   },
   "source": [
    "# Report"
   ]
  },
  {
   "cell_type": "code",
   "execution_count": 62,
   "id": "6430f588-493d-4cc8-80ba-c7e335d50b36",
   "metadata": {
    "tags": []
   },
   "outputs": [
    {
     "name": "stderr",
     "output_type": "stream",
     "text": [
      "/tmp/ipykernel_13910/3240465353.py:1: DeprecationWarning: Sampling from a set deprecated\n",
      "since Python 3.9 and will be removed in a subsequent version.\n",
      "  subset_res = dict(random.sample(case2_res_cohere.items(), 100))\n"
     ]
    }
   ],
   "source": [
    "subset_res = dict(random.sample(case2_res_cohere.items(), 100))"
   ]
  },
  {
   "cell_type": "code",
   "execution_count": 63,
   "id": "3e9d0c47-7759-4601-808a-b7eb52f67a37",
   "metadata": {
    "tags": []
   },
   "outputs": [],
   "source": [
    "for query in list(subset_res.keys()):\n",
    "    key, val = list(case2_res_mpnet[query].items())[0]\n",
    "    subset_res[query][key] += val"
   ]
  },
  {
   "cell_type": "code",
   "execution_count": 64,
   "id": "81503583-32c2-4c5b-9f5d-5233fe6f9edc",
   "metadata": {},
   "outputs": [],
   "source": [
    "rm = ReportMaker(\n",
    "    data_dict=subset_res,\n",
    "    image_path=\"jovis_model/_db/skb/ppl_images\",\n",
    "    max_len=15\n",
    ")"
   ]
  },
  {
   "cell_type": "code",
   "execution_count": 65,
   "id": "a7b5542c-8782-49ac-a3ff-f188b2482dd0",
   "metadata": {
    "tags": []
   },
   "outputs": [],
   "source": [
    "rm.make_report(\n",
    "    save_path=\"outputs/skb\",\n",
    "    save_name=\"multimodal_1\"\n",
    ")"
   ]
  },
  {
   "cell_type": "markdown",
   "id": "23d11b4c-aceb-4939-b8cf-12252ef09333",
   "metadata": {
    "jp-MarkdownHeadingCollapsed": true,
    "tags": []
   },
   "source": [
    "# Visualize"
   ]
  },
  {
   "cell_type": "code",
   "execution_count": 73,
   "id": "84826884-0cce-4edd-b663-61a7d9822bc8",
   "metadata": {
    "tags": []
   },
   "outputs": [],
   "source": [
    "index_file_name = \"descriptions_all_cohere\"\n",
    "query_file_name = \"query_embeddings_4cols_cohere\"\n",
    "\n",
    "desc_index = faiss.read_index(f\"outputs/skb/{index_file_name}.index\")\n",
    "with open(f\"outputs/skb/{index_file_name}_map.json\", \"r\") as f:\n",
    "    desc_map = json.load(f)\n",
    "with open(f\"outputs/skb/{query_file_name}.json\", \"r\") as f:\n",
    "    desc_text_embeddings = json.load(f)"
   ]
  },
  {
   "cell_type": "code",
   "execution_count": 72,
   "id": "b1953c83-6276-49b3-bd4b-5f3ae123a8fc",
   "metadata": {
    "tags": []
   },
   "outputs": [],
   "source": [
    "# label2pid = defaultdict(list)\n",
    "# for pid, label in pid2label.items():\n",
    "#     label2pid[\" \".join(label)].append(pid)"
   ]
  },
  {
   "cell_type": "code",
   "execution_count": 66,
   "id": "51b33c6b-477d-4aa5-9aa1-d0766df3e30e",
   "metadata": {
    "tags": []
   },
   "outputs": [],
   "source": [
    "# model = TSNE(n_components=2)\n",
    "# embeddings = list(desc_text_embeddings.values())\n",
    "# reduced = model.fit_transform(np.array(embeddings))"
   ]
  },
  {
   "cell_type": "code",
   "execution_count": 272,
   "id": "f8b2d1a0-dd2e-487f-a4cc-72a599c7161c",
   "metadata": {
    "tags": []
   },
   "outputs": [],
   "source": [
    "def get_cohere_embed(texts, input_type=\"search_query\"):\n",
    "    body_dict = {\n",
    "        \"texts\": texts,\n",
    "        \"input_type\": input_type,\n",
    "    }\n",
    "    body_json = json.dumps(body_dict)\n",
    "    response = bd_runner.mm.processor.bedrock_runtime.invoke_model(\n",
    "        modelId=\"cohere.embed-multilingual-v3\",\n",
    "        body=body_json\n",
    "    )\n",
    "    embedding = json.loads(response.get(\"body\").read())[\"embeddings\"]\n",
    "    return embedding"
   ]
  },
  {
   "cell_type": "code",
   "execution_count": 273,
   "id": "c955b18b-f7d5-40e4-aab4-8ace347327e0",
   "metadata": {
    "tags": []
   },
   "outputs": [],
   "source": [
    "query = '{\"Style\": \"Dandy/Classic\"}'\n",
    "target_1 = '{\"스타일\": \"댄디/클래식\"}'\n",
    "target_2 = '{\"Fashion attribute\": {\"Color\": \"Yellow\", \"Texture\": \"Rubber-like\"}}'\n",
    "target_3 = '{\"Style\": \"N/A\", \"Gender\": \"N/A\", \"Fashion attribute\": {\"Category\": \"N/A\", \"Color\": \"Yellow\", \"Shape\": \"N/A\", \"Texture\": \"Rubber-like\"}}'\n",
    "target_4 = '{\"Style\": \"Dandy/Classic\", \"Gender\": \"Unisex\", \"Fashion attribute\": {\"Category\": \"Jewelry\", \"Color\": \"Gold\", \"Shape\": \"Round\", \"Texture\": \"Smooth\"}}'"
   ]
  }
 ],
 "metadata": {
  "kernelspec": {
   "display_name": "jovis-model-py3.10",
   "language": "python",
   "name": "jovis-model-py3.10"
  },
  "language_info": {
   "codemirror_mode": {
    "name": "ipython",
    "version": 3
   },
   "file_extension": ".py",
   "mimetype": "text/x-python",
   "name": "python",
   "nbconvert_exporter": "python",
   "pygments_lexer": "ipython3",
   "version": "3.10.10"
  }
 },
 "nbformat": 4,
 "nbformat_minor": 5
}
