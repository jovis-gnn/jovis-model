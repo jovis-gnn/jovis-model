{
 "cells": [
  {
   "cell_type": "markdown",
   "id": "9fabc249-d636-4e50-ac2b-6a0b67cb91a1",
   "metadata": {},
   "source": [
    "# Import"
   ]
  },
  {
   "cell_type": "code",
   "execution_count": 2,
   "id": "3772f032-7db1-4e1d-853c-786de3df677c",
   "metadata": {
    "tags": []
   },
   "outputs": [],
   "source": [
    "import os\n",
    "\n",
    "os.chdir(os.path.dirname(os.getcwd()))"
   ]
  },
  {
   "cell_type": "code",
   "execution_count": 3,
   "id": "5a1e2d16-a1df-41c4-8974-940ffa0f7c90",
   "metadata": {
    "tags": []
   },
   "outputs": [],
   "source": [
    "import json\n",
    "import random\n",
    "from typing import List\n",
    "from tqdm.auto import tqdm\n",
    "from dataclasses import dataclass\n",
    "from collections import defaultdict\n",
    "\n",
    "import faiss\n",
    "import pickle\n",
    "import numpy as np\n",
    "from elasticsearch import Elasticsearch\n",
    "from sklearn.manifold import TSNE\n",
    "import matplotlib.pyplot as plt\n",
    "\n",
    "from run import ModelRunner\n",
    "from jovis_model.config import Config\n",
    "from jovis_model.utils.helper import build_faiss_index\n",
    "from jovis_model.utils.report import ReportMaker"
   ]
  },
  {
   "cell_type": "markdown",
   "id": "b5db7fe9-7d0a-4ffd-87a0-1fb29fdaff8e",
   "metadata": {},
   "source": [
    "# Common"
   ]
  },
  {
   "cell_type": "markdown",
   "id": "eb3becac-0c71-439a-b5b4-f4928c746b98",
   "metadata": {
    "tags": []
   },
   "source": [
    "### Runner"
   ]
  },
  {
   "cell_type": "code",
   "execution_count": 4,
   "id": "c578d5f2-e505-4d00-ae69-280bcc055e11",
   "metadata": {
    "tags": []
   },
   "outputs": [
    {
     "name": "stderr",
     "output_type": "stream",
     "text": [
      "11:03:23:AM:INFO: Found credentials in shared credentials file: ~/.aws/credentials\n"
     ]
    }
   ],
   "source": [
    "params = {\n",
    "    \"pkg\": \"llm\",\n",
    "    \"task\": \"bedrock\",\n",
    "    \"use_hf_model\": False,\n",
    "    \"params\": {\n",
    "    }\n",
    "}\n",
    "config = Config(**params)\n",
    "bd_runner = ModelRunner(\n",
    "    config=config,\n",
    "    mode=\"inference\"\n",
    ")"
   ]
  },
  {
   "cell_type": "code",
   "execution_count": 5,
   "id": "6a81c5cc-6f05-45db-a27d-6e95537190c1",
   "metadata": {
    "tags": []
   },
   "outputs": [
    {
     "name": "stderr",
     "output_type": "stream",
     "text": [
      "/home/omnious/workspace/jovis/jovis-model/.venv/lib/python3.10/site-packages/huggingface_hub/file_download.py:1132: FutureWarning: `resume_download` is deprecated and will be removed in version 1.0.0. Downloads always resume when possible. If you want to force a new download, use `force_download=True`.\n",
      "  warnings.warn(\n"
     ]
    }
   ],
   "source": [
    "params = {\n",
    "    \"pkg\": \"llm\",\n",
    "    \"task\": \"sentence_embedding\",\n",
    "    \"use_hf_model\": True,\n",
    "    \"params\": {\n",
    "        \"hf_name\": \"sentence-transformers/paraphrase-multilingual-mpnet-base-v2\",\n",
    "    }\n",
    "}\n",
    "config = Config(**params)\n",
    "se_runner = ModelRunner(\n",
    "    config=config,\n",
    "    mode=\"inference\"\n",
    ")"
   ]
  },
  {
   "cell_type": "markdown",
   "id": "55196d0f-7aac-4054-8ebb-167a6c862f28",
   "metadata": {
    "tags": []
   },
   "source": [
    "### Parser"
   ]
  },
  {
   "cell_type": "code",
   "execution_count": 6,
   "id": "c1a99335-16e7-411f-b3c4-fb4f3a4e5f13",
   "metadata": {
    "tags": []
   },
   "outputs": [],
   "source": [
    "def parse_desc(desc, target: list, dropna: bool = True):\n",
    "    parsed = {}\n",
    "    try:\n",
    "        desc = json.loads(desc)\n",
    "        for k, v in desc.items():\n",
    "            if k in target: \n",
    "                if k == \"Fashion attribute\":\n",
    "                    if isinstance(v, dict):\n",
    "                        fa_dict = {}\n",
    "                        for k_, v_ in v.items():\n",
    "                            if dropna:\n",
    "                                if v_ != \"N/A\":\n",
    "                                    fa_dict[k_] = v_\n",
    "                            else:\n",
    "                                fa_dict[k_] = v_\n",
    "                        v = fa_dict\n",
    "                    parsed[k] = v \n",
    "                else:\n",
    "                    if dropna:\n",
    "                        if v != \"N/A\":\n",
    "                            parsed[k] = v\n",
    "                    else:\n",
    "                        parsed[k] = v\n",
    "    except Exception as e:\n",
    "        return None\n",
    "    return parsed"
   ]
  },
  {
   "cell_type": "markdown",
   "id": "2ac2b651-3b83-4c84-b323-92896c3607c0",
   "metadata": {
    "tags": []
   },
   "source": [
    "### Descriptions"
   ]
  },
  {
   "cell_type": "code",
   "execution_count": 7,
   "id": "1eb6ee30-197a-4237-9221-5c37807d6159",
   "metadata": {
    "tags": []
   },
   "outputs": [],
   "source": [
    "with open(\"outputs/skb/descriptions_original.json\", \"r\") as f:\n",
    "    desc = json.load(f)"
   ]
  },
  {
   "cell_type": "markdown",
   "id": "3a304b30-8082-48c2-94cd-e34689cfe8fc",
   "metadata": {
    "tags": []
   },
   "source": [
    "### labels"
   ]
  },
  {
   "cell_type": "code",
   "execution_count": 8,
   "id": "715eac5a-2663-4977-8578-5a505dc5c53e",
   "metadata": {
    "tags": []
   },
   "outputs": [],
   "source": [
    "target_columns = [\"Season\", \"Place\", \"Occasion\", \"Style\"]\n",
    "dropna=True"
   ]
  },
  {
   "cell_type": "code",
   "execution_count": 9,
   "id": "43683c9c-618b-4ad6-97b0-23bba68e0405",
   "metadata": {
    "tags": []
   },
   "outputs": [
    {
     "data": {
      "application/vnd.jupyter.widget-view+json": {
       "model_id": "bda7130eb1f24d54b543d5cb625274f0",
       "version_major": 2,
       "version_minor": 0
      },
      "text/plain": [
       "  0%|          | 0/19180 [00:00<?, ?it/s]"
      ]
     },
     "metadata": {},
     "output_type": "display_data"
    },
    {
     "name": "stdout",
     "output_type": "stream",
     "text": [
      "Total: 19180, Success: 17368\n"
     ]
    }
   ],
   "source": [
    "pids = []\n",
    "documents = []\n",
    "for pid, des in tqdm(desc.items()):\n",
    "    des = parse_desc(\n",
    "        des,\n",
    "        target=target_columns,\n",
    "        dropna=dropna\n",
    "    )\n",
    "    if des:\n",
    "        documents.append(des)\n",
    "        pids.append(pid)\n",
    "print(f\"Total: {len(desc)}, Success: {len(pids)}\")"
   ]
  },
  {
   "cell_type": "code",
   "execution_count": 10,
   "id": "7b1a801a-a938-453c-a402-53757326edc3",
   "metadata": {
    "tags": []
   },
   "outputs": [],
   "source": [
    "labels = [[f\"{k}_{v}\" for k, v in sorted(d.items(), key=lambda x: x[0])] for d in documents]\n",
    "pid2label = {k: v for k, v in zip(pids, labels)}"
   ]
  },
  {
   "cell_type": "markdown",
   "id": "4a5742d0-1049-4b2c-95e9-d2dd3ba87e09",
   "metadata": {
    "tags": []
   },
   "source": [
    "### Inference"
   ]
  },
  {
   "cell_type": "code",
   "execution_count": 11,
   "id": "640479e4-bfe8-4f3f-bb29-ecd4297fe96d",
   "metadata": {
    "tags": []
   },
   "outputs": [],
   "source": [
    "def inference(pids, embeddings, model_id):\n",
    "    y = []\n",
    "    y_hat = []\n",
    "    res = {}\n",
    "    cur, batch_size, top_k = 0, 100, 10\n",
    "    pbar = tqdm(total=len(embeddings) // batch_size + 1)\n",
    "    while cur < len(embeddings):\n",
    "        batch_embeddings = embeddings[cur:cur+batch_size]\n",
    "        batch_query_pids = pids[cur:cur+batch_size]\n",
    "        batch_pred_scores, batch_pred_indices = desc_index.search(batch_embeddings, top_k)\n",
    "\n",
    "        for query_pid, pred_scores, pred_indices in zip(batch_query_pids, batch_pred_scores, batch_pred_indices):\n",
    "            pred_pids = [desc_map.get(str(idx), -1) for idx in pred_indices]\n",
    "\n",
    "            pred_descs = []\n",
    "            pred_labels = []\n",
    "            for pred_score, pred_pid in zip(pred_scores, pred_pids):\n",
    "                pred_label = pid2label.get(pred_pid, [])\n",
    "                pred_labels.append(pred_label)\n",
    "                pred_descs.append(\n",
    "                    [pred_pid, f\"[{model_id}] {pred_score:.4f}\"] + pred_label\n",
    "                )\n",
    "\n",
    "            res[query_pid] = defaultdict(list)\n",
    "            query_label = pid2label.get(query_pid, [])\n",
    "            res[query_pid][\"<br>\".join(query_label)].append({\"text\": pred_descs, \"image\": pred_pids})\n",
    "\n",
    "            y_hat.append(pred_labels)\n",
    "            y.append(query_label)\n",
    "\n",
    "        cur += batch_size\n",
    "        pbar.update(1)\n",
    "    pbar.close()\n",
    "    return y, y_hat, res"
   ]
  },
  {
   "cell_type": "markdown",
   "id": "e6a1cf0e-76ea-4798-b4d7-539624061fc8",
   "metadata": {
    "tags": []
   },
   "source": [
    "### metrics"
   ]
  },
  {
   "cell_type": "code",
   "execution_count": 12,
   "id": "d92d2a81-51e1-46b0-85a3-8cffdfe3777f",
   "metadata": {},
   "outputs": [],
   "source": [
    "def get_metrics(labels : List[List[str]], preds : List[List[List[str]]]):\n",
    "    topk = len(preds[0])\n",
    "    hits = []\n",
    "    for label, pred in zip(labels, preds):\n",
    "        hits.append([1 if set(label) == set(p) else 0 for p in pred])\n",
    "    hits = np.array(hits)\n",
    "\n",
    "    hr = np.mean(np.sum(hits, axis=1) > 0)\n",
    "    mAP = np.mean(\n",
    "        [\n",
    "            np.mean([np.mean(hit[: idx + 1]) for idx in range(topk)])\n",
    "            for hit in hits\n",
    "        ]\n",
    "    )\n",
    "    return hr, mAP"
   ]
  },
  {
   "cell_type": "markdown",
   "id": "f04821eb-fae7-4a00-8d85-7105aa42084f",
   "metadata": {
    "jp-MarkdownHeadingCollapsed": true,
    "tags": []
   },
   "source": [
    "# Case 1"
   ]
  },
  {
   "cell_type": "markdown",
   "id": "2057cc13-d3b4-43b7-a596-29099054065d",
   "metadata": {
    "tags": []
   },
   "source": [
    "### Build search embeddings"
   ]
  },
  {
   "cell_type": "code",
   "execution_count": 11,
   "id": "1fbd8c23-cf94-46c6-9d54-4a0de96369e9",
   "metadata": {
    "tags": []
   },
   "outputs": [],
   "source": [
    "target_columns = [\"Season\", \"Place\", \"Occasion\", \"Style\", \"Gender\", \"Background\", \"Model\", \"Fashion attribute\"]\n",
    "dropna=True"
   ]
  },
  {
   "cell_type": "code",
   "execution_count": 13,
   "id": "6917bf6f-dea1-43b2-ae99-832baa4451f6",
   "metadata": {
    "tags": []
   },
   "outputs": [
    {
     "data": {
      "application/vnd.jupyter.widget-view+json": {
       "model_id": "2716dcdfff0e43e680770f90acda6891",
       "version_major": 2,
       "version_minor": 0
      },
      "text/plain": [
       "  0%|          | 0/19180 [00:00<?, ?it/s]"
      ]
     },
     "metadata": {},
     "output_type": "display_data"
    },
    {
     "name": "stdout",
     "output_type": "stream",
     "text": [
      "Total: 19180, Success: 19174\n"
     ]
    }
   ],
   "source": [
    "pids = []\n",
    "embeddings = []\n",
    "for pid, des in tqdm(desc.items()):\n",
    "    des = parse_desc(\n",
    "        des,\n",
    "        target=target_columns,\n",
    "        dropna=dropna\n",
    "    )\n",
    "    if des:\n",
    "        des = json.dumps(des)\n",
    "        pids.append(pid)\n",
    "        embeddings.append(se_runner.run([des]).detach().cpu().numpy()[0])\n",
    "        \n",
    "print(f\"Total: {len(desc)}, Success: {len(pids)}\")"
   ]
  },
  {
   "cell_type": "code",
   "execution_count": 14,
   "id": "36177e17-0326-478b-b8bd-4352cbdd0c40",
   "metadata": {
    "tags": []
   },
   "outputs": [],
   "source": [
    "build_faiss_index(\n",
    "    embeddings=embeddings,\n",
    "    save_path=\"outputs/skb\",\n",
    "    save_name=\"descriptions_all_mpnet\",\n",
    "    pids=pids\n",
    ")"
   ]
  },
  {
   "cell_type": "markdown",
   "id": "f700ef18-8ef7-4792-89bf-4e6442800fe9",
   "metadata": {
    "jp-MarkdownHeadingCollapsed": true,
    "tags": []
   },
   "source": [
    "### Build query embeddings"
   ]
  },
  {
   "cell_type": "code",
   "execution_count": 15,
   "id": "24f2d28f-351c-40b6-ba97-524787e9eda1",
   "metadata": {
    "tags": []
   },
   "outputs": [],
   "source": [
    "target_columns = [\"Season\", \"Place\", \"Occasion\", \"Style\"]\n",
    "dropna=True"
   ]
  },
  {
   "cell_type": "code",
   "execution_count": 16,
   "id": "e0f0b91f-4531-4ad5-b3e7-bcad1e1662be",
   "metadata": {
    "tags": []
   },
   "outputs": [
    {
     "data": {
      "application/vnd.jupyter.widget-view+json": {
       "model_id": "2d76abc4e9494d91b943d73c4e7da19c",
       "version_major": 2,
       "version_minor": 0
      },
      "text/plain": [
       "  0%|          | 0/19180 [00:00<?, ?it/s]"
      ]
     },
     "metadata": {},
     "output_type": "display_data"
    },
    {
     "name": "stdout",
     "output_type": "stream",
     "text": [
      "Total: 19180, Success: 17368\n"
     ]
    }
   ],
   "source": [
    "pids = []\n",
    "embeddings = []\n",
    "for pid, des in tqdm(desc.items()):\n",
    "    des = parse_desc(\n",
    "        des,\n",
    "        target=target_columns,\n",
    "        dropna=dropna\n",
    "    )\n",
    "    if des:\n",
    "        des = json.dumps(des)\n",
    "        pids.append(pid)\n",
    "        embeddings.append(se_runner.run([des]).detach().cpu().numpy()[0].tolist())\n",
    "print(f\"Total: {len(desc)}, Success: {len(pids)}\")"
   ]
  },
  {
   "cell_type": "code",
   "execution_count": 17,
   "id": "0ba0eb67-3803-4e57-bab1-2ea37b4e5e4d",
   "metadata": {
    "tags": []
   },
   "outputs": [],
   "source": [
    "f_name = \"query_embeddings_4cols_mpnet\""
   ]
  },
  {
   "cell_type": "code",
   "execution_count": 18,
   "id": "dc1f0cca-56ec-4a95-b37e-58572bbfc525",
   "metadata": {
    "tags": []
   },
   "outputs": [],
   "source": [
    "with open(f\"outputs/skb/{f_name}.json\", \"w\") as f:\n",
    "    json.dump({k:v for k, v in zip(pids, embeddings)}, f)"
   ]
  },
  {
   "cell_type": "markdown",
   "id": "b90ecbea-ca3b-4956-85e7-04f33468fb5f",
   "metadata": {
    "tags": []
   },
   "source": [
    "### Evaluation"
   ]
  },
  {
   "cell_type": "code",
   "execution_count": 12,
   "id": "08edd778-2eb3-4ec7-b697-d44e7a46145e",
   "metadata": {
    "tags": []
   },
   "outputs": [],
   "source": [
    "index_file_name = \"descriptions_all_mpnet\"\n",
    "query_file_name = \"query_embeddings_4cols_mpnet\"\n",
    "\n",
    "desc_index = faiss.read_index(f\"outputs/skb/{index_file_name}.index\")\n",
    "with open(f\"outputs/skb/{index_file_name}_map.json\", \"r\") as f:\n",
    "    desc_map = json.load(f)\n",
    "with open(f\"outputs/skb/{query_file_name}.json\", \"r\") as f:\n",
    "    desc_text_embeddings = json.load(f)\n",
    "\n",
    "pids = []\n",
    "embeddings = []\n",
    "for pid, embedding in desc_text_embeddings.items():\n",
    "    pids.append(pid)\n",
    "    embeddings.append(embedding)"
   ]
  },
  {
   "cell_type": "code",
   "execution_count": 13,
   "id": "6efb612b-652a-48df-9efa-e8ac7578f485",
   "metadata": {
    "tags": []
   },
   "outputs": [],
   "source": [
    "pids = np.array(pids)\n",
    "embeddings = np.array(embeddings)"
   ]
  },
  {
   "cell_type": "code",
   "execution_count": 20,
   "id": "fbb1dd99-82e8-49d4-9a18-981fed18d4fe",
   "metadata": {
    "tags": []
   },
   "outputs": [
    {
     "data": {
      "application/vnd.jupyter.widget-view+json": {
       "model_id": "4b372abec24c4b218cb46d0c663f3b4c",
       "version_major": 2,
       "version_minor": 0
      },
      "text/plain": [
       "  0%|          | 0/174 [00:00<?, ?it/s]"
      ]
     },
     "metadata": {},
     "output_type": "display_data"
    }
   ],
   "source": [
    "case1_y, case1_y_hat, case1_res = inference(pids, embeddings, \"mpnet\")"
   ]
  },
  {
   "cell_type": "code",
   "execution_count": 21,
   "id": "5996e8bb-f91f-478f-aa34-29b4822bd114",
   "metadata": {},
   "outputs": [
    {
     "data": {
      "text/plain": [
       "(0.5912597881160755, 0.41146930954939936)"
      ]
     },
     "execution_count": 21,
     "metadata": {},
     "output_type": "execute_result"
    }
   ],
   "source": [
    "get_metrics(case1_y, case1_y_hat)"
   ]
  },
  {
   "cell_type": "markdown",
   "id": "52d61d58-0236-42fe-ab59-1a2e20bd374d",
   "metadata": {
    "tags": []
   },
   "source": [
    "# Case 2"
   ]
  },
  {
   "cell_type": "markdown",
   "id": "ff734205-c1d6-4084-9bc7-bb4f54fb9101",
   "metadata": {
    "tags": []
   },
   "source": [
    "### Build search embeddings"
   ]
  },
  {
   "cell_type": "code",
   "execution_count": 294,
   "id": "e067a67b-e1d2-48bc-b69f-8cfcc6b96af5",
   "metadata": {
    "tags": []
   },
   "outputs": [],
   "source": [
    "target_columns = [\"Season\", \"Place\", \"Occasion\", \"Style\", \"Gender\", \"Background\", \"Model\", \"Fashion attribute\"]\n",
    "dropna=True"
   ]
  },
  {
   "cell_type": "code",
   "execution_count": 295,
   "id": "1eab1036-503a-47fd-8f57-210b14c1c9e1",
   "metadata": {
    "tags": []
   },
   "outputs": [
    {
     "data": {
      "application/vnd.jupyter.widget-view+json": {
       "model_id": "3d1f2596ab5b458997be8bbd185fe6dc",
       "version_major": 2,
       "version_minor": 0
      },
      "text/plain": [
       "  0%|          | 0/19180 [00:00<?, ?it/s]"
      ]
     },
     "metadata": {},
     "output_type": "display_data"
    },
    {
     "name": "stdout",
     "output_type": "stream",
     "text": [
      "Total: 19180, Success: 19174\n"
     ]
    }
   ],
   "source": [
    "pids = []\n",
    "documents = []\n",
    "for pid, des in tqdm(desc.items()):\n",
    "    des = parse_desc(\n",
    "        des,\n",
    "        target=target_columns,\n",
    "        dropna=dropna\n",
    "    )\n",
    "    if des:\n",
    "        des = json.dumps(des)\n",
    "        documents.append(des)\n",
    "        pids.append(pid)\n",
    "print(f\"Total: {len(desc)}, Success: {len(pids)}\")"
   ]
  },
  {
   "cell_type": "code",
   "execution_count": null,
   "id": "eb92a2a1-47af-404c-806c-6ce4df5268f4",
   "metadata": {
    "tags": []
   },
   "outputs": [
    {
     "data": {
      "application/vnd.jupyter.widget-view+json": {
       "model_id": "42f921de4e8a456c9bda8c3a6d2b6329",
       "version_major": 2,
       "version_minor": 0
      },
      "text/plain": [
       "  0%|          | 0/19174 [00:00<?, ?it/s]"
      ]
     },
     "metadata": {},
     "output_type": "display_data"
    }
   ],
   "source": [
    "batch_size = 1\n",
    "cur = 0\n",
    "embeddings = []\n",
    "pbar = tqdm(total=len(documents) // batch_size)\n",
    "while cur < len(documents):\n",
    "    tmp_docs = documents[cur:cur+batch_size]\n",
    "    body_dict = {\n",
    "        \"texts\": tmp_docs,\n",
    "        \"input_type\": \"search_document\",\n",
    "    }\n",
    "    body_json = json.dumps(body_dict)\n",
    "    response = bd_runner.mm.processor.bedrock_runtime.invoke_model(\n",
    "        modelId=\"cohere.embed-multilingual-v3\",\n",
    "        body=body_json\n",
    "    )\n",
    "    embedding = json.loads(response.get(\"body\").read())[\"embeddings\"]\n",
    "    embeddings += embedding\n",
    "    cur += batch_size\n",
    "    pbar.update(1)\n",
    "pbar.close()"
   ]
  },
  {
   "cell_type": "code",
   "execution_count": 18,
   "id": "e1d56834-df4e-46ec-96e0-887d05e2c693",
   "metadata": {
    "tags": []
   },
   "outputs": [],
   "source": [
    "build_faiss_index(\n",
    "    embeddings=embeddings,\n",
    "    save_path=\"outputs/skb\",\n",
    "    save_name=\"descriptions_all_cohere\",\n",
    "    pids=pids\n",
    ")"
   ]
  },
  {
   "cell_type": "markdown",
   "id": "452b8ab9-86e3-491a-8db8-8d501ce04d74",
   "metadata": {
    "jp-MarkdownHeadingCollapsed": true,
    "tags": []
   },
   "source": [
    "### Build query embeddings"
   ]
  },
  {
   "cell_type": "code",
   "execution_count": 285,
   "id": "6ef7846f-51c2-429e-a552-b866cc3c55bc",
   "metadata": {
    "tags": []
   },
   "outputs": [],
   "source": [
    "target_columns = [\"Season\", \"Place\", \"Occasion\", \"Style\"]\n",
    "dropna=True"
   ]
  },
  {
   "cell_type": "code",
   "execution_count": 286,
   "id": "fa3e13f9-dee0-4f5c-81be-2c236616d24b",
   "metadata": {
    "tags": []
   },
   "outputs": [
    {
     "data": {
      "application/vnd.jupyter.widget-view+json": {
       "model_id": "dfb640c10d104aa5a31efeb6bc83516d",
       "version_major": 2,
       "version_minor": 0
      },
      "text/plain": [
       "  0%|          | 0/19180 [00:00<?, ?it/s]"
      ]
     },
     "metadata": {},
     "output_type": "display_data"
    },
    {
     "name": "stdout",
     "output_type": "stream",
     "text": [
      "Total: 19180, Success: 17368\n"
     ]
    }
   ],
   "source": [
    "pids = []\n",
    "documents = []\n",
    "for pid, des in tqdm(desc.items()):\n",
    "    des = parse_desc(\n",
    "        des,\n",
    "        target=target_columns,\n",
    "        dropna=dropna\n",
    "    )\n",
    "    if des:\n",
    "        des = json.dumps(des)\n",
    "        documents.append(des)\n",
    "        pids.append(pid)\n",
    "print(f\"Total: {len(desc)}, Success: {len(pids)}\")"
   ]
  },
  {
   "cell_type": "code",
   "execution_count": 287,
   "id": "1f0b5e62-8360-4636-aafa-8d0b098eed70",
   "metadata": {
    "tags": []
   },
   "outputs": [
    {
     "data": {
      "application/vnd.jupyter.widget-view+json": {
       "model_id": "450f584dd3dc4198ba27ef186d5fab5b",
       "version_major": 2,
       "version_minor": 0
      },
      "text/plain": [
       "  0%|          | 0/347 [00:00<?, ?it/s]"
      ]
     },
     "metadata": {},
     "output_type": "display_data"
    }
   ],
   "source": [
    "batch_size = 50\n",
    "cur = 0\n",
    "embeddings = []\n",
    "pbar = tqdm(total=len(documents) // batch_size)\n",
    "while cur < len(documents):\n",
    "    tmp_docs = documents[cur:cur+batch_size]\n",
    "    body_dict = {\n",
    "        \"texts\": tmp_docs,\n",
    "        \"input_type\": \"search_query\",\n",
    "    }\n",
    "    body_json = json.dumps(body_dict)\n",
    "    response = bd_runner.mm.processor.bedrock_runtime.invoke_model(\n",
    "        modelId=\"cohere.embed-multilingual-v3\",\n",
    "        body=body_json\n",
    "    )\n",
    "    embedding = json.loads(response.get(\"body\").read())[\"embeddings\"]\n",
    "    embeddings += embedding\n",
    "    cur += batch_size\n",
    "    pbar.update(1)\n",
    "pbar.close()"
   ]
  },
  {
   "cell_type": "code",
   "execution_count": 288,
   "id": "c3aabb97-69dc-44a2-97a2-c312a7fb0ab7",
   "metadata": {
    "tags": []
   },
   "outputs": [],
   "source": [
    "embeddings = np.array(embeddings).astype(np.float32)\n",
    "faiss.normalize_L2(embeddings)\n",
    "embeddings = embeddings.tolist()"
   ]
  },
  {
   "cell_type": "code",
   "execution_count": 289,
   "id": "df9228a4-e2a4-4349-9e89-d110954287ca",
   "metadata": {
    "tags": []
   },
   "outputs": [],
   "source": [
    "f_name = \"query_embeddings_4cols_cohere\""
   ]
  },
  {
   "cell_type": "code",
   "execution_count": 290,
   "id": "e76948d3-db12-4f21-8a43-96999710193f",
   "metadata": {
    "tags": []
   },
   "outputs": [],
   "source": [
    "with open(f\"outputs/skb/{f_name}.json\", \"w\") as f:\n",
    "    json.dump({k:v for k, v in zip(pids, embeddings)}, f)"
   ]
  },
  {
   "cell_type": "markdown",
   "id": "f49b3a52-6ca5-43c6-b607-f17fcf883b90",
   "metadata": {
    "tags": []
   },
   "source": [
    "### Evaluation"
   ]
  },
  {
   "cell_type": "code",
   "execution_count": 291,
   "id": "a0fdc26f-a214-4392-81e1-bf1919f9bada",
   "metadata": {
    "tags": []
   },
   "outputs": [],
   "source": [
    "index_file_name = \"descriptions_all_cohere\"\n",
    "query_file_name = \"query_embeddings_4cols_cohere\"\n",
    "\n",
    "desc_index = faiss.read_index(f\"outputs/skb/{index_file_name}.index\")\n",
    "with open(f\"outputs/skb/{index_file_name}_map.json\", \"r\") as f:\n",
    "    desc_map = json.load(f)\n",
    "with open(f\"outputs/skb/{query_file_name}.json\", \"r\") as f:\n",
    "    desc_text_embeddings = json.load(f)\n",
    "\n",
    "pids = []\n",
    "embeddings = []\n",
    "for pid, embedding in desc_text_embeddings.items():\n",
    "    pids.append(pid)\n",
    "    embeddings.append(embedding)\n",
    "\n",
    "pids = np.array(pids)\n",
    "embeddings = np.array(embeddings)"
   ]
  },
  {
   "cell_type": "code",
   "execution_count": 292,
   "id": "41501dd8-f884-423e-ac9a-722860dfba72",
   "metadata": {
    "tags": []
   },
   "outputs": [
    {
     "data": {
      "application/vnd.jupyter.widget-view+json": {
       "model_id": "1f1b9019e6124c76b2e13104f84b851c",
       "version_major": 2,
       "version_minor": 0
      },
      "text/plain": [
       "  0%|          | 0/174 [00:00<?, ?it/s]"
      ]
     },
     "metadata": {},
     "output_type": "display_data"
    }
   ],
   "source": [
    "case2_y, case2_y_hat, case2_res = inference(pids, embeddings, \"cohere\")"
   ]
  },
  {
   "cell_type": "code",
   "execution_count": 24,
   "id": "88414a44-8396-41e2-bc65-2688732d3b8a",
   "metadata": {},
   "outputs": [
    {
     "data": {
      "text/plain": [
       "(0.37931828650391525, 0.10115503425383665)"
      ]
     },
     "execution_count": 24,
     "metadata": {},
     "output_type": "execute_result"
    }
   ],
   "source": [
    "get_metrics(case2_y, case2_y_hat)"
   ]
  },
  {
   "cell_type": "code",
   "execution_count": 293,
   "id": "4d5d427f-fa1a-4e8f-bc33-9b404ea0d50c",
   "metadata": {},
   "outputs": [
    {
     "data": {
      "text/plain": [
       "(0.5892445877475817, 0.3614104460492934)"
      ]
     },
     "execution_count": 293,
     "metadata": {},
     "output_type": "execute_result"
    }
   ],
   "source": [
    "get_metrics(case2_y, case2_y_hat)"
   ]
  },
  {
   "cell_type": "markdown",
   "id": "f9bef6f5-28b8-4fb1-8dc4-c9357f84cc10",
   "metadata": {
    "jp-MarkdownHeadingCollapsed": true,
    "tags": []
   },
   "source": [
    "# Case 3"
   ]
  },
  {
   "cell_type": "markdown",
   "id": "f9f28093-bd16-4769-9ca2-165a3bdfc705",
   "metadata": {
    "tags": []
   },
   "source": [
    "### Build search embeddings"
   ]
  },
  {
   "cell_type": "code",
   "execution_count": 11,
   "id": "9a9ddc05-63c3-4d62-b37b-9162a862b1f9",
   "metadata": {
    "tags": []
   },
   "outputs": [],
   "source": [
    "@dataclass\n",
    "class Config:\n",
    "    ES_URL: str = \"http://flush-es-v3.dev.omnious.com\"\n",
    "    ES_PORT: int = 30313\n",
    "    ES_LOGIN_ID: str = \"elastic\"\n",
    "    ES_LOGIN_PWD: str = \"5P44CV414Pxb4f7R7nfU1rkq\"\n",
    "    ES_INDEX: str = \"01hz64dqt6h8fqkmm78eyz52sd\"\n",
    "    \n",
    "    ES_RETRY_COUNT: int = 3\n",
    "    ES_TIMEOUT: int = 2\n",
    "    ES_MAX_COUNT: int = 1000"
   ]
  },
  {
   "cell_type": "code",
   "execution_count": 12,
   "id": "ccdae7cc-58c6-4b4f-a43b-81129a6c6642",
   "metadata": {
    "tags": []
   },
   "outputs": [],
   "source": [
    "class ElasticsearchService:\n",
    "    def __init__(self, config, timeout: int = 30):\n",
    "        self.es = Elasticsearch(\n",
    "            f\"{config.ES_URL}:{config.ES_PORT}\",\n",
    "            http_auth=(config.ES_LOGIN_ID, config.ES_LOGIN_PWD),\n",
    "            timeout=config.ES_TIMEOUT,\n",
    "            max_retries=config.ES_RETRY_COUNT,\n",
    "            retry_on_timeout=True,\n",
    "        )"
   ]
  },
  {
   "cell_type": "code",
   "execution_count": 13,
   "id": "b3b30c7f-160b-423b-a635-38b95353b521",
   "metadata": {},
   "outputs": [
    {
     "name": "stderr",
     "output_type": "stream",
     "text": [
      "/tmp/ipykernel_46213/1069141294.py:3: DeprecationWarning: The 'timeout' parameter is deprecated in favor of 'request_timeout'\n",
      "  self.es = Elasticsearch(\n",
      "/tmp/ipykernel_46213/1069141294.py:3: DeprecationWarning: The 'http_auth' parameter is deprecated. Use 'basic_auth' or 'bearer_auth' parameters instead\n",
      "  self.es = Elasticsearch(\n"
     ]
    }
   ],
   "source": [
    "config = Config\n",
    "\n",
    "es = ElasticsearchService(config=config)"
   ]
  },
  {
   "cell_type": "code",
   "execution_count": 33,
   "id": "f5e81221-5e26-4804-b00d-9de857bf2fbf",
   "metadata": {},
   "outputs": [
    {
     "name": "stderr",
     "output_type": "stream",
     "text": [
      "10:47:02:AM:INFO: POST http://flush-es-v3.dev.omnious.com:30313/01hz64dqt6h8fqkmm78eyz52sd/_search?scroll=1m [status:200 duration:17.698s]\n",
      "10:47:25:AM:INFO: POST http://flush-es-v3.dev.omnious.com:30313/_search/scroll [status:200 duration:19.650s]\n",
      "10:47:29:AM:INFO: POST http://flush-es-v3.dev.omnious.com:30313/_search/scroll [status:200 duration:0.131s]\n",
      "10:47:29:AM:INFO: POST http://flush-es-v3.dev.omnious.com:30313/_search/scroll [status:200 duration:0.008s]\n"
     ]
    }
   ],
   "source": [
    "query = {\n",
    "    \"bool\": {\n",
    "        \"must\": {\n",
    "            \"exists\": {\n",
    "                \"field\": \"semantic_vectors_l2_norm\"\n",
    "            }\n",
    "        }\n",
    "    }\n",
    "}\n",
    "hits = []\n",
    "scroll_id_list = []\n",
    "\n",
    "es_results = es.es.search(\n",
    "    index=config.ES_INDEX,\n",
    "    query=query,\n",
    "    size=10000,\n",
    "    scroll=\"1m\",\n",
    "    track_total_hits=True\n",
    ")\n",
    "tmp_hits = es_results.get(\"hits\", dict()).get(\"hits\", list())\n",
    "hits.extend(tmp_hits)\n",
    "\n",
    "scroll_id = es_results[\"_scroll_id\"]\n",
    "scroll_id_list.append(scroll_id)\n",
    "while len(tmp_hits):\n",
    "    es_results = es.es.scroll(\n",
    "        scroll_id=scroll_id_list[-1],\n",
    "        scroll=\"1m\"\n",
    "    )\n",
    "    tmp_scroll_id = es_results[\"_scroll_id\"]\n",
    "    scroll_id_list.append(tmp_scroll_id)\n",
    "    tmp_hits = es_results.get(\"hits\", dict()).get(\"hits\", list())\n",
    "    hits.extend(tmp_hits)"
   ]
  },
  {
   "cell_type": "code",
   "execution_count": 35,
   "id": "be756855-bd2a-4313-90fb-43e644c8a0e5",
   "metadata": {
    "tags": []
   },
   "outputs": [],
   "source": [
    "pids, embeddings = [], []\n",
    "for h in hits:\n",
    "    pid = h[\"_source\"][\"productId\"]\n",
    "    embed = h[\"_source\"][\"semantic_vectors_l2_norm\"]\n",
    "    pids.append(pid)\n",
    "    embeddings.append(embed)"
   ]
  },
  {
   "cell_type": "code",
   "execution_count": 38,
   "id": "c41d5a06-c0c1-4d23-9bc8-964b159c55cb",
   "metadata": {
    "tags": []
   },
   "outputs": [],
   "source": [
    "build_faiss_index(\n",
    "    embeddings=embeddings,\n",
    "    save_path=\"outputs/skb\",\n",
    "    save_name=\"KB_with_des_cohere\",\n",
    "    pids=pids\n",
    ")"
   ]
  },
  {
   "cell_type": "markdown",
   "id": "87a41b12-01e4-4507-bb43-be391d012b18",
   "metadata": {},
   "source": [
    "### Evaluation"
   ]
  },
  {
   "cell_type": "code",
   "execution_count": 39,
   "id": "f0725438-3bb9-43e8-a154-116565522b40",
   "metadata": {
    "tags": []
   },
   "outputs": [],
   "source": [
    "index_file_name = \"KB_with_des_cohere\"\n",
    "query_file_name = \"query_embeddings_4cols_cohere\"\n",
    "\n",
    "desc_index = faiss.read_index(f\"outputs/skb/{index_file_name}.index\")\n",
    "with open(f\"outputs/skb/{index_file_name}_map.json\", \"r\") as f:\n",
    "    desc_map = json.load(f)\n",
    "with open(f\"outputs/skb/{query_file_name}.json\", \"r\") as f:\n",
    "    desc_text_embeddings = json.load(f)\n",
    "\n",
    "pids = []\n",
    "embeddings = []\n",
    "for pid, embedding in desc_text_embeddings.items():\n",
    "    pids.append(pid)\n",
    "    embeddings.append(embedding)\n",
    "\n",
    "pids = np.array(pids)\n",
    "embeddings = np.array(embeddings)"
   ]
  },
  {
   "cell_type": "code",
   "execution_count": 40,
   "id": "ae1c40c8-80b4-46e0-bdd4-ec209cec1f83",
   "metadata": {
    "tags": []
   },
   "outputs": [
    {
     "data": {
      "application/vnd.jupyter.widget-view+json": {
       "model_id": "239f75a63a1040469c41c6466b5d08f8",
       "version_major": 2,
       "version_minor": 0
      },
      "text/plain": [
       "  0%|          | 0/173 [00:00<?, ?it/s]"
      ]
     },
     "metadata": {},
     "output_type": "display_data"
    }
   ],
   "source": [
    "labels = []\n",
    "preds = []\n",
    "cur = 0\n",
    "batch = 100\n",
    "topk = 10\n",
    "pbar = tqdm(total=len(embeddings) // batch)\n",
    "while cur < len(embeddings):\n",
    "    scores, indices = desc_index.search(embeddings[cur:cur+batch], topk)\n",
    "    label = pids[cur:cur+batch]\n",
    "    label = [pid2label.get(l, []) for l in label]\n",
    "    labels += label\n",
    "    \n",
    "    parsed_indices = []\n",
    "    for index in indices:\n",
    "        parsed_indices.append([desc_map[str(i)] for i in index])\n",
    "    \n",
    "    parsed_indices_label = []\n",
    "    for parsed in parsed_indices:\n",
    "        parsed_indices_label.append([pid2label.get(p, []) for p in parsed])\n",
    "    preds += parsed_indices_label\n",
    "    cur += batch\n",
    "    pbar.update(1)\n",
    "pbar.close()"
   ]
  },
  {
   "cell_type": "code",
   "execution_count": 41,
   "id": "841b9fc6-26b4-42a0-be5d-afc0131445ec",
   "metadata": {},
   "outputs": [
    {
     "data": {
      "text/plain": [
       "(0.20272915707047443, 0.043505591838301425)"
      ]
     },
     "execution_count": 41,
     "metadata": {},
     "output_type": "execute_result"
    }
   ],
   "source": [
    "get_metrics(labels, preds)"
   ]
  },
  {
   "cell_type": "markdown",
   "id": "24d917c5-77ae-46c6-a446-7a477eedd8dd",
   "metadata": {},
   "source": [
    "# Analysis"
   ]
  },
  {
   "cell_type": "code",
   "execution_count": 51,
   "id": "645ff246-4c17-4100-9954-1326b49ea34b",
   "metadata": {
    "tags": []
   },
   "outputs": [
    {
     "name": "stderr",
     "output_type": "stream",
     "text": [
      "/tmp/ipykernel_58031/4211460355.py:1: DeprecationWarning: Sampling from a set deprecated\n",
      "since Python 3.9 and will be removed in a subsequent version.\n",
      "  subset_res = dict(random.sample(case1_res.items(), 100))\n"
     ]
    }
   ],
   "source": [
    "subset_res = dict(random.sample(case1_res.items(), 100))"
   ]
  },
  {
   "cell_type": "code",
   "execution_count": 59,
   "id": "539f8005-e51e-49be-8dc3-c12ed317cf7e",
   "metadata": {
    "tags": []
   },
   "outputs": [
    {
     "data": {
      "application/vnd.jupyter.widget-view+json": {
       "model_id": "e6e32e131d054cb2a129d9842e31687c",
       "version_major": 2,
       "version_minor": 0
      },
      "text/plain": [
       "  0%|          | 0/100 [00:00<?, ?it/s]"
      ]
     },
     "metadata": {},
     "output_type": "display_data"
    }
   ],
   "source": [
    "for query in tqdm(list(subset_res.keys())):\n",
    "    key, val = list(case2_res[query].items())[0]\n",
    "    subset_res[query][key] += val"
   ]
  },
  {
   "cell_type": "code",
   "execution_count": 63,
   "id": "81503583-32c2-4c5b-9f5d-5233fe6f9edc",
   "metadata": {},
   "outputs": [],
   "source": [
    "rm = ReportMaker(\n",
    "    data_dict=subset_res,\n",
    "    image_path=\"jovis_model/_db/skb\",\n",
    "    max_len=15\n",
    ")"
   ]
  },
  {
   "cell_type": "code",
   "execution_count": 64,
   "id": "a7b5542c-8782-49ac-a3ff-f188b2482dd0",
   "metadata": {
    "tags": []
   },
   "outputs": [],
   "source": [
    "rm.make_report(\n",
    "    save_path=\"outputs/skb\",\n",
    "    save_name=\"multimodal_0\"\n",
    ")"
   ]
  },
  {
   "cell_type": "markdown",
   "id": "23d11b4c-aceb-4939-b8cf-12252ef09333",
   "metadata": {},
   "source": [
    "# Visualize"
   ]
  },
  {
   "cell_type": "code",
   "execution_count": 73,
   "id": "84826884-0cce-4edd-b663-61a7d9822bc8",
   "metadata": {
    "tags": []
   },
   "outputs": [],
   "source": [
    "index_file_name = \"descriptions_all_cohere\"\n",
    "query_file_name = \"query_embeddings_4cols_cohere\"\n",
    "\n",
    "desc_index = faiss.read_index(f\"outputs/skb/{index_file_name}.index\")\n",
    "with open(f\"outputs/skb/{index_file_name}_map.json\", \"r\") as f:\n",
    "    desc_map = json.load(f)\n",
    "with open(f\"outputs/skb/{query_file_name}.json\", \"r\") as f:\n",
    "    desc_text_embeddings = json.load(f)"
   ]
  },
  {
   "cell_type": "code",
   "execution_count": 72,
   "id": "b1953c83-6276-49b3-bd4b-5f3ae123a8fc",
   "metadata": {
    "tags": []
   },
   "outputs": [],
   "source": [
    "# label2pid = defaultdict(list)\n",
    "# for pid, label in pid2label.items():\n",
    "#     label2pid[\" \".join(label)].append(pid)"
   ]
  },
  {
   "cell_type": "code",
   "execution_count": 66,
   "id": "51b33c6b-477d-4aa5-9aa1-d0766df3e30e",
   "metadata": {
    "tags": []
   },
   "outputs": [],
   "source": [
    "# model = TSNE(n_components=2)\n",
    "# embeddings = list(desc_text_embeddings.values())\n",
    "# reduced = model.fit_transform(np.array(embeddings))"
   ]
  },
  {
   "cell_type": "code",
   "execution_count": 77,
   "id": "c5331454-bf44-4025-b5f9-263b9cb727d8",
   "metadata": {
    "tags": []
   },
   "outputs": [],
   "source": [
    "query = np.array(desc_text_embeddings[\"691316\"]).reshape(1, -1)"
   ]
  },
  {
   "cell_type": "code",
   "execution_count": 80,
   "id": "30b9728b-7694-4ca8-8feb-a21667760a5d",
   "metadata": {
    "tags": []
   },
   "outputs": [],
   "source": [
    "score, index = desc_index.search(query, 10)"
   ]
  },
  {
   "cell_type": "code",
   "execution_count": 81,
   "id": "6b4d117d-3a38-4c80-b238-2ec6d7f8fe37",
   "metadata": {
    "tags": []
   },
   "outputs": [
    {
     "data": {
      "text/plain": [
       "array([[0.86607873, 0.857795  , 0.857795  , 0.85514057, 0.8397699 ,\n",
       "        0.7951678 , 0.7903343 , 0.76851845, 0.7681458 , 0.7680659 ]],\n",
       "      dtype=float32)"
      ]
     },
     "execution_count": 81,
     "metadata": {},
     "output_type": "execute_result"
    }
   ],
   "source": [
    "score[0]"
   ]
  },
  {
   "cell_type": "code",
   "execution_count": 83,
   "id": "0fe7d986-d256-4736-a6b1-14c93ba9a349",
   "metadata": {
    "tags": []
   },
   "outputs": [],
   "source": [
    "index = [desc_map[str(pid)] for pid in index[0]]"
   ]
  },
  {
   "cell_type": "code",
   "execution_count": 70,
   "id": "fa22bae2-16ce-4899-82fd-c6c4a672fc43",
   "metadata": {
    "tags": []
   },
   "outputs": [
    {
     "name": "stdout",
     "output_type": "stream",
     "text": [
      "['Occasion_Casual', 'Place_Casual outdoor', 'Season_Spring/Summer', 'Style_Feminine']\n"
     ]
    }
   ],
   "source": [
    "print(pid2label[\"691316\"])"
   ]
  },
  {
   "cell_type": "code",
   "execution_count": 272,
   "id": "f8b2d1a0-dd2e-487f-a4cc-72a599c7161c",
   "metadata": {
    "tags": []
   },
   "outputs": [],
   "source": [
    "def get_cohere_embed(texts, input_type=\"search_query\"):\n",
    "    body_dict = {\n",
    "        \"texts\": texts,\n",
    "        \"input_type\": input_type,\n",
    "    }\n",
    "    body_json = json.dumps(body_dict)\n",
    "    response = bd_runner.mm.processor.bedrock_runtime.invoke_model(\n",
    "        modelId=\"cohere.embed-multilingual-v3\",\n",
    "        body=body_json\n",
    "    )\n",
    "    embedding = json.loads(response.get(\"body\").read())[\"embeddings\"]\n",
    "    return embedding"
   ]
  },
  {
   "cell_type": "code",
   "execution_count": 273,
   "id": "c955b18b-f7d5-40e4-aab4-8ace347327e0",
   "metadata": {
    "tags": []
   },
   "outputs": [],
   "source": [
    "query = '{\"Style\": \"Dandy/Classic\"}'\n",
    "target_1 = '{\"스타일\": \"댄디/클래식\"}'\n",
    "target_2 = '{\"Fashion attribute\": {\"Color\": \"Yellow\", \"Texture\": \"Rubber-like\"}}'\n",
    "target_3 = '{\"Style\": \"N/A\", \"Gender\": \"N/A\", \"Fashion attribute\": {\"Category\": \"N/A\", \"Color\": \"Yellow\", \"Shape\": \"N/A\", \"Texture\": \"Rubber-like\"}}'\n",
    "target_4 = '{\"Style\": \"Dandy/Classic\", \"Gender\": \"Unisex\", \"Fashion attribute\": {\"Category\": \"Jewelry\", \"Color\": \"Gold\", \"Shape\": \"Round\", \"Texture\": \"Smooth\"}}'"
   ]
  },
  {
   "cell_type": "code",
   "execution_count": 274,
   "id": "6b2dc95e-f6a8-49b1-a0fa-2f072f448fcd",
   "metadata": {
    "tags": []
   },
   "outputs": [],
   "source": [
    "def calculate_similarity(a, b):\n",
    "    return np.dot(a, b) / (np.linalg.norm(a) * np.linalg.norm(b))"
   ]
  },
  {
   "cell_type": "code",
   "execution_count": 276,
   "id": "cbe6162b-3374-4f77-a452-340cd6e79c71",
   "metadata": {
    "tags": []
   },
   "outputs": [],
   "source": [
    "q = get_cohere_embed([query], input_type=\"search_query\")"
   ]
  },
  {
   "cell_type": "code",
   "execution_count": 278,
   "id": "956fa83e-17fa-4af2-94e9-fbfc25a3d2d9",
   "metadata": {
    "tags": []
   },
   "outputs": [],
   "source": [
    "target = get_cohere_embed([target_1, target_2, target_3, target_4], input_type=\"search_document\")"
   ]
  },
  {
   "cell_type": "code",
   "execution_count": 279,
   "id": "241d23a0-ce3a-4e03-a643-19e340ae0f79",
   "metadata": {
    "tags": []
   },
   "outputs": [],
   "source": [
    "res = q + target"
   ]
  },
  {
   "cell_type": "code",
   "execution_count": 281,
   "id": "4b466abd-7490-4e7b-a4af-a3c24362bce0",
   "metadata": {
    "tags": []
   },
   "outputs": [
    {
     "data": {
      "text/plain": [
       "0.7303701984172337"
      ]
     },
     "execution_count": 281,
     "metadata": {},
     "output_type": "execute_result"
    }
   ],
   "source": [
    "calculate_similarity(res[0], res[1])"
   ]
  },
  {
   "cell_type": "code",
   "execution_count": 282,
   "id": "5f54f5be-13e7-4a61-979e-4f040951c305",
   "metadata": {
    "tags": []
   },
   "outputs": [
    {
     "data": {
      "text/plain": [
       "0.59278885632763"
      ]
     },
     "execution_count": 282,
     "metadata": {},
     "output_type": "execute_result"
    }
   ],
   "source": [
    "calculate_similarity(res[0], res[2])"
   ]
  },
  {
   "cell_type": "code",
   "execution_count": 283,
   "id": "1160236d-cec6-4561-ab57-44fab24a9c2c",
   "metadata": {
    "tags": []
   },
   "outputs": [
    {
     "data": {
      "text/plain": [
       "0.6279471331523339"
      ]
     },
     "execution_count": 283,
     "metadata": {},
     "output_type": "execute_result"
    }
   ],
   "source": [
    "calculate_similarity(res[0], res[3])"
   ]
  },
  {
   "cell_type": "code",
   "execution_count": 284,
   "id": "000ae13b-f831-48af-bf60-28fe4afb5c11",
   "metadata": {
    "tags": []
   },
   "outputs": [
    {
     "data": {
      "text/plain": [
       "0.6967006719242463"
      ]
     },
     "execution_count": 284,
     "metadata": {},
     "output_type": "execute_result"
    }
   ],
   "source": [
    "calculate_similarity(res[0], res[4])"
   ]
  },
  {
   "cell_type": "code",
   "execution_count": 269,
   "id": "55c649d3-dca6-4276-b228-ff5ab055d985",
   "metadata": {
    "tags": []
   },
   "outputs": [],
   "source": [
    "res = get_cohere_embed([query, target_2, target_4])"
   ]
  },
  {
   "cell_type": "code",
   "execution_count": 270,
   "id": "9d5e909d-f683-487d-8a58-c03e35be66af",
   "metadata": {
    "tags": []
   },
   "outputs": [
    {
     "data": {
      "text/plain": [
       "0.6786642494375739"
      ]
     },
     "execution_count": 270,
     "metadata": {},
     "output_type": "execute_result"
    }
   ],
   "source": [
    "calculate_similarity(res[0], res[1])"
   ]
  },
  {
   "cell_type": "code",
   "execution_count": 271,
   "id": "5709ce2e-278b-48da-a269-0e34212c66f7",
   "metadata": {
    "tags": []
   },
   "outputs": [
    {
     "data": {
      "text/plain": [
       "0.7405165520614296"
      ]
     },
     "execution_count": 271,
     "metadata": {},
     "output_type": "execute_result"
    }
   ],
   "source": [
    "calculate_similarity(res[0], res[2])"
   ]
  },
  {
   "cell_type": "code",
   "execution_count": null,
   "id": "afb326d1-717e-417e-a600-e0b92f71cfa0",
   "metadata": {},
   "outputs": [],
   "source": []
  }
 ],
 "metadata": {
  "kernelspec": {
   "display_name": "jovis-model-py3.10",
   "language": "python",
   "name": "jovis-model-py3.10"
  },
  "language_info": {
   "codemirror_mode": {
    "name": "ipython",
    "version": 3
   },
   "file_extension": ".py",
   "mimetype": "text/x-python",
   "name": "python",
   "nbconvert_exporter": "python",
   "pygments_lexer": "ipython3",
   "version": "3.10.10"
  }
 },
 "nbformat": 4,
 "nbformat_minor": 5
}
