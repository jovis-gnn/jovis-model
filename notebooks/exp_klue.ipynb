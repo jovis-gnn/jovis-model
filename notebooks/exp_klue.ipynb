{
 "cells": [
  {
   "cell_type": "markdown",
   "metadata": {},
   "source": [
    "# Import"
   ]
  },
  {
   "cell_type": "code",
   "execution_count": 1,
   "metadata": {},
   "outputs": [],
   "source": [
    "import os\n",
    "\n",
    "os.chdir(os.path.dirname(os.getcwd()))"
   ]
  },
  {
   "cell_type": "code",
   "execution_count": 2,
   "metadata": {},
   "outputs": [
    {
     "name": "stderr",
     "output_type": "stream",
     "text": [
      "/home/omnious/workspace/jovis/jovis-model/.venv/lib/python3.10/site-packages/tqdm/auto.py:21: TqdmWarning: IProgress not found. Please update jupyter and ipywidgets. See https://ipywidgets.readthedocs.io/en/stable/user_install.html\n",
      "  from .autonotebook import tqdm as notebook_tqdm\n"
     ]
    }
   ],
   "source": [
    "import re\n",
    "from pathlib import Path\n",
    "\n",
    "import pandas as pd\n",
    "import transformers\n",
    "from transformers import AutoTokenizer\n",
    "\n",
    "from jovis_model.config import Config\n",
    "from jovis_model.datasets.klue.ner import NERProcessor"
   ]
  },
  {
   "cell_type": "markdown",
   "metadata": {},
   "source": [
    "# DataLoader"
   ]
  },
  {
   "cell_type": "code",
   "execution_count": 3,
   "metadata": {},
   "outputs": [],
   "source": [
    "params = {\n",
    "    \"pkg\": \"klue\",\n",
    "    \"task\": \"ner\",\n",
    "    \"use_hf_model\": True,\n",
    "    \"params\": {\n",
    "        \"enable_fsdp\": False,\n",
    "        \"use_fp16\": True,\n",
    "    }\n",
    "}\n",
    "\n",
    "config = Config(**params)\n",
    "np = NERProcessor(config=config)"
   ]
  },
  {
   "cell_type": "code",
   "execution_count": 4,
   "metadata": {},
   "outputs": [],
   "source": [
    "train_file_path = \"jovis_model/_db/klue/klue-ner-v1.1/klue-ner-v1.1_train.csv\"\n",
    "doc = pd.read_csv(train_file_path)"
   ]
  },
  {
   "cell_type": "code",
   "execution_count": 5,
   "metadata": {},
   "outputs": [],
   "source": [
    "res = np._create_examples(\n",
    "    file_path=train_file_path,\n",
    "    dataset_type=None\n",
    ")"
   ]
  },
  {
   "cell_type": "code",
   "execution_count": 6,
   "metadata": {},
   "outputs": [],
   "source": [
    "features = np._convert_features(res)"
   ]
  },
  {
   "cell_type": "code",
   "execution_count": 7,
   "metadata": {},
   "outputs": [],
   "source": [
    "label_dict = {idx: l for idx, l in enumerate(sorted(list(np.labels_set)))}"
   ]
  },
  {
   "cell_type": "code",
   "execution_count": 32,
   "metadata": {},
   "outputs": [],
   "source": [
    "test_idx = 9"
   ]
  },
  {
   "cell_type": "code",
   "execution_count": 33,
   "metadata": {},
   "outputs": [],
   "source": [
    "tokens = np.tokenizer.convert_ids_to_tokens(features[test_idx].input_ids)\n",
    "labels = [label_dict[l] for l in features[test_idx].label]"
   ]
  },
  {
   "cell_type": "code",
   "execution_count": 34,
   "metadata": {},
   "outputs": [
    {
     "data": {
      "text/plain": [
       "'다만 너무 <김우빈:PS>의 분량만 많아서 ...ᄒ저는 <이현우:PS>팬이라 ᄒᄒᄒ그래도 재미있었어요'"
      ]
     },
     "execution_count": 34,
     "metadata": {},
     "output_type": "execute_result"
    }
   ],
   "source": [
    "doc.iloc[test_idx].doc"
   ]
  },
  {
   "cell_type": "code",
   "execution_count": 35,
   "metadata": {
    "collapsed": true,
    "jupyter": {
     "outputs_hidden": true
    }
   },
   "outputs": [
    {
     "name": "stdout",
     "output_type": "stream",
     "text": [
      "[CLS]_O\n",
      "다만_O\n",
      "너무_O\n",
      "김우_B-PS\n",
      "##빈_I-PS\n",
      "##의_O\n",
      "분량_O\n",
      "##만_O\n",
      "많_O\n",
      "##아_O\n",
      "##서_O\n",
      "._O\n",
      "._O\n",
      "._O\n",
      "[UNK]_O\n",
      "이현_B-PS\n",
      "##우_I-PS\n",
      "##팬_O\n",
      "##이_O\n",
      "##라_O\n",
      "[UNK]_O\n",
      "재미있_O\n",
      "##었_O\n",
      "##어요_O\n",
      "[SEP]_O\n",
      "[PAD]_O\n",
      "[PAD]_O\n",
      "[PAD]_O\n",
      "[PAD]_O\n",
      "[PAD]_O\n",
      "[PAD]_O\n",
      "[PAD]_O\n",
      "[PAD]_O\n",
      "[PAD]_O\n",
      "[PAD]_O\n",
      "[PAD]_O\n",
      "[PAD]_O\n",
      "[PAD]_O\n",
      "[PAD]_O\n",
      "[PAD]_O\n",
      "[PAD]_O\n",
      "[PAD]_O\n",
      "[PAD]_O\n",
      "[PAD]_O\n",
      "[PAD]_O\n",
      "[PAD]_O\n",
      "[PAD]_O\n",
      "[PAD]_O\n",
      "[PAD]_O\n",
      "[PAD]_O\n",
      "[PAD]_O\n",
      "[PAD]_O\n",
      "[PAD]_O\n",
      "[PAD]_O\n",
      "[PAD]_O\n",
      "[PAD]_O\n",
      "[PAD]_O\n",
      "[PAD]_O\n",
      "[PAD]_O\n",
      "[PAD]_O\n",
      "[PAD]_O\n",
      "[PAD]_O\n",
      "[PAD]_O\n",
      "[PAD]_O\n",
      "[PAD]_O\n",
      "[PAD]_O\n",
      "[PAD]_O\n",
      "[PAD]_O\n",
      "[PAD]_O\n",
      "[PAD]_O\n",
      "[PAD]_O\n",
      "[PAD]_O\n",
      "[PAD]_O\n",
      "[PAD]_O\n",
      "[PAD]_O\n",
      "[PAD]_O\n",
      "[PAD]_O\n",
      "[PAD]_O\n",
      "[PAD]_O\n",
      "[PAD]_O\n",
      "[PAD]_O\n",
      "[PAD]_O\n",
      "[PAD]_O\n",
      "[PAD]_O\n",
      "[PAD]_O\n",
      "[PAD]_O\n",
      "[PAD]_O\n",
      "[PAD]_O\n",
      "[PAD]_O\n",
      "[PAD]_O\n",
      "[PAD]_O\n",
      "[PAD]_O\n",
      "[PAD]_O\n",
      "[PAD]_O\n",
      "[PAD]_O\n",
      "[PAD]_O\n",
      "[PAD]_O\n",
      "[PAD]_O\n",
      "[PAD]_O\n",
      "[PAD]_O\n",
      "[PAD]_O\n",
      "[PAD]_O\n",
      "[PAD]_O\n",
      "[PAD]_O\n",
      "[PAD]_O\n",
      "[PAD]_O\n",
      "[PAD]_O\n",
      "[PAD]_O\n",
      "[PAD]_O\n",
      "[PAD]_O\n",
      "[PAD]_O\n",
      "[PAD]_O\n",
      "[PAD]_O\n",
      "[PAD]_O\n",
      "[PAD]_O\n",
      "[PAD]_O\n",
      "[PAD]_O\n",
      "[PAD]_O\n",
      "[PAD]_O\n",
      "[PAD]_O\n",
      "[PAD]_O\n",
      "[PAD]_O\n",
      "[PAD]_O\n",
      "[PAD]_O\n",
      "[PAD]_O\n",
      "[PAD]_O\n",
      "[PAD]_O\n",
      "[PAD]_O\n"
     ]
    }
   ],
   "source": [
    "for i, l in zip(tokens, labels):\n",
    "    print(f\"{i}_{l}\")"
   ]
  },
  {
   "cell_type": "code",
   "execution_count": null,
   "metadata": {},
   "outputs": [],
   "source": []
  }
 ],
 "metadata": {
  "kernelspec": {
   "display_name": "jovis-model-py3.10",
   "language": "python",
   "name": "jovis-model-py3.10"
  },
  "language_info": {
   "codemirror_mode": {
    "name": "ipython",
    "version": 3
   },
   "file_extension": ".py",
   "mimetype": "text/x-python",
   "name": "python",
   "nbconvert_exporter": "python",
   "pygments_lexer": "ipython3",
   "version": "3.10.10"
  }
 },
 "nbformat": 4,
 "nbformat_minor": 4
}
